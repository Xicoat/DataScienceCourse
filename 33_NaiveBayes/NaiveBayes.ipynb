{
 "cells": [
  {
   "cell_type": "code",
   "execution_count": 1,
   "metadata": {},
   "outputs": [],
   "source": [
    "import numpy as np"
   ]
  },
  {
   "cell_type": "code",
   "execution_count": 3,
   "metadata": {},
   "outputs": [
    {
     "ename": "SyntaxError",
     "evalue": "invalid syntax (1514014997.py, line 10)",
     "output_type": "error",
     "traceback": [
      "\u001b[1;36m  Cell \u001b[1;32mIn[3], line 10\u001b[1;36m\u001b[0m\n\u001b[1;33m    result[current_class][\"total_count\"] = len{Y_train_current}\u001b[0m\n\u001b[1;37m                                              ^\u001b[0m\n\u001b[1;31mSyntaxError\u001b[0m\u001b[1;31m:\u001b[0m invalid syntax\n"
     ]
    }
   ],
   "source": [
    "def fit(X_train, Y_train):\n",
    "    result = {} # Crea diccionario\n",
    "    class_values = set(Y_train) # obtiene valores uicos de Y_train\n",
    "    for current_class in class_values:  # Recorre los valores unicos\n",
    "        result[current_class] = {}  # para cada valor unico crea un diccionario \n",
    "        result[\"total_data\"] = len(Y_train)\n",
    "        current_class_rows = (Y_train == curent_class) # genera una mascara si los valores de Y_train coinciden con el valor unico evaluado\n",
    "        X_train_current = X_train[current_class_rows] # Aplica la mascara a X_train\n",
    "        Y_train_current = Y_train[current_class_rows] # Aplica la mascara a Y_train\n",
    "        num_features = X_train.shape[1] #  obtiene la cantidad de variables independientes (columnas) de X\n",
    "        result[current_class][\"total_count\"] = len{Y_train_current} # guarda el numero de elementos de Y que corresponde al valor unico evaluado\n",
    "        for j in range(1, num_features + 1): # por cada columna de X\n",
    "            result[current_class][j]={} # Se agrega un diccionadio para cada valor unuico de Y evaluado\n",
    "            all_possible_values = set(X_train[:, j]) # Se obtienen los valores unicos de cada variable indepdneidnte de X\n",
    "            for current_value in all_possible_values:   # Se llena el diccionario con \n",
    "                result[current_class][j][current_value] = (X_train_current[:, j] == current_value).sum() # obtiene la cantidad de valores de la feature j"
   ]
  }
 ],
 "metadata": {
  "kernelspec": {
   "display_name": "Python 3",
   "language": "python",
   "name": "python3"
  },
  "language_info": {
   "codemirror_mode": {
    "name": "ipython",
    "version": 3
   },
   "file_extension": ".py",
   "mimetype": "text/x-python",
   "name": "python",
   "nbconvert_exporter": "python",
   "pygments_lexer": "ipython3",
   "version": "3.11.3"
  },
  "orig_nbformat": 4
 },
 "nbformat": 4,
 "nbformat_minor": 2
}
