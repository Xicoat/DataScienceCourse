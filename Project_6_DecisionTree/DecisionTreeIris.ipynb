{
 "cells": [
  {
   "cell_type": "code",
   "execution_count": 42,
   "metadata": {},
   "outputs": [],
   "source": [
    "import numpy as np\n",
    "import pandas as pd\n",
    "\n",
    "class Node:\n",
    "    def __init__(self, X = None, y = None, level = None):\n",
    "        self.X = X\n",
    "        self.y = y\n",
    "        self.level = level\n",
    "        self.left = None\n",
    "        self.right = None\n",
    "        self.feat = None\n",
    "        self.threshold = None\n",
    "        self.gain = None\n",
    "        self.entropy = None\n",
    "        \n",
    "    def _f_y(self):\n",
    "        _y = pd.Series([1 if i == 'Yes' else 0 for i in self.y])\n",
    "        n = len(_y)\n",
    "        a = sum(_y)\n",
    "        b = n-a\n",
    "        if (b != 0):\n",
    "            print(f\"Count of 0 = {b}\")\n",
    "        if (a !=  0):\n",
    "            print(F\"Count of 1 = {a}\")\n",
    "        return ([a,b])\n",
    "        \n",
    "    def _f_X(self, X, y, param = None):\n",
    "        _y = pd.Series([True if i == 'Yes' else False for i in self.y])\n",
    "        if (param != None):\n",
    "            mask = (X == param)\n",
    "            X = X[mask]\n",
    "            _y = _y[mask]\n",
    "        l = []\n",
    "        a = X.value_counts()\n",
    "        b = X[_y].value_counts()\n",
    "        for i in a.index:\n",
    "            if i in b:\n",
    "                l.append([b[i], a[i]-b[i]])\n",
    "        return(l)\n",
    "        \n",
    "    def _entropy(self, l):\n",
    "        n = len(l)\n",
    "        total = sum(l)\n",
    "        h = 0\n",
    "        for i in l:\n",
    "            if i == 0:\n",
    "                h -= 0\n",
    "            else:\n",
    "                h -= (i/total)*np.log2(i/total)\n",
    "        return (h)\n",
    "    \n",
    "    def _get_gain(self):\n",
    "        initial_entropy = self._entropy(self._f_y())\n",
    "        maxGain = float('-inf')\n",
    "        param = ''\n",
    "        for i in self.X:\n",
    "            ex_Inf = self._expected_inf(self._f_X(self.X[i], self.y))\n",
    "            gain = initial_entropy - ex_Inf\n",
    "            if (gain > maxGain):\n",
    "                maxGain = gain\n",
    "                param = i\n",
    "        return param, maxGain, initial_entropy\n",
    "    \n",
    "    def _expected_inf(self, l):\n",
    "        total = 0\n",
    "        for i in l:\n",
    "            total += sum(i)\n",
    "        inf = 0\n",
    "        for i in l:\n",
    "            h = self._entropy(i)\n",
    "            inf += (sum(i)/total)*h\n",
    "        return (inf)\n",
    "    \n",
    "    def get_threshold(self):\n",
    "        thresholds = self.X[self.feat].unique()\n",
    "        less_entropy = float('inf')\n",
    "        best_threshold = 0 \n",
    "        for i in thresholds:\n",
    "            mask_minus = self.X[self.feat] <= i\n",
    "            mask_plus = self.X[self.feat] > i\n",
    "            entropy_minus = self._entropy(self.y[mask_minus])\n",
    "            entropy_plus = self._entropy(self.y[mask_plus])\n",
    "            len_minus = len(self.y[mask_minus])\n",
    "            len_plus = len(self.y[mask_plus])\n",
    "            weighted_entropy = ((entropy_minus * len_minus) + (entropy_plus * len_plus)) / len(self.X)\n",
    "            if weighted_entropy < less_entropy:\n",
    "                less_entropy = weighted_entropy\n",
    "                best_threshold = i\n",
    "        return best_threshold\n",
    "    \n",
    "    def update_node(self):\n",
    "        self.feat, self.gain, self.entropy = self._get_gain()\n",
    "        self.threshold = self.get_threshold()\n",
    "        return\n",
    "    \n",
    "    def print_Node(self):\n",
    "        print(f\"\\nLevel {self.level}\")\n",
    "        print(f\"Current Entropy at is = {self.entropy}\")\n",
    "        if (self.entropy <= 0):\n",
    "            print(\"Reached leaf Node\")\n",
    "            return\n",
    "        else:\n",
    "            print(f\"Splitting on feature = {self.feat} with gain ratio {self.gain}\")\n",
    "            return"
   ]
  },
  {
   "cell_type": "code",
   "execution_count": 43,
   "metadata": {},
   "outputs": [],
   "source": [
    "class Tree:\n",
    "    \n",
    "    def __init__(self, X = None, y = None, level = None):\n",
    "        self.X = X\n",
    "        self.y = y\n",
    "        self.level = 0\n",
    "        self.root=None\n",
    "    \n",
    "    def make_tree(self, X, y, level = 0):\n",
    "        print(\"\\n\")\n",
    "        new_node = Node(X, y, level)\n",
    "        new_node.update_node()\n",
    "        self.root = new_node\n",
    "        print(f\"Current Entropy at is = {new_node.entropy}\")\n",
    "        if (new_node.entropy <= 0):\n",
    "            print(\"Reached leaf Node\")\n",
    "            return new_node\n",
    "        print(f\"Splitting on feature = {new_node.feat} with gain ratio {new_node.gain}\")\n",
    "        mask_left = X[new_node.feat] <= threshold\n",
    "        mask_right = X[new_node.feat] > threshold\n",
    "        new_node.left = self.make_tree(X[mask_left], y[mask_left], level = new_node.level+1)\n",
    "        new_node.right = self.make_tree(X[mask_right], y[mask_right], level = new_node.level+1)\n",
    "        return new_node\n",
    "            \n",
    "    def split(self, X, y, feature = None, category = None):\n",
    "        if feature == None:\n",
    "            return 0\n",
    "        mask = X[feature] == category\n",
    "        t_y = y[mask].reset_index(drop=True)\n",
    "        t_X = X[mask].reset_index(drop=True)\n",
    "        t_X = t_X.drop(feature, axis = 1)\n",
    "        return t_X, t_y"
   ]
  },
  {
   "cell_type": "code",
   "execution_count": 44,
   "metadata": {},
   "outputs": [],
   "source": [
    "def inOrderPrint(r):\n",
    "    if r is None:\n",
    "        return \n",
    "    else :\n",
    "        inOrderPrint(r.left)\n",
    "        print(f\"Level {r.level}\")\n",
    "        yes_count = r.y.value_counts().get('Yes', 0)\n",
    "        no_count = r.y.value_counts().get('No', 0)\n",
    "        if (yes_count != 0):\n",
    "            print(f\"Count of 1 = {yes_count}\")\n",
    "        if (no_count != 0):\n",
    "            print(F\"Count of 0 = {no_count}\")\n",
    "        print(f\"Currency Entropy at is {r.entropy}\")\n",
    "        if (r.entropy <= 0):\n",
    "            print(\"Reached leaf Node\\n\")\n",
    "        else:\n",
    "            print(f\"Splitting on feature = {r.feat}with gain ratio {r.gain}\\n\")\n",
    "        inOrderPrint(r.right)"
   ]
  },
  {
   "cell_type": "code",
   "execution_count": 53,
   "metadata": {},
   "outputs": [],
   "source": [
    "from sklearn.datasets import load_iris\n",
    "import pandas as pd\n",
    "iris = load_iris()\n",
    "df = pd.DataFrame(data=iris.data, columns=iris.feature_names)\n",
    "df['target'] = iris.target\n",
    "\n",
    "X = df.copy()\n",
    "y = df['target'] .copy()"
   ]
  },
  {
   "cell_type": "code",
   "execution_count": 55,
   "metadata": {},
   "outputs": [
    {
     "name": "stdout",
     "output_type": "stream",
     "text": [
      "\n",
      "\n",
      "Count of 0 = 150\n",
      "Current Entropy at is = 0.0\n",
      "Reached leaf Node\n"
     ]
    }
   ],
   "source": [
    "tree = Tree(X, y)\n",
    "root = tree.make_tree(X, y)\n"
   ]
  },
  {
   "cell_type": "code",
   "execution_count": 54,
   "metadata": {},
   "outputs": [
    {
     "data": {
      "text/plain": [
       "pandas.core.series.Series"
      ]
     },
     "execution_count": 54,
     "metadata": {},
     "output_type": "execute_result"
    }
   ],
   "source": [
    "type(y)"
   ]
  },
  {
   "cell_type": "code",
   "execution_count": 58,
   "metadata": {},
   "outputs": [
    {
     "data": {
      "text/plain": [
       "0      0\n",
       "1      0\n",
       "2      0\n",
       "3      0\n",
       "4      0\n",
       "      ..\n",
       "145    2\n",
       "146    2\n",
       "147    2\n",
       "148    2\n",
       "149    2\n",
       "Name: target, Length: 150, dtype: int32"
      ]
     },
     "execution_count": 58,
     "metadata": {},
     "output_type": "execute_result"
    }
   ],
   "source": [
    "y"
   ]
  },
  {
   "cell_type": "code",
   "execution_count": 56,
   "metadata": {},
   "outputs": [
    {
     "data": {
      "text/plain": [
       "target\n",
       "0    50\n",
       "1    50\n",
       "2    50\n",
       "Name: count, dtype: int64"
      ]
     },
     "execution_count": 56,
     "metadata": {},
     "output_type": "execute_result"
    }
   ],
   "source": [
    "root.y.value_counts()"
   ]
  },
  {
   "cell_type": "code",
   "execution_count": 57,
   "metadata": {},
   "outputs": [
    {
     "name": "stdout",
     "output_type": "stream",
     "text": [
      "Level 0\n",
      "Currency Entropy at is 0.0\n",
      "Reached leaf Node\n",
      "\n"
     ]
    }
   ],
   "source": [
    "inOrderPrint(root)"
   ]
  }
 ],
 "metadata": {
  "kernelspec": {
   "display_name": "Python 3",
   "language": "python",
   "name": "python3"
  },
  "language_info": {
   "codemirror_mode": {
    "name": "ipython",
    "version": 3
   },
   "file_extension": ".py",
   "mimetype": "text/x-python",
   "name": "python",
   "nbconvert_exporter": "python",
   "pygments_lexer": "ipython3",
   "version": "3.11.3"
  },
  "orig_nbformat": 4
 },
 "nbformat": 4,
 "nbformat_minor": 2
}
