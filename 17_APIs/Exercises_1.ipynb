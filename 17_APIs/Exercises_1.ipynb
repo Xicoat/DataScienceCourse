{
 "cells": [
  {
   "attachments": {},
   "cell_type": "markdown",
   "metadata": {},
   "source": [
    "## Hound sub-breeds\n",
    "\n",
    "Print all sub-breeds of hound by making a get request to given URL.\n",
    "URL : https://dog.ceo/api/breeds/list/all\n",
    "Print name of sub-breeds in different lines."
   ]
  },
  {
   "cell_type": "code",
   "execution_count": 13,
   "metadata": {},
   "outputs": [
    {
     "name": "stdout",
     "output_type": "stream",
     "text": [
      "200\n",
      "['afghan', 'basset', 'blood', 'english', 'ibizan', 'plott', 'walker']\n",
      "afghan\n",
      "basset\n",
      "blood\n",
      "english\n",
      "ibizan\n",
      "plott\n",
      "walker\n"
     ]
    }
   ],
   "source": [
    "\n",
    "import requests\n",
    "\n",
    "response = requests.get('https://dog.ceo/api/breeds/list/all')\n",
    "data = response.json()\n",
    "\n",
    "for i in data['message']['hound'] : \n",
    "    print(i)\n"
   ]
  },
  {
   "attachments": {},
   "cell_type": "markdown",
   "metadata": {},
   "source": [
    "## Poodle sub breeds count\n",
    "\n",
    "Print the count of total sub-breeds of poodle from this URL : https://dog.ceo/api/breeds/list/all/."
   ]
  },
  {
   "cell_type": "code",
   "execution_count": 17,
   "metadata": {},
   "outputs": [
    {
     "name": "stdout",
     "output_type": "stream",
     "text": [
      "4\n"
     ]
    }
   ],
   "source": [
    "import requests\n",
    "\n",
    "response = requests.get('https://dog.ceo/api/breeds/list/all')\n",
    "data = response.json()\n",
    "\n",
    "print(len(data['message']['poodle']))\n"
   ]
  },
  {
   "attachments": {},
   "cell_type": "markdown",
   "metadata": {},
   "source": [
    "## CN Online Courses\n",
    "Print name of all online courses offered by Coding Ninjas. You can fetch the data using their open API :\n",
    "https://api.codingninjas.com/api/v3/courses ."
   ]
  },
  {
   "cell_type": "code",
   "execution_count": 23,
   "metadata": {},
   "outputs": [
    {
     "name": "stdout",
     "output_type": "stream",
     "text": [
      "Premium Competitive Programming Course\n",
      "C++ Foundation with Data Structures\n",
      "Aptitude for professionals\n",
      "Premium Data Science Course\n",
      "Premium Android App Development\n",
      "Premium Machine Learning Course\n",
      "Premium Data structures and Algorithms [C++/Java/Python]\n",
      "System Design Course\n",
      "Ninja Competitive Programmer Track\n",
      "Premium Full Stack Web Development\n",
      "Machine Learning & Deep Learning Course\n",
      "Advanced  Front-End Web Development with React\n",
      "JAVA Foundation with Data Structures\n",
      "Ninja Android Developer Career Track \n",
      "Full Stack Web Development\n",
      "Interview Preparation Course\n",
      "Data Science & Machine Learning Complete\n",
      "Grokking the Operating Systems Interview\n",
      "Ninja  Web Developer Career Track - NodeJS & ReactJs\n",
      "Ninja  Web Developer Career Track - NodeJS\n",
      "Competitive Programming Course\n",
      "Android Development with Kotlin\n",
      "Python Foundation with Data Structures\n",
      "Ninja Data Scientist Career Track\n",
      "Ninja Machine Learning Engineer Career Track\n",
      "Aptitude Preparation Course\n"
     ]
    }
   ],
   "source": [
    "import requests\n",
    "\n",
    "response = requests.get('https://api.codingninjas.com/api/v3/courses')\n",
    "data = response.json()\n",
    "data = data['data']\n",
    "courses = data['courses']\n",
    "\n",
    "for i in courses : \n",
    "    print(i['name'])"
   ]
  },
  {
   "cell_type": "code",
   "execution_count": 29,
   "metadata": {},
   "outputs": [
    {
     "name": "stdout",
     "output_type": "stream",
     "text": [
      "Ready to solve fun, challenging problems?\n"
     ]
    }
   ],
   "source": [
    "import requests\n",
    "\n",
    "response = requests.get('https://api.codingninjas.com/api/v3/events?event_category=ALL_EVENTS&event_sub_category=All%20Time%20Favorites&tag_list=&offset=0')\n",
    "data = response.json()\n",
    "data = data['data']\n",
    "events = data['events']\n",
    "\n",
    "if(len(data['events']) < 1) :\n",
    "    print(\"No Events !\")\n",
    "else :\n",
    "    desc = events[0]['short_desc']\n",
    "    print(desc)\n"
   ]
  },
  {
   "attachments": {},
   "cell_type": "markdown",
   "metadata": {},
   "source": [
    "## Title of course\n",
    "\n",
    "Print the title of course with id=19.\n",
    "URL : http://api.codingninjas.com/api/v3/courses\n"
   ]
  },
  {
   "cell_type": "code",
   "execution_count": 14,
   "metadata": {},
   "outputs": [
    {
     "name": "stdout",
     "output_type": "stream",
     "text": [
      "200\n",
      "https://api.codingninjas.com:443/api/v3/courses\n",
      "Machine Learning\n"
     ]
    }
   ],
   "source": [
    "import requests\n",
    "\n",
    "response = requests.get('http://api.codingninjas.com/api/v3/courses')\n",
    "\n",
    "data = response.json()\n",
    "data = data['data']['courses']\n",
    "\n",
    "for i in data : \n",
    "    if (i['id'] == 19) : \n",
    "        print(i['title'])\n",
    "    "
   ]
  },
  {
   "attachments": {},
   "cell_type": "markdown",
   "metadata": {},
   "source": [
    "## Total number of cities\n",
    "\n",
    "Count the total number of cities of country AU from this URL :\n",
    "https://api.openaq.org/v2/cities"
   ]
  },
  {
   "cell_type": "code",
   "execution_count": 31,
   "metadata": {},
   "outputs": [
    {
     "name": "stdout",
     "output_type": "stream",
     "text": [
      "200\n",
      "88\n"
     ]
    }
   ],
   "source": [
    "import requests\n",
    "from collections import Counter \n",
    "\n",
    "url = 'https://api.openaq.org/v2/cities'\n",
    "par = {'country': 'AU'}\n",
    "\n",
    "response = requests.get(url, params=par)\n",
    "data = response.json()\n",
    "data = data['results']\n",
    "\n",
    "count = 0\n",
    "count = Counter(i['city'] for i in data if i['country'] == 'AU')\n",
    "\n",
    "print(len(count))  \n"
   ]
  },
  {
   "attachments": {},
   "cell_type": "markdown",
   "metadata": {},
   "source": [
    "## Cities from BE\n",
    "\n",
    "Print first 5 cities from country “BE”. Fetch the result from given URL.\n",
    "Order the results by city.\n",
    "URL - https://api.openaq.org/v1/cities\n",
    "Documentation - https://docs.openaq.org/"
   ]
  },
  {
   "cell_type": "code",
   "execution_count": 35,
   "metadata": {},
   "outputs": [
    {
     "name": "stdout",
     "output_type": "stream",
     "text": [
      "Antwerpen\n",
      "Brabant wallon\n",
      "Brussels-Capital Region\n",
      "Flanders\n",
      "Hainaut\n"
     ]
    }
   ],
   "source": [
    "import requests\n",
    "from collections import Counter \n",
    "\n",
    "url = 'https://api.openaq.org/v1/cities'\n",
    "par = {'country': 'BE', 'limit' : 5}\n",
    "\n",
    "response = requests.get(url, params=par)\n",
    "data = response.json()\n",
    "data = data['results']\n",
    "\n",
    "for i in data : \n",
    "    print(i['city'])\n"
   ]
  },
  {
   "attachments": {},
   "cell_type": "markdown",
   "metadata": {},
   "source": [
    "## Passing parameters II"
   ]
  },
  {
   "attachments": {},
   "cell_type": "markdown",
   "metadata": {},
   "source": [
    "### NASA API"
   ]
  },
  {
   "cell_type": "code",
   "execution_count": 41,
   "metadata": {},
   "outputs": [
    {
     "name": "stdout",
     "output_type": "stream",
     "text": [
      "200\n",
      "https://api.nasa.gov/planetary/apod?api_key=DEMO_KEY\n"
     ]
    }
   ],
   "source": [
    "url = 'https://api.nasa.gov/planetary/apod'\n",
    "par = {'api_key': 'DEMO_KEY'}\n",
    "\n",
    "response = requests.get(url, params = par)\n",
    "print(response.status_code)\n",
    "print(response.url)"
   ]
  },
  {
   "attachments": {},
   "cell_type": "markdown",
   "metadata": {},
   "source": [
    "## USA WOEID\n",
    "Make an API call to -\n",
    "https://api.openweathermap.org/data/2.5/weather\n",
    "\n",
    "Search for \"Hyderabad\" and print weather report and Temperature.\n",
    "please go through the document to create your API Key and Print the answer.\n",
    "Output format:\n",
    "<City Name >\n",
    "Temperature: < >\n",
    "Weather Report: < >"
   ]
  },
  {
   "cell_type": "code",
   "execution_count": 84,
   "metadata": {},
   "outputs": [
    {
     "name": "stdout",
     "output_type": "stream",
     "text": [
      "Hyderabad\n",
      "Temperature: 310.9\n",
      "Weather Report: scattered clouds\n",
      "\n"
     ]
    }
   ],
   "source": [
    "BASE_URL = \"https://api.openweathermap.org/data/2.5/weather?\"\n",
    "CITY = \"Hyderabad\"\n",
    "API_KEY = '66a28422a24af3d6193a80179326964d'\n",
    "URL = BASE_URL + \"q=\" + CITY + \"&appid=\" + API_KEY\n",
    "# HTTP request\n",
    "response = requests.get(URL)\n",
    "\n",
    "data = response.json()\n",
    "weather = data['weather']\n",
    "temperature = data['main']['temp']\n",
    "\n",
    "print(data['name'])\n",
    "print(\"Temperature:\", temperature)\n",
    "print('Weather Report:', weather[0]['description'])\n",
    "\n"
   ]
  },
  {
   "attachments": {},
   "cell_type": "markdown",
   "metadata": {},
   "source": [
    "## Holiday\n",
    "\n",
    "Find the name of the holiday on 2nd October in the country India.\n",
    "You can read the documentation here: https://holidayapi.com/\n",
    "API Link to be used -\n",
    "https://holidayapi.com/v1/holidays\n",
    "\n",
    "Note\n",
    "You can only fetch the last year's data using the holidayapi. So, if you are running this code in 2023 then use the date as 2nd October 2022."
   ]
  },
  {
   "cell_type": "code",
   "execution_count": 77,
   "metadata": {},
   "outputs": [
    {
     "name": "stdout",
     "output_type": "stream",
     "text": [
      "200\n",
      "https://holidayapi.com/v1/holidays?pretty=&country=IN&year=2022&key=2d2e4ae0-ff84-49cb-b87b-569a5c7759e7\n",
      "Mahatma Gandhi's Birthday\n"
     ]
    }
   ],
   "source": [
    "import requests\n",
    "\n",
    "url = 'https://holidayapi.com/v1/holidays'\n",
    "api_key = '2d2e4ae0-ff84-49cb-b87b-569a5c7759e7'\n",
    "\n",
    "params = {\n",
    "    'pretty': '',\n",
    "    'country': 'IN',\n",
    "    'year': '2022',\n",
    "    'key': api_key\n",
    "}\n",
    "\n",
    "response = requests.get(url, params=params)\n",
    "print(response.status_code)\n",
    "print(response.url)\n",
    "\n",
    "data = response.json()\n",
    "data = data['holidays']\n",
    "\n",
    "for i in data : \n",
    "    if i['date'] == '2022-10-02' :\n",
    "        print(i['name'])"
   ]
  },
  {
   "attachments": {},
   "cell_type": "markdown",
   "metadata": {},
   "source": [
    "## POST Request"
   ]
  },
  {
   "cell_type": "code",
   "execution_count": 87,
   "metadata": {},
   "outputs": [
    {
     "name": "stdout",
     "output_type": "stream",
     "text": [
      "<Response [200]>\n",
      "{\n",
      "  \"args\": {}, \n",
      "  \"data\": \"\", \n",
      "  \"files\": {}, \n",
      "  \"form\": {}, \n",
      "  \"headers\": {\n",
      "    \"Accept\": \"*/*\", \n",
      "    \"Accept-Encoding\": \"gzip, deflate\", \n",
      "    \"Content-Length\": \"0\", \n",
      "    \"Host\": \"httpbin.org\", \n",
      "    \"User-Agent\": \"python-requests/2.28.2\", \n",
      "    \"X-Amzn-Trace-Id\": \"Root=1-643e39c9-5af4d7e67dd4ec67144c8433\"\n",
      "  }, \n",
      "  \"json\": null, \n",
      "  \"origin\": \"189.216.66.149\", \n",
      "  \"url\": \"http://httpbin.org/post\"\n",
      "}\n",
      "\n"
     ]
    }
   ],
   "source": [
    "import requests\n",
    "response = requests.post('http://httpbin.org/post')\n",
    "print(response)\n",
    "print(response.text)\n"
   ]
  },
  {
   "cell_type": "code",
   "execution_count": 91,
   "metadata": {},
   "outputs": [
    {
     "name": "stdout",
     "output_type": "stream",
     "text": [
      "<Response [200]>\n",
      "{\n",
      "  \"args\": {}, \n",
      "  \"data\": \"\", \n",
      "  \"files\": {}, \n",
      "  \"form\": {\n",
      "    \"Key1\": \"val1\", \n",
      "    \"Key2\": \"val2\"\n",
      "  }, \n",
      "  \"headers\": {\n",
      "    \"Accept\": \"*/*\", \n",
      "    \"Accept-Encoding\": \"gzip, deflate\", \n",
      "    \"Content-Length\": \"19\", \n",
      "    \"Content-Type\": \"application/x-www-form-urlencoded\", \n",
      "    \"Host\": \"httpbin.org\", \n",
      "    \"User-Agent\": \"python-requests/2.28.2\", \n",
      "    \"X-Amzn-Trace-Id\": \"Root=1-643e3cc3-7a94c977034f509b49aed4da\"\n",
      "  }, \n",
      "  \"json\": null, \n",
      "  \"origin\": \"189.216.66.149\", \n",
      "  \"url\": \"http://httpbin.org/post\"\n",
      "}\n",
      "\n"
     ]
    }
   ],
   "source": [
    "response = requests.post('http://httpbin.org/post', data = {'Key1' : 'val1', 'Key2' : 'val2'})\n",
    "print(response)\n",
    "print(response.text)"
   ]
  },
  {
   "cell_type": "code",
   "execution_count": 93,
   "metadata": {},
   "outputs": [
    {
     "name": "stdout",
     "output_type": "stream",
     "text": [
      "<Response [200]>\n",
      "{\n",
      "  \"args\": {}, \n",
      "  \"data\": \"\", \n",
      "  \"files\": {}, \n",
      "  \"form\": {\n",
      "    \"Key1\": \"val1\", \n",
      "    \"Key2\": \"val2\", \n",
      "    \"Key3\": \"val3\"\n",
      "  }, \n",
      "  \"headers\": {\n",
      "    \"Accept\": \"*/*\", \n",
      "    \"Accept-Encoding\": \"gzip, deflate\", \n",
      "    \"Content-Length\": \"29\", \n",
      "    \"Content-Type\": \"application/x-www-form-urlencoded\", \n",
      "    \"Host\": \"httpbin.org\", \n",
      "    \"User-Agent\": \"python-requests/2.28.2\", \n",
      "    \"X-Amzn-Trace-Id\": \"Root=1-643e3d30-0825e8344d326367263ce579\"\n",
      "  }, \n",
      "  \"json\": null, \n",
      "  \"origin\": \"189.216.66.149\", \n",
      "  \"url\": \"http://httpbin.org/post\"\n",
      "}\n",
      "\n"
     ]
    }
   ],
   "source": [
    "response = requests.post('http://httpbin.org/post', data = {'Key1' : 'val1', 'Key2' : 'val2', 'Key3' : 'val3'})\n",
    "print(response)\n",
    "print(response.text) "
   ]
  },
  {
   "attachments": {},
   "cell_type": "markdown",
   "metadata": {},
   "source": [
    "#### Create new post"
   ]
  },
  {
   "cell_type": "code",
   "execution_count": 97,
   "metadata": {},
   "outputs": [
    {
     "name": "stdout",
     "output_type": "stream",
     "text": [
      "<Response [201]>\n",
      "{\n",
      "  \"id\": 101\n",
      "}\n"
     ]
    }
   ],
   "source": [
    "r = requests.post('https://jsonplaceholder.typicode.com/posts')\n",
    "print(r)\n",
    "print(r.text)"
   ]
  },
  {
   "cell_type": "code",
   "execution_count": 99,
   "metadata": {},
   "outputs": [
    {
     "name": "stdout",
     "output_type": "stream",
     "text": [
      "<Response [201]>\n",
      "{\n",
      "  \"userId\": \"2\",\n",
      "  \"<built-in function id>\": \"200\",\n",
      "  \"title\": \"test\",\n",
      "  \"id\": 101\n",
      "}\n"
     ]
    }
   ],
   "source": [
    "r = requests.post('https://jsonplaceholder.typicode.com/posts', data = {\"userId\" : 2, id : 200, 'title' : 'test'})\n",
    "print(r)\n",
    "print(r.text)"
   ]
  },
  {
   "cell_type": "code",
   "execution_count": null,
   "metadata": {},
   "outputs": [],
   "source": []
  }
 ],
 "metadata": {
  "kernelspec": {
   "display_name": "Python 3",
   "language": "python",
   "name": "python3"
  },
  "language_info": {
   "codemirror_mode": {
    "name": "ipython",
    "version": 3
   },
   "file_extension": ".py",
   "mimetype": "text/x-python",
   "name": "python",
   "nbconvert_exporter": "python",
   "pygments_lexer": "ipython3",
   "version": "3.10.0 (tags/v3.10.0:b494f59, Oct  4 2021, 19:00:18) [MSC v.1929 64 bit (AMD64)]"
  },
  "orig_nbformat": 4,
  "vscode": {
   "interpreter": {
    "hash": "1cb3211df066898bfa33f604a9f08045f479368c210eaa95a0a200394b2af790"
   }
  }
 },
 "nbformat": 4,
 "nbformat_minor": 2
}
