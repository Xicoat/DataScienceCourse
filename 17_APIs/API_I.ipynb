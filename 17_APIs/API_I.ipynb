{
 "cells": [
  {
   "attachments": {},
   "cell_type": "markdown",
   "metadata": {},
   "source": [
    "Get"
   ]
  },
  {
   "cell_type": "code",
   "execution_count": null,
   "metadata": {},
   "outputs": [],
   "source": [
    "import requests\n",
    "response = requests.get('https://codingninjas.in/api/v3/courses')\n",
    "print(response.status_code)\n",
    "print(response.encoding)\n",
    "# print(response.text)\n",
    "print(response.url)\n",
    "print(type(response.headers))\n",
    "print(response.headers)\n",
    "header_info = response.headers\n",
    "print(header_info['Date'])\n",
    "print(header_info['content-Lenght'])\n",
    "print(header_info['Content-type'])\n"
   ]
  },
  {
   "attachments": {},
   "cell_type": "markdown",
   "metadata": {},
   "source": [
    "Response"
   ]
  },
  {
   "cell_type": "code",
   "execution_count": 10,
   "metadata": {},
   "outputs": [
    {
     "name": "stdout",
     "output_type": "stream",
     "text": [
      "404\n",
      "UTF-8\n"
     ]
    }
   ],
   "source": [
    "import requests\n",
    "response = requests.get('http://api.open-notify.org/iss-pass')\n",
    "print(response.status_code)\n",
    "print(response.encoding)"
   ]
  },
  {
   "attachments": {},
   "cell_type": "markdown",
   "metadata": {},
   "source": [
    "Content Type"
   ]
  },
  {
   "cell_type": "code",
   "execution_count": 16,
   "metadata": {},
   "outputs": [
    {
     "name": "stdout",
     "output_type": "stream",
     "text": [
      "text/html\n"
     ]
    }
   ],
   "source": [
    "import requests\n",
    "url = 'https://codingninjas.in/api/v3/events'\n",
    "\n",
    "response = requests.get(url)\n",
    "header_info = response.headers\n",
    "print(header_info['Content-type'])\n",
    "\n"
   ]
  },
  {
   "attachments": {},
   "cell_type": "markdown",
   "metadata": {},
   "source": [
    "JSON to Python"
   ]
  },
  {
   "attachments": {},
   "cell_type": "markdown",
   "metadata": {},
   "source": [
    "Object to dict"
   ]
  },
  {
   "cell_type": "code",
   "execution_count": 18,
   "metadata": {},
   "outputs": [
    {
     "name": "stdout",
     "output_type": "stream",
     "text": [
      "{'Student': 'Mohit'}\n",
      "<class 'dict'>\n",
      "Mohit\n"
     ]
    }
   ],
   "source": [
    "import json\n",
    "json_data = '{\"Student\" : \"Mohit\"}'\n",
    "python_data = json.loads(json_data)\n",
    "print(python_data)\n",
    "print(type(python_data))\n",
    "print(python_data['Student'])"
   ]
  },
  {
   "attachments": {},
   "cell_type": "markdown",
   "metadata": {},
   "source": [
    "Object to float"
   ]
  },
  {
   "cell_type": "code",
   "execution_count": 19,
   "metadata": {},
   "outputs": [
    {
     "name": "stdout",
     "output_type": "stream",
     "text": [
      "101.2\n",
      "<class 'float'>\n"
     ]
    }
   ],
   "source": [
    "json_data = '{\"roll_number\" : 101.2}'\n",
    "python_data = json.loads(json_data)\n",
    "print(python_data['roll_number'])\n",
    "print(type(python_data['roll_number']))\n"
   ]
  },
  {
   "attachments": {},
   "cell_type": "markdown",
   "metadata": {},
   "source": [
    "null to None"
   ]
  },
  {
   "cell_type": "code",
   "execution_count": 20,
   "metadata": {},
   "outputs": [
    {
     "name": "stdout",
     "output_type": "stream",
     "text": [
      "None\n",
      "<class 'NoneType'>\n"
     ]
    }
   ],
   "source": [
    "python_data\n"
   ]
  },
  {
   "attachments": {},
   "cell_type": "markdown",
   "metadata": {},
   "source": [
    "String to str\n"
   ]
  },
  {
   "cell_type": "code",
   "execution_count": 23,
   "metadata": {},
   "outputs": [
    {
     "name": "stdout",
     "output_type": "stream",
     "text": [
      "Mohit\n",
      "101\n"
     ]
    }
   ],
   "source": [
    "json_data = '{\"Student\": {\"Name\" : \"Mohit\", \"Roll_No\" : \"101\"}}'\n",
    "python_data = json.loads(json_data)\n",
    "\n",
    "student_details = python_data['Student']\n",
    "print(student_details['Name'])\n",
    "print(student_details['Roll_No'])"
   ]
  },
  {
   "cell_type": "code",
   "execution_count": 29,
   "metadata": {},
   "outputs": [
    {
     "name": "stdout",
     "output_type": "stream",
     "text": [
      "<class 'dict'>\n",
      "<class 'list'>\n"
     ]
    }
   ],
   "source": [
    "json_data = '{\"Fruits\" : [\"Apple\", \"Orange\", \"mango\", \"Guava\"]}'\n",
    "python_data =  json.loads(json_data)\n",
    "print(type(python_data))\n",
    "print(type(python_data['Fruits']))"
   ]
  },
  {
   "cell_type": "code",
   "execution_count": null,
   "metadata": {},
   "outputs": [],
   "source": []
  }
 ],
 "metadata": {
  "kernelspec": {
   "display_name": "Python 3",
   "language": "python",
   "name": "python3"
  },
  "language_info": {
   "codemirror_mode": {
    "name": "ipython",
    "version": 3
   },
   "file_extension": ".py",
   "mimetype": "text/x-python",
   "name": "python",
   "nbconvert_exporter": "python",
   "pygments_lexer": "ipython3",
   "version": "3.10.0 (tags/v3.10.0:b494f59, Oct  4 2021, 19:00:18) [MSC v.1929 64 bit (AMD64)]"
  },
  "orig_nbformat": 4,
  "vscode": {
   "interpreter": {
    "hash": "1cb3211df066898bfa33f604a9f08045f479368c210eaa95a0a200394b2af790"
   }
  }
 },
 "nbformat": 4,
 "nbformat_minor": 2
}
