{
 "cells": [
  {
   "attachments": {},
   "cell_type": "markdown",
   "metadata": {},
   "source": [
    "# NumPy Arrays 1D & 2D"
   ]
  },
  {
   "cell_type": "code",
   "execution_count": 2,
   "metadata": {},
   "outputs": [
    {
     "name": "stdout",
     "output_type": "stream",
     "text": [
      "[1 2 3]\n",
      "<class 'numpy.ndarray'>\n"
     ]
    }
   ],
   "source": [
    "import numpy as np\n",
    "\n",
    "a = [1, 2, 3]\n",
    "b = np.array(a)\n",
    "\n",
    "print(b)\n",
    "print(type(b))"
   ]
  },
  {
   "cell_type": "code",
   "execution_count": 3,
   "metadata": {},
   "outputs": [
    {
     "name": "stdout",
     "output_type": "stream",
     "text": [
      "['1' '2' '3' '5' '4' '5']\n"
     ]
    }
   ],
   "source": [
    "a = [1, 2, 3, '5', 4, 5]\n",
    "b = np.array(a, dtype = str)\n",
    "print(b)"
   ]
  },
  {
   "cell_type": "code",
   "execution_count": 4,
   "metadata": {},
   "outputs": [
    {
     "name": "stdout",
     "output_type": "stream",
     "text": [
      "['1' '2' '3' '5' '4' '5' '1' '2' '3' '5' '4' '5' '1' '2' '3' '5' '4' '5']\n"
     ]
    }
   ],
   "source": [
    "a = [1, 2, 3, '5', 4, 5]\n",
    "b = np.array(a * 3)\n",
    "print(b)"
   ]
  },
  {
   "attachments": {},
   "cell_type": "markdown",
   "metadata": {},
   "source": [
    "### np zeros"
   ]
  },
  {
   "cell_type": "code",
   "execution_count": 5,
   "metadata": {},
   "outputs": [
    {
     "data": {
      "text/plain": [
       "array([0, 0, 0])"
      ]
     },
     "execution_count": 5,
     "metadata": {},
     "output_type": "execute_result"
    }
   ],
   "source": [
    "b = np.zeros(3, dtype = int)\n",
    "b"
   ]
  },
  {
   "cell_type": "code",
   "execution_count": 7,
   "metadata": {},
   "outputs": [
    {
     "name": "stdout",
     "output_type": "stream",
     "text": [
      "[[0 0 0]\n",
      " [0 0 0]]\n",
      "[[0. 0. 0.]\n",
      " [0. 0. 0.]]\n"
     ]
    }
   ],
   "source": [
    "b = np.zeros((2, 3), dtype = int)\n",
    "print(b)\n",
    "\n",
    "c = np.zeros((2, 3))\n",
    "print(c)\n"
   ]
  },
  {
   "attachments": {},
   "cell_type": "markdown",
   "metadata": {},
   "source": [
    "### np ones"
   ]
  },
  {
   "cell_type": "code",
   "execution_count": 6,
   "metadata": {},
   "outputs": [
    {
     "data": {
      "text/plain": [
       "array([[1, 1, 1],\n",
       "       [1, 1, 1]])"
      ]
     },
     "execution_count": 6,
     "metadata": {},
     "output_type": "execute_result"
    }
   ],
   "source": [
    "b = np.ones((2, 3), dtype = int)\n",
    "b"
   ]
  },
  {
   "attachments": {},
   "cell_type": "markdown",
   "metadata": {},
   "source": [
    "### np full"
   ]
  },
  {
   "cell_type": "code",
   "execution_count": 12,
   "metadata": {},
   "outputs": [
    {
     "name": "stdout",
     "output_type": "stream",
     "text": [
      "[[5. 5. 5.]\n",
      " [5. 5. 5.]]\n",
      "[[5 5 5]\n",
      " [5 5 5]]\n"
     ]
    }
   ],
   "source": [
    "b = np.full((2, 3), 5, dtype = float)\n",
    "print(b)\n",
    "\n",
    "c = np.full((2, 3), 5)\n",
    "print(c)"
   ]
  },
  {
   "attachments": {},
   "cell_type": "markdown",
   "metadata": {},
   "source": [
    "np empty Regresa un array sin inicializar con valores aleatorios"
   ]
  },
  {
   "cell_type": "code",
   "execution_count": 14,
   "metadata": {},
   "outputs": [
    {
     "name": "stdout",
     "output_type": "stream",
     "text": [
      "[[2.5e-323 2.5e-323 2.5e-323]\n",
      " [2.5e-323 2.5e-323 2.5e-323]]\n",
      "[[2.5e-323 2.5e-323 2.5e-323]\n",
      " [2.5e-323 2.5e-323 2.5e-323]]\n"
     ]
    }
   ],
   "source": [
    "b = np.empty((2, 3))\n",
    "print(b)\n",
    "\n",
    "c = np.empty((2, 3))\n",
    "print(c)"
   ]
  },
  {
   "attachments": {},
   "cell_type": "markdown",
   "metadata": {},
   "source": [
    "## Numpy 2D"
   ]
  },
  {
   "attachments": {},
   "cell_type": "markdown",
   "metadata": {},
   "source": [
    "### np.arange"
   ]
  },
  {
   "cell_type": "code",
   "execution_count": 16,
   "metadata": {},
   "outputs": [
    {
     "data": {
      "text/plain": [
       "array([ 2,  4,  6,  8, 10, 12, 14, 16, 18])"
      ]
     },
     "execution_count": 16,
     "metadata": {},
     "output_type": "execute_result"
    }
   ],
   "source": [
    "b = np.arange(2, 20, 2)\n",
    "b"
   ]
  },
  {
   "attachments": {},
   "cell_type": "markdown",
   "metadata": {},
   "source": [
    "### np.linspace \n",
    "numpy.linspace(start, stop, num=50, endpoint=True, retstep=False, dtype=None, axis=0)[source]\n",
    "\n",
    "Return evenly spaced numbers over a specified interval.\n",
    "Returns num evenly spaced samples, calculated over the interval [start, stop]."
   ]
  },
  {
   "cell_type": "code",
   "execution_count": 24,
   "metadata": {},
   "outputs": [
    {
     "name": "stdout",
     "output_type": "stream",
     "text": [
      "[ 2.          4.66666667  7.33333333 10.        ]\n",
      "2.666666666666666\n",
      "2.666666666666667\n"
     ]
    }
   ],
   "source": [
    "b = np.linspace(2, 10, num = 4)\n",
    "print(b)\n",
    "print(b[1] - b[0])\n",
    "print(b[3] - b[2])\n"
   ]
  },
  {
   "attachments": {},
   "cell_type": "markdown",
   "metadata": {},
   "source": [
    "### np.identity"
   ]
  },
  {
   "cell_type": "code",
   "execution_count": 25,
   "metadata": {},
   "outputs": [
    {
     "data": {
      "text/plain": [
       "array([[1., 0., 0.],\n",
       "       [0., 1., 0.],\n",
       "       [0., 0., 1.]])"
      ]
     },
     "execution_count": 25,
     "metadata": {},
     "output_type": "execute_result"
    }
   ],
   "source": [
    "b = np.identity(3)\n",
    "b"
   ]
  },
  {
   "attachments": {},
   "cell_type": "markdown",
   "metadata": {},
   "source": [
    "### np.eye\n",
    "\n",
    "numpy.eye(N, M=None, k=0, dtype=<class 'float'>, order='C', *, like=None)[source]\n",
    "\n",
    "\n",
    "Return a 2-D array with ones on the diagonal and zeros elsewhere."
   ]
  },
  {
   "cell_type": "code",
   "execution_count": 26,
   "metadata": {},
   "outputs": [
    {
     "data": {
      "text/plain": [
       "array([[1., 0., 0., 0.],\n",
       "       [0., 1., 0., 0.],\n",
       "       [0., 0., 1., 0.]])"
      ]
     },
     "execution_count": 26,
     "metadata": {},
     "output_type": "execute_result"
    }
   ],
   "source": [
    "b = np.eye(3, 4)\n",
    "b"
   ]
  },
  {
   "attachments": {},
   "cell_type": "markdown",
   "metadata": {},
   "source": [
    "### np.random.rand"
   ]
  },
  {
   "cell_type": "code",
   "execution_count": 27,
   "metadata": {},
   "outputs": [
    {
     "data": {
      "text/plain": [
       "array([0.5599841 , 0.02991516, 0.97522483])"
      ]
     },
     "execution_count": 27,
     "metadata": {},
     "output_type": "execute_result"
    }
   ],
   "source": [
    "b = np.random.rand(3)\n",
    "b"
   ]
  },
  {
   "attachments": {},
   "cell_type": "markdown",
   "metadata": {},
   "source": [
    "### np.random.rand\n"
   ]
  },
  {
   "cell_type": "code",
   "execution_count": 31,
   "metadata": {},
   "outputs": [
    {
     "name": "stdout",
     "output_type": "stream",
     "text": [
      "[0.2818014  0.56326358 0.09678695]\n",
      "[[0.95770222 0.74415119 0.8105432 ]\n",
      " [0.0868493  0.12907773 0.3541841 ]]\n"
     ]
    }
   ],
   "source": [
    "a = np.random.rand(3)\n",
    "print(a)\n",
    "b = np.random.rand(2, 3)\n",
    "print(b)"
   ]
  },
  {
   "cell_type": "code",
   "execution_count": 32,
   "metadata": {},
   "outputs": [
    {
     "name": "stdout",
     "output_type": "stream",
     "text": [
      "[3.62729942 2.67094574 9.37511014 9.2091678  1.7834752  2.58625576\n",
      " 0.81401443 0.61896808 8.77108762 5.64543825]\n"
     ]
    }
   ],
   "source": [
    "b = np.random.rand(10)*10\n",
    "print(b)"
   ]
  },
  {
   "attachments": {},
   "cell_type": "markdown",
   "metadata": {},
   "source": [
    "### np.random.randint\n",
    "\n",
    "random.randint(low, high=None, size=None, dtype=int)\n",
    "\n",
    "Return random integers from low (inclusive) to high (exclusive).\n",
    "Return random integers from the “discrete uniform” distribution of the specified dtype in the “half-open” interval [low, high). If high is None (the default), then results are from [0, low)."
   ]
  },
  {
   "cell_type": "code",
   "execution_count": 29,
   "metadata": {},
   "outputs": [
    {
     "data": {
      "text/plain": [
       "array([[0.05684248, 0.48540928, 0.95903838],\n",
       "       [0.79646391, 0.06927303, 0.05981643]])"
      ]
     },
     "execution_count": 29,
     "metadata": {},
     "output_type": "execute_result"
    }
   ],
   "source": [
    "a = np.random.rand(3)\n",
    "print(b)\n",
    "b = np.random.rand(2, 3)\n",
    "print(ab)"
   ]
  },
  {
   "cell_type": "code",
   "execution_count": 33,
   "metadata": {},
   "outputs": [
    {
     "data": {
      "text/plain": [
       "array([[1, 1, 1, 2],\n",
       "       [3, 0, 4, 4]])"
      ]
     },
     "execution_count": 33,
     "metadata": {},
     "output_type": "execute_result"
    }
   ],
   "source": [
    "np.random.randint(5, size=(2, 4))"
   ]
  },
  {
   "attachments": {},
   "cell_type": "markdown",
   "metadata": {},
   "source": [
    "Random Integer array\n",
    "\n",
    "Syntax for creating a random integer array ranging from 0 to 10 of size (4, 4)"
   ]
  },
  {
   "cell_type": "code",
   "execution_count": 35,
   "metadata": {},
   "outputs": [
    {
     "name": "stdout",
     "output_type": "stream",
     "text": [
      "[[0 2 1 1]\n",
      " [4 2 1 1]]\n"
     ]
    }
   ],
   "source": [
    "b = np.random.randint(5, size=(2, 4))\n",
    "print(b)"
   ]
  },
  {
   "attachments": {},
   "cell_type": "markdown",
   "metadata": {},
   "source": [
    "NumPy Inclusive\n",
    "\n",
    "Problem Statement:\n",
    "Create an array with values ranging consecutively from 9 to 49 (both inclusive).\n",
    "Print the Numpy array.\n",
    "\n",
    "Output Format :\n",
    "element1 element2 element3 ..."
   ]
  },
  {
   "cell_type": "code",
   "execution_count": 1,
   "metadata": {},
   "outputs": [
    {
     "name": "stdout",
     "output_type": "stream",
     "text": [
      "9 10 11 12 13 14 15 16 17 18 19 20 21 22 23 24 25 26 27 28 29 30 31 32 33 34 35 36 37 38 39 40 41 42 43 44 45 46 47 48 49 "
     ]
    }
   ],
   "source": [
    "import numpy as np\n",
    "\n",
    "start = 9\n",
    "stop = 49\n",
    "step = 1\n",
    "arr = np.arange(start, stop+1, step)\n",
    "\n",
    "for i in arr:\n",
    "    print(i, end = ' ')\n"
   ]
  },
  {
   "attachments": {},
   "cell_type": "markdown",
   "metadata": {},
   "source": [
    "Identity Matrix\n",
    "\n",
    "Problem Statement:\n",
    "Create a matrix having diagonal elements as 1 and all other elements as 0 of size (5, 6).\n",
    "Print the Numpy array.\n",
    "\n",
    "Output Format :\n",
    "numpyArray"
   ]
  },
  {
   "cell_type": "code",
   "execution_count": 2,
   "metadata": {},
   "outputs": [
    {
     "name": "stdout",
     "output_type": "stream",
     "text": [
      "[[1 0 0 0 0 0]\n",
      " [0 1 0 0 0 0]\n",
      " [0 0 1 0 0 0]\n",
      " [0 0 0 1 0 0]\n",
      " [0 0 0 0 1 0]]\n"
     ]
    }
   ],
   "source": [
    "import numpy as np\n",
    "\n",
    "\n",
    "m = np.eye(5, 6, dtype=int)\n",
    "print(m)"
   ]
  },
  {
   "attachments": {},
   "cell_type": "markdown",
   "metadata": {},
   "source": [
    "Cut the Rope\n",
    "\n",
    "Problem Statement:\n",
    "You are given a rope of length 5m. Cut the rope into 9 parts such that each part is of equal length.\n",
    "Note:Array elements are the points where cut is to be made and round upto 2 decimal place.\n",
    "Print the array element.\n",
    "\n",
    "Output Format :\n",
    "element1 \n",
    "element2 \n",
    "element3"
   ]
  },
  {
   "cell_type": "code",
   "execution_count": 10,
   "metadata": {},
   "outputs": [
    {
     "name": "stdout",
     "output_type": "stream",
     "text": [
      "[0.         0.55555556 1.11111111 1.66666667 2.22222222 2.77777778\n",
      " 3.33333333 3.88888889 4.44444444]\n",
      "0.56 1.11 1.67 2.22 2.78 3.33 3.89 4.44 "
     ]
    }
   ],
   "source": [
    "import numpy as np\n",
    "arr_9pts = np.linspace(0, 5, 9, endpoint = False)\n",
    "print(arr_9pts)\n",
    "arr_9pts = arr_9pts[1:]\n",
    "arr_round = np.around(arr_9pts, 2)\n",
    "for i in arr_round:\n",
    "    print(i, end = ' ')"
   ]
  },
  {
   "attachments": {},
   "cell_type": "markdown",
   "metadata": {},
   "source": [
    "## Slicing and Indexing"
   ]
  },
  {
   "cell_type": "code",
   "execution_count": 12,
   "metadata": {},
   "outputs": [
    {
     "name": "stdout",
     "output_type": "stream",
     "text": [
      "[1, 2, 3, 4, 5]\n",
      "[1 2 3 4 5]\n"
     ]
    }
   ],
   "source": [
    "import numpy  as np\n",
    " \n",
    "li = [1, 2, 3, 4, 5]\n",
    "arr = np.array(li)\n",
    "\n",
    "print(li)\n",
    "print(arr)"
   ]
  },
  {
   "cell_type": "code",
   "execution_count": 13,
   "metadata": {},
   "outputs": [
    {
     "name": "stdout",
     "output_type": "stream",
     "text": [
      "<memory at 0x7f436c4bdc00>\n",
      "(5,)\n",
      "int64\n",
      "(8,)\n"
     ]
    }
   ],
   "source": [
    "print(arr.data)\n",
    "print(arr.shape)\n",
    "print(arr.dtype)\n",
    "print(arr.strides)\n"
   ]
  },
  {
   "cell_type": "code",
   "execution_count": 19,
   "metadata": {},
   "outputs": [
    {
     "name": "stdout",
     "output_type": "stream",
     "text": [
      "4\n",
      "4\n",
      "[2, 3, 4]\n",
      "[2 3 4]\n"
     ]
    }
   ],
   "source": [
    "print(li[3])\n",
    "print(arr[3])\n",
    "print(li[1:4])\n",
    "print(arr[1:4])"
   ]
  },
  {
   "cell_type": "code",
   "execution_count": 15,
   "metadata": {},
   "outputs": [
    {
     "name": "stdout",
     "output_type": "stream",
     "text": [
      "[[1, 2, 3, 4], [5, 6, 7, 8], [9, 10, 11, 12], [13, 14, 15, 16]]\n",
      "[[ 1  2  3  4]\n",
      " [ 5  6  7  8]\n",
      " [ 9 10 11 12]\n",
      " [13 14 15 16]]\n"
     ]
    }
   ],
   "source": [
    "li_2d = [[1,2,3,4],[5,6,7, 8],[9,10,11,12], [13,14,15,16]]\n",
    "arr_2d = np.array(li_2d)\n",
    "\n",
    "print(li_2d)\n",
    "print(arr_2d)"
   ]
  },
  {
   "cell_type": "code",
   "execution_count": 16,
   "metadata": {},
   "outputs": [
    {
     "name": "stdout",
     "output_type": "stream",
     "text": [
      "<memory at 0x7f437c276f60>\n",
      "(4, 4)\n",
      "int64\n",
      "(32, 8)\n"
     ]
    }
   ],
   "source": [
    "print(arr_2d.data)\n",
    "print(arr_2d.shape)\n",
    "print(arr_2d.dtype)\n",
    "print(arr_2d.strides)\n"
   ]
  },
  {
   "cell_type": "code",
   "execution_count": 22,
   "metadata": {},
   "outputs": [
    {
     "name": "stdout",
     "output_type": "stream",
     "text": [
      "10\n",
      "10\n",
      "10\n"
     ]
    }
   ],
   "source": [
    "print(li_2d[2][1])\n",
    "print(arr_2d[2][1])\n",
    "print(arr_2d[2, 1])\n"
   ]
  },
  {
   "cell_type": "code",
   "execution_count": 23,
   "metadata": {},
   "outputs": [
    {
     "name": "stdout",
     "output_type": "stream",
     "text": [
      "[5, 6, 7]\n"
     ]
    }
   ],
   "source": [
    "print(li_2d[1][:3])"
   ]
  },
  {
   "cell_type": "code",
   "execution_count": 24,
   "metadata": {},
   "outputs": [
    {
     "data": {
      "text/plain": [
       "(4,)"
      ]
     },
     "execution_count": 24,
     "metadata": {},
     "output_type": "execute_result"
    }
   ],
   "source": [
    "a = np.array([0, 1, 2, 3])\n",
    "a.shape"
   ]
  },
  {
   "cell_type": "code",
   "execution_count": 25,
   "metadata": {},
   "outputs": [
    {
     "name": "stdout",
     "output_type": "stream",
     "text": [
      "[5, 6, 7]\n",
      "[5 6 7]\n",
      "[9, 10, 11, 12]\n"
     ]
    }
   ],
   "source": [
    "print(li_2d[1][:3])\n",
    "print(arr_2d[1, :3])\n",
    "print(li_2d[0:3][2])"
   ]
  },
  {
   "cell_type": "code",
   "execution_count": 26,
   "metadata": {},
   "outputs": [
    {
     "name": "stdout",
     "output_type": "stream",
     "text": [
      "[[1, 2, 3, 4], [5, 6, 7, 8], [9, 10, 11, 12]]\n",
      "[9, 10, 11, 12]\n"
     ]
    }
   ],
   "source": [
    "x = li_2d[0:3]\n",
    "print(x)\n",
    "y = x[2]\n",
    "print(y)"
   ]
  },
  {
   "cell_type": "code",
   "execution_count": 27,
   "metadata": {},
   "outputs": [
    {
     "name": "stdout",
     "output_type": "stream",
     "text": [
      "[1, 2, 3, 4]\n",
      "[ 3  7 11]\n"
     ]
    }
   ],
   "source": [
    "print(li_2d[0:3][0])\n",
    "print(arr_2d[0:3, 2])"
   ]
  },
  {
   "cell_type": "code",
   "execution_count": 28,
   "metadata": {},
   "outputs": [
    {
     "name": "stdout",
     "output_type": "stream",
     "text": [
      "[[10 11]\n",
      " [14 15]]\n",
      "[[13, 14, 15, 16]]\n"
     ]
    }
   ],
   "source": [
    "print(arr_2d[2:4, 1:3])\n",
    "print(li_2d[2:4][1:3]) #FALLA"
   ]
  },
  {
   "attachments": {},
   "cell_type": "markdown",
   "metadata": {},
   "source": [
    "Print Elements\n",
    "\n",
    "Problem Statement:\n",
    "Given a 2D integer array size (4, 5) with name input_?\n",
    "Print elements of highlighted matrix\n",
    "\n",
    "Output Format :\n",
    "element1 element2 element3 . . .\n",
    "element1 element2 element3 . . .\n",
    "element1 element2 element3 . . .\n",
    "element1 element2 element3 . . ."
   ]
  },
  {
   "cell_type": "code",
   "execution_count": 30,
   "metadata": {},
   "outputs": [
    {
     "name": "stdout",
     "output_type": "stream",
     "text": [
      "<bound method Kernel.raw_input of <ipykernel.ipkernel.IPythonKernel object at 0x7f437f5378b0>>\n"
     ]
    }
   ],
   "source": [
    "import numpy as np\n",
    "input_=np.arange(1,21,1)\n",
    "input_=input_.reshape(4,5)\n",
    "print(input)"
   ]
  },
  {
   "cell_type": "code",
   "execution_count": 90,
   "metadata": {},
   "outputs": [
    {
     "name": "stdout",
     "output_type": "stream",
     "text": [
      "11 12 13 \n",
      "9 14 19 \n",
      "11 12 13 14 15 16 17 18 19 20 \n",
      "7 8 12 13 \n"
     ]
    }
   ],
   "source": [
    "import numpy as np\n",
    "input_=np.arange(1,21,1)\n",
    "input_=input_.reshape(4,5)\n",
    "\n",
    "def print_enum3(arr):\n",
    "    s = np.shape(arr)\n",
    "    if(len(s) == 1):\n",
    "        for i in arr :\n",
    "            print(i, end = ' ')\n",
    "        print()\n",
    "    else :\n",
    "        for i in arr:\n",
    "            for j in i:\n",
    "                print(j, end = ' ')\n",
    "        print()\n",
    "    \n",
    "\n",
    "print_enum3(input_[2,0:3])\n",
    "print_enum3(input_[1:,3])\n",
    "print_enum3(input_[2:])\n",
    "print_enum3(input_[1:3, 1:3])\n"
   ]
  },
  {
   "attachments": {},
   "cell_type": "markdown",
   "metadata": {},
   "source": [
    "## Mathematical Operations 1D"
   ]
  },
  {
   "cell_type": "code",
   "execution_count": 92,
   "metadata": {},
   "outputs": [
    {
     "name": "stdout",
     "output_type": "stream",
     "text": [
      "[1, 2, 3, 4, 5]\n",
      "[ 9  3  1 19  5]\n",
      "[ 3 18  5 18  2]\n"
     ]
    }
   ],
   "source": [
    "import numpy as np\n",
    "\n",
    "li = [1, 2, 3, 4, 5]\n",
    "a = np.random.randint(1, 20, 5)\n",
    "b = np.random.randint(1, 20, 5)\n",
    "\n",
    "print(li)\n",
    "print(a)\n",
    "print(b)\n"
   ]
  },
  {
   "cell_type": "code",
   "execution_count": 93,
   "metadata": {},
   "outputs": [
    {
     "data": {
      "text/plain": [
       "[2, 3, 4, 5, 6]"
      ]
     },
     "execution_count": 93,
     "metadata": {},
     "output_type": "execute_result"
    }
   ],
   "source": [
    "li = [i + 1 for i  in li]\n",
    "li"
   ]
  },
  {
   "cell_type": "code",
   "execution_count": 94,
   "metadata": {},
   "outputs": [
    {
     "data": {
      "text/plain": [
       "array([10,  4,  2, 20,  6])"
      ]
     },
     "execution_count": 94,
     "metadata": {},
     "output_type": "execute_result"
    }
   ],
   "source": [
    "a = a + 1\n",
    "a"
   ]
  },
  {
   "cell_type": "code",
   "execution_count": 96,
   "metadata": {},
   "outputs": [
    {
     "data": {
      "text/plain": [
       "array([13, 22,  7, 38,  8])"
      ]
     },
     "execution_count": 96,
     "metadata": {},
     "output_type": "execute_result"
    }
   ],
   "source": [
    "c = a + b\n",
    "c"
   ]
  },
  {
   "cell_type": "code",
   "execution_count": 97,
   "metadata": {},
   "outputs": [
    {
     "data": {
      "text/plain": [
       "array([  7, -14,  -3,   2,   4])"
      ]
     },
     "execution_count": 97,
     "metadata": {},
     "output_type": "execute_result"
    }
   ],
   "source": [
    "d = a - b\n",
    "d"
   ]
  },
  {
   "cell_type": "code",
   "execution_count": 98,
   "metadata": {},
   "outputs": [
    {
     "data": {
      "text/plain": [
       "array([ 30,  72,  10, 360,  12])"
      ]
     },
     "execution_count": 98,
     "metadata": {},
     "output_type": "execute_result"
    }
   ],
   "source": [
    "e = a * b\n",
    "e"
   ]
  },
  {
   "cell_type": "code",
   "execution_count": 99,
   "metadata": {},
   "outputs": [
    {
     "data": {
      "text/plain": [
       "array([3.33333333, 0.22222222, 0.4       , 1.11111111, 3.        ])"
      ]
     },
     "execution_count": 99,
     "metadata": {},
     "output_type": "execute_result"
    }
   ],
   "source": [
    "f = a / b\n",
    "f"
   ]
  },
  {
   "cell_type": "code",
   "execution_count": 100,
   "metadata": {},
   "outputs": [
    {
     "data": {
      "text/plain": [
       "array([3, 0, 0, 1, 3])"
      ]
     },
     "execution_count": 100,
     "metadata": {},
     "output_type": "execute_result"
    }
   ],
   "source": [
    "g = a // b\n",
    "g"
   ]
  },
  {
   "cell_type": "code",
   "execution_count": 101,
   "metadata": {},
   "outputs": [
    {
     "data": {
      "text/plain": [
       "array([                1000,          68719476736,                   32,\n",
       "       -2680031486438014976,                   36])"
      ]
     },
     "execution_count": 101,
     "metadata": {},
     "output_type": "execute_result"
    }
   ],
   "source": [
    "h = a ** b\n",
    "h"
   ]
  },
  {
   "attachments": {},
   "cell_type": "markdown",
   "metadata": {},
   "source": [
    "## Boolean Indexing - 1D"
   ]
  },
  {
   "cell_type": "code",
   "execution_count": 1,
   "metadata": {},
   "outputs": [
    {
     "name": "stdout",
     "output_type": "stream",
     "text": [
      "['t' 'b' 'r' 'd' 'e' 'f' 'z' 'a']\n",
      "[16  2 18  4 19  7  2 12]\n"
     ]
    }
   ],
   "source": [
    "import numpy as np\n",
    "a = np.array(['t', 'b', 'r', 'd', 'e', 'f', 'z', 'a'])\n",
    "b = np.random.randint(1, 20, 8)\n",
    "\n",
    "print(a)\n",
    "print(b)"
   ]
  },
  {
   "cell_type": "code",
   "execution_count": 2,
   "metadata": {},
   "outputs": [
    {
     "name": "stdout",
     "output_type": "stream",
     "text": [
      "[ True False  True False  True False False  True]\n"
     ]
    }
   ],
   "source": [
    "print(b > 10)"
   ]
  },
  {
   "cell_type": "code",
   "execution_count": 3,
   "metadata": {},
   "outputs": [
    {
     "name": "stdout",
     "output_type": "stream",
     "text": [
      "[ True False  True False  True False False  True]\n",
      "[16 18 19 12]\n"
     ]
    }
   ],
   "source": [
    "bool_arr = b> 10\n",
    "print(bool_arr)\n",
    "new_arr = b[bool_arr]\n",
    "print(new_arr)"
   ]
  },
  {
   "cell_type": "code",
   "execution_count": 4,
   "metadata": {},
   "outputs": [
    {
     "data": {
      "text/plain": [
       "array([16, 18, 19, 12])"
      ]
     },
     "execution_count": 4,
     "metadata": {},
     "output_type": "execute_result"
    }
   ],
   "source": [
    "new_arr = b[b > 10]\n",
    "new_arr"
   ]
  },
  {
   "cell_type": "code",
   "execution_count": 8,
   "metadata": {},
   "outputs": [
    {
     "data": {
      "text/plain": [
       "array([16, 12])"
      ]
     },
     "execution_count": 8,
     "metadata": {},
     "output_type": "execute_result"
    }
   ],
   "source": [
    "new_arr = b[(b > 10) & (b < 18)]\n",
    "new_arr"
   ]
  },
  {
   "cell_type": "code",
   "execution_count": 11,
   "metadata": {},
   "outputs": [
    {
     "name": "stdout",
     "output_type": "stream",
     "text": [
      "[16  2 18  4 19  7  2 12]\n"
     ]
    },
    {
     "data": {
      "text/plain": [
       "array([16,  2, 18,  4, 19,  7,  2, 12])"
      ]
     },
     "execution_count": 11,
     "metadata": {},
     "output_type": "execute_result"
    }
   ],
   "source": [
    "print(b) \n",
    "c = b\n",
    "c"
   ]
  },
  {
   "cell_type": "code",
   "execution_count": 14,
   "metadata": {},
   "outputs": [
    {
     "name": "stdout",
     "output_type": "stream",
     "text": [
      "[ 19  19  19   4 100   7   2  12]\n",
      "[100 100 100   4 100   7   2  12]\n"
     ]
    }
   ],
   "source": [
    "c[:3] = 19\n",
    "print(c)\n",
    "c[c > 15] = 100\n",
    "print(c)"
   ]
  },
  {
   "cell_type": "code",
   "execution_count": 17,
   "metadata": {},
   "outputs": [
    {
     "name": "stdout",
     "output_type": "stream",
     "text": [
      "[100 100 100   4 100   7   2  12]\n",
      "[100 100 100 100]\n",
      "(array([0, 1, 2, 4]),)\n"
     ]
    }
   ],
   "source": [
    "print(b)\n",
    "print(b[b == 100])\n",
    "ind = np.where(b == 100)\n",
    "print(ind)\n"
   ]
  },
  {
   "cell_type": "code",
   "execution_count": 20,
   "metadata": {},
   "outputs": [
    {
     "name": "stdout",
     "output_type": "stream",
     "text": [
      "['t' 'b' 'r' 'd' 'e' 'f' 'z' 'a']\n",
      "[100 100 100   4 100   7   2  12]\n",
      "(array([0, 1, 2, 4]),)\n",
      "['t' 'b' 'r' 'e']\n"
     ]
    }
   ],
   "source": [
    "print(a)\n",
    "print(b)\n",
    "ind = np.where(b == 100)\n",
    "print(ind)\n",
    "print(a[ind])"
   ]
  },
  {
   "attachments": {},
   "cell_type": "markdown",
   "metadata": {},
   "source": [
    "Non-Zero elements\n",
    "\n",
    "Problem Statemnt:\n",
    "Find indices of non-zero elements from the array [1,2,0,0,4,0] ?\n",
    "Print the index of non-zero elements.\n",
    "Output Format :\n",
    "index1 index2 index3 ... "
   ]
  },
  {
   "cell_type": "code",
   "execution_count": 37,
   "metadata": {},
   "outputs": [
    {
     "name": "stdout",
     "output_type": "stream",
     "text": [
      "0 1 4 "
     ]
    }
   ],
   "source": [
    "arr = np.array([1, 2, 0, 0, 4, 0])\n",
    "idx = np.where(arr != 0)\n",
    "for i in idx: \n",
    "    print(*i, end = ' ')"
   ]
  },
  {
   "attachments": {},
   "cell_type": "markdown",
   "metadata": {},
   "source": [
    "Multiples of 3\n",
    "\n",
    "Problem Statement:\n",
    "Given an integer array of size 10. Print the index of elements which are multiple of 3.\n",
    "Note: Generate the following array\n",
    "array([ 1,  3,  5,  7,  9, 11, 13, 15, 17, 19])\n",
    "Print the index of elements.\n",
    "Output Format :\n",
    "index1 index2 index3 ... "
   ]
  },
  {
   "cell_type": "code",
   "execution_count": 44,
   "metadata": {},
   "outputs": [
    {
     "name": "stdout",
     "output_type": "stream",
     "text": [
      "[ 1  3  5  7  9 11 13 15 17 19]\n",
      "1 4 7 "
     ]
    }
   ],
   "source": [
    "arr = np.arange(1, 20, 2)\n",
    "print(arr)\n",
    "idx = np.where(arr % 3 == 0)\n",
    "for i in idx: \n",
    "    print(*i, end = ' ')\n"
   ]
  },
  {
   "attachments": {},
   "cell_type": "markdown",
   "metadata": {},
   "source": [
    "Odd elements\n",
    "\n",
    "Problem Statemnt:\n",
    "Given an integer array of size 10. Replace the odd number in numpy array with -1 ?\n",
    "Note: Generate the following array\n",
    "array([1, 2, 3, 4, 5, 6, 7, 8, 9, 10])\n",
    "Print the Numpy array.\n",
    "Output Format :\n",
    "firstElement secondElement  ... "
   ]
  },
  {
   "cell_type": "code",
   "execution_count": 50,
   "metadata": {},
   "outputs": [
    {
     "name": "stdout",
     "output_type": "stream",
     "text": [
      "-1 2 -1 4 -1 6 -1 8 -1 10\n"
     ]
    }
   ],
   "source": [
    "arr = np.arange(1, 11)\n",
    "odd_list = arr % 2 != 0\n",
    "arr[odd_list] = -1\n",
    "print(*arr)\n"
   ]
  },
  {
   "attachments": {},
   "cell_type": "markdown",
   "metadata": {},
   "source": [
    "Replace Max\n",
    "\n",
    "Problem Statemnt:\n",
    "Given an integer array of size 9 and replace the first occurrence of maximum value by 0?\n",
    "Note: Generate the following array\n",
    "array([11, 2, 13, 4, 15, 6, 27, 8, 19])\n",
    "Print the Numpy array.\n",
    "Output Format :\n",
    "firstElement\n",
    "secondElement \n",
    "... "
   ]
  },
  {
   "cell_type": "code",
   "execution_count": 82,
   "metadata": {},
   "outputs": [
    {
     "name": "stdout",
     "output_type": "stream",
     "text": [
      "[11  2 13  4 15  6 27  8 19]\n",
      "[11  2 13  4 15  6 -1  8 19]\n"
     ]
    }
   ],
   "source": [
    "a = np.array([11, 2, 13, 4, 15, 6, 27, 8, 19])\n",
    "print(a)\n",
    "idx = np.where(a == a.max())\n",
    "a[idx[0]] = -1\n",
    "print(a)\n"
   ]
  },
  {
   "attachments": {},
   "cell_type": "markdown",
   "metadata": {},
   "source": [
    "Negate Elements\n",
    "\n",
    "Problem Statemnt:\n",
    "Given a 1D array, negate all elements which are between 3 and 8 (both inclusive)?\n",
    "Note: Generate the following array\n",
    "array([1, 2, 3, 4, 5, 6, 7, 8, 9, 10])\n",
    "Print the Numpy array.\n",
    "Output Format :\n",
    "firstElement \n",
    "secondElement  \n",
    "... "
   ]
  },
  {
   "cell_type": "code",
   "execution_count": 103,
   "metadata": {},
   "outputs": [
    {
     "name": "stdout",
     "output_type": "stream",
     "text": [
      "[ 1  2  3  4  5  6  7  8  9 10]\n",
      "1 2 -3 -4 -5 -6 -7 -8 9 10\n"
     ]
    }
   ],
   "source": [
    "arr = np.arange(1, 11)\n",
    "print(arr)\n",
    "idx = np.where((arr >= 3) & (arr <= 8), arr*-1, arr)\n",
    "print(*idx)\n"
   ]
  },
  {
   "attachments": {},
   "cell_type": "markdown",
   "metadata": {},
   "source": [
    "Height\n",
    "\n",
    "Problem Statemnt:\n",
    "Given age and height of 20 students in two different numpy arrays with name age and height (in cms). Print the age of those students whose height is above 155 cm.\n",
    "Print the Numpy array.\n",
    "\n",
    "Output Format :\n",
    "age1 height1 \n",
    "age2 height2 "
   ]
  },
  {
   "cell_type": "code",
   "execution_count": 124,
   "metadata": {},
   "outputs": [
    {
     "name": "stdout",
     "output_type": "stream",
     "text": [
      "15   156 19   180 20   162 21   157 22   158 23   179 16   182 18   183 20   159 15   160 17   172 "
     ]
    }
   ],
   "source": [
    "import numpy as np\n",
    "age=np.array([15,17,19,20,14,21,16,19,13,20,22,23,21,16,18,19,20,15,17,18])\n",
    "height=np.array([156,144,180,162,152,157,154,155,151,150,158,179,126,182,183,154,159,160,172,149])\n",
    "\n",
    "idx = np.where(height > 155)[0]\n",
    "\n",
    "for i in idx:\n",
    "    print(age[i],' ', height[i], end = ' ')\n"
   ]
  },
  {
   "attachments": {},
   "cell_type": "markdown",
   "metadata": {},
   "source": [
    "## Boolean Indexing"
   ]
  },
  {
   "cell_type": "code",
   "execution_count": 150,
   "metadata": {},
   "outputs": [
    {
     "name": "stdout",
     "output_type": "stream",
     "text": [
      "[[ 6 20  6 20  3 29]\n",
      " [ 8  8 29 14  2 29]\n",
      " [16 17 16  8 14 20]\n",
      " [29 25 27 25 28 20]\n",
      " [12 13 25 13 12  3]]\n"
     ]
    }
   ],
   "source": [
    "import numpy as np\n",
    "a = np.random.randint(1, 30, (5, 6))\n",
    "print(a)"
   ]
  },
  {
   "cell_type": "code",
   "execution_count": 151,
   "metadata": {},
   "outputs": [
    {
     "name": "stdout",
     "output_type": "stream",
     "text": [
      "[[False False False False False  True]\n",
      " [False False  True False False  True]\n",
      " [False False False False False False]\n",
      " [ True  True  True  True  True False]\n",
      " [False False  True False False False]]\n"
     ]
    }
   ],
   "source": [
    "bool_arr = a > 20\n",
    "print(bool_arr)"
   ]
  },
  {
   "cell_type": "code",
   "execution_count": 152,
   "metadata": {},
   "outputs": [
    {
     "name": "stdout",
     "output_type": "stream",
     "text": [
      "[29 29 29 29 25 27 25 28 25]\n"
     ]
    }
   ],
   "source": [
    "ans = a[bool_arr]\n",
    "print(ans)"
   ]
  },
  {
   "cell_type": "code",
   "execution_count": 155,
   "metadata": {},
   "outputs": [
    {
     "name": "stdout",
     "output_type": "stream",
     "text": [
      "[[ 6 20  6 20  3 29]\n",
      " [ 8  8 29 14  2 29]\n",
      " [16 17 16  8 14 20]\n",
      " [29 25 27 25 28 20]\n",
      " [12 13 25 13 12  3]]\n"
     ]
    }
   ],
   "source": [
    "b = a\n",
    "print(b)"
   ]
  },
  {
   "cell_type": "code",
   "execution_count": 156,
   "metadata": {},
   "outputs": [
    {
     "name": "stdout",
     "output_type": "stream",
     "text": [
      "[[  6  20   6  20   3 100]\n",
      " [  8   8 100  14   2 100]\n",
      " [ 16  17  16   8  14  20]\n",
      " [100 100 100 100 100  20]\n",
      " [ 12  13 100  13  12   3]]\n"
     ]
    }
   ],
   "source": [
    "b[bool_arr] = 100\n",
    "print(b)"
   ]
  },
  {
   "cell_type": "code",
   "execution_count": 157,
   "metadata": {},
   "outputs": [
    {
     "name": "stdout",
     "output_type": "stream",
     "text": [
      "[[9 5]\n",
      " [8 9]]\n"
     ]
    }
   ],
   "source": [
    "c = np.random.randint(1, 10, (2, 2))\n",
    "print(c)"
   ]
  },
  {
   "cell_type": "code",
   "execution_count": 158,
   "metadata": {},
   "outputs": [
    {
     "name": "stdout",
     "output_type": "stream",
     "text": [
      "[[ True False]\n",
      " [False  True]\n",
      " [ True  True]]\n"
     ]
    }
   ],
   "source": [
    "c_bool = np.array([[True, False], [False, True], [True, True]])\n",
    "print(c_bool)"
   ]
  },
  {
   "cell_type": "code",
   "execution_count": 160,
   "metadata": {},
   "outputs": [
    {
     "ename": "IndexError",
     "evalue": "boolean index did not match indexed array along dimension 0; dimension is 2 but corresponding boolean dimension is 3",
     "output_type": "error",
     "traceback": [
      "\u001b[0;31m---------------------------------------------------------------------------\u001b[0m",
      "\u001b[0;31mIndexError\u001b[0m                                Traceback (most recent call last)",
      "Cell \u001b[0;32mIn[160], line 1\u001b[0m\n\u001b[0;32m----> 1\u001b[0m \u001b[39mprint\u001b[39m(c[c_bool])()\n",
      "\u001b[0;31mIndexError\u001b[0m: boolean index did not match indexed array along dimension 0; dimension is 2 but corresponding boolean dimension is 3"
     ]
    }
   ],
   "source": [
    "/print(c[c_bool])"
   ]
  },
  {
   "cell_type": "code",
   "execution_count": 161,
   "metadata": {},
   "outputs": [
    {
     "name": "stdout",
     "output_type": "stream",
     "text": [
      "[False False False  True False]\n"
     ]
    }
   ],
   "source": [
    "bool_arr = b[:, 3] == 100\n",
    "print(bool_arr)"
   ]
  },
  {
   "cell_type": "code",
   "execution_count": 162,
   "metadata": {},
   "outputs": [
    {
     "name": "stdout",
     "output_type": "stream",
     "text": [
      "[[  6  20   6  20   3 100]\n",
      " [  8   8 100  14   2 100]\n",
      " [ 16  17  16   8  14  20]\n",
      " [100 100 100  99 100  20]\n",
      " [ 12  13 100  13  12   3]]\n"
     ]
    }
   ],
   "source": [
    "b[bool_arr, 3] = 99\n",
    "print(b)"
   ]
  },
  {
   "attachments": {},
   "cell_type": "markdown",
   "metadata": {},
   "source": [
    "## Numpy Broadcasting"
   ]
  },
  {
   "cell_type": "code",
   "execution_count": 163,
   "metadata": {},
   "outputs": [
    {
     "name": "stdout",
     "output_type": "stream",
     "text": [
      "[[8 5 4]\n",
      " [9 9 2]\n",
      " [6 4 6]]\n",
      "[[4 4 7]\n",
      " [1 8 6]\n",
      " [9 6 9]]\n"
     ]
    }
   ],
   "source": [
    "import numpy as np\n",
    "\n",
    "x = np.random.randint(1, 10, (3, 3))\n",
    "y = np.random.randint(1, 10, (3, 3))\n",
    "print(x)\n",
    "print(y)"
   ]
  },
  {
   "cell_type": "code",
   "execution_count": 164,
   "metadata": {},
   "outputs": [
    {
     "name": "stdout",
     "output_type": "stream",
     "text": [
      "[[ 4  1 -3]\n",
      " [ 8  1 -4]\n",
      " [-3 -2 -3]]\n"
     ]
    }
   ],
   "source": [
    "ans = x - y\n",
    "print(ans)"
   ]
  },
  {
   "cell_type": "code",
   "execution_count": 165,
   "metadata": {},
   "outputs": [
    {
     "name": "stdout",
     "output_type": "stream",
     "text": [
      "[[2 1 9]\n",
      " [4 9 9]\n",
      " [3 2 2]]\n",
      "[5 1 3]\n"
     ]
    }
   ],
   "source": [
    "x = np.random.randint(1, 10, (3, 3))\n",
    "y = np.random.randint(1, 10, (3))\n",
    "print(x)\n",
    "print(y)"
   ]
  },
  {
   "cell_type": "code",
   "execution_count": 166,
   "metadata": {},
   "outputs": [
    {
     "name": "stdout",
     "output_type": "stream",
     "text": [
      "[[-3  0  6]\n",
      " [-1  8  6]\n",
      " [-2  1 -1]]\n"
     ]
    }
   ],
   "source": [
    "ans = x - y\n",
    "print(ans)"
   ]
  },
  {
   "cell_type": "code",
   "execution_count": 167,
   "metadata": {},
   "outputs": [
    {
     "name": "stdout",
     "output_type": "stream",
     "text": [
      "[[3 6]\n",
      " [1 6]\n",
      " [5 9]]\n",
      "[[7 1 8]\n",
      " [1 4 9]]\n"
     ]
    }
   ],
   "source": [
    "x = np.random.randint(1, 10, (3, 2))\n",
    "y = np.random.randint(1, 10, (2, 3))\n",
    "print(x)\n",
    "print(y)"
   ]
  },
  {
   "cell_type": "code",
   "execution_count": 170,
   "metadata": {},
   "outputs": [
    {
     "ename": "ValueError",
     "evalue": "operands could not be broadcast together with shapes (3,2) (2,3) ",
     "output_type": "error",
     "traceback": [
      "\u001b[0;31m---------------------------------------------------------------------------\u001b[0m",
      "\u001b[0;31mValueError\u001b[0m                                Traceback (most recent call last)",
      "Cell \u001b[0;32mIn[170], line 1\u001b[0m\n\u001b[0;32m----> 1\u001b[0m ans \u001b[39m=\u001b[39m x \u001b[39m-\u001b[39;49my\n\u001b[1;32m      2\u001b[0m \u001b[39mprint\u001b[39m(ans)\n",
      "\u001b[0;31mValueError\u001b[0m: operands could not be broadcast together with shapes (3,2) (2,3) "
     ]
    }
   ],
   "source": [
    "ans = x -y\n",
    "print(ans)"
   ]
  },
  {
   "cell_type": "code",
   "execution_count": 171,
   "metadata": {},
   "outputs": [
    {
     "name": "stdout",
     "output_type": "stream",
     "text": [
      "[[7 1]\n",
      " [1 4]\n",
      " [8 9]]\n",
      "[[-4  5]\n",
      " [ 0  2]\n",
      " [-3  0]]\n"
     ]
    }
   ],
   "source": [
    "y = np.transpose(y)\n",
    "print(y)\n",
    "ans = x - y\n",
    "print(ans)"
   ]
  },
  {
   "attachments": {},
   "cell_type": "markdown",
   "metadata": {},
   "source": [
    "Sort by column\n",
    "\n",
    "Problem Statemnt:\n",
    "Sort a given 2D array of shape (4, 5) by 2nd column (i.e. column at index 1) in ascending order.\n",
    "That means, we should re-arrange complete row based on 2nd columns' values.\n",
    "Given 2D array is:\n",
    " [[21 20 19 18 17]\n",
    "  [16 15 14 13 12]\n",
    "  [11 10  9  8  7]\n",
    "  [ 6  5  4  3  2]]\n",
    "Print the 2D array in sorted order.\n",
    "Note you have to generate the 2D Array.Here 2nd column means column present at index 1.\n",
    "Output Format :\n",
    "[[ 6  5  4  3  2]\n",
    "[11 10  9  8  7]\n",
    "[16 15 14 13 12]\n",
    "[21 20 19 18 17]]"
   ]
  },
  {
   "cell_type": "code",
   "execution_count": 194,
   "metadata": {},
   "outputs": [
    {
     "name": "stdout",
     "output_type": "stream",
     "text": [
      "[[21 20 19 18 17]\n",
      " [16 15 14 13 12]\n",
      " [11 10  9  8  7]\n",
      " [ 6  5  4  3  2]]\n",
      "[20 15 10  5]\n",
      "[3 2 1 0]\n",
      "[[ 6  5  4  3  2]\n",
      " [11 10  9  8  7]\n",
      " [16 15 14 13 12]\n",
      " [21 20 19 18 17]]\n"
     ]
    }
   ],
   "source": [
    "import numpy as np\n",
    "#matrix = np.random.randint(1, 20, (4, 5))\n",
    "matrix = np.array([[21, 20, 19, 18, 17], [16, 15, 14, 13, 12], [11, 10,  9,  8,  7], [ 6,  5,  4, 3, 2]])\n",
    "print(matrix)\n",
    "print(matrix[:, 1])\n",
    "\n",
    "res = np.argsort(matrix[:, 1])\n",
    "print(res)\n",
    "print(matrix[res])"
   ]
  },
  {
   "cell_type": "code",
   "execution_count": 189,
   "metadata": {},
   "outputs": [
    {
     "name": "stdout",
     "output_type": "stream",
     "text": [
      "[[3 2]\n",
      " [2 3]\n",
      " [1 4]]\n"
     ]
    }
   ],
   "source": [
    "import numpy as np\n",
    "\n",
    "arr = np.array([[3, 2], [1, 4], [2, 3]])\n",
    "sorted_indices = np.argsort(arr[:, 1])\n",
    "sorted_arr = arr[sorted_indices]\n",
    "\n",
    "print(sorted_arr)\n"
   ]
  },
  {
   "attachments": {},
   "cell_type": "markdown",
   "metadata": {},
   "source": [
    "## Example"
   ]
  },
  {
   "cell_type": "code",
   "execution_count": 175,
   "metadata": {},
   "outputs": [
    {
     "name": "stdout",
     "output_type": "stream",
     "text": [
      "1167.0\n",
      "51372.0\n"
     ]
    }
   ],
   "source": [
    "import  numpy  as np\n",
    "import csv\n",
    "\n",
    "file_obj = open('Datasets/Sample.csv')\n",
    "data = csv.DictReader(file_obj, skipinitialspace = True)\n",
    "\n",
    "killed = []\n",
    "wounded = []\n",
    "country = []\n",
    "\n",
    "for row in data:\n",
    "    killed.append(row['Killed'])\n",
    "    country.append(row['Country'])\n",
    "    wounded.append(row['Wounded'])\n",
    "\n",
    "np_killed = np.array(killed)\n",
    "np_wounded = np.array(wounded)\n",
    "\n",
    "np_killed[np_killed == ''] = '0.0'\n",
    "np_wounded[np_wounded == ''] = '0.0'\n",
    "\n",
    "np_killed = np.array(np_killed, dtype = float)\n",
    "np_wounded = np.array(np_wounded, dtype = float)\n",
    "\n",
    "killed_wounded = np_killed + np_wounded\n",
    "np_country = np.array(country)\n",
    "\n",
    "bool_arr = np_country == 'India'\n",
    "ans = killed_wounded[bool_arr]\n",
    "print(np.sum(ans))\n",
    "print(np.sum(killed_wounded))"
   ]
  },
  {
   "attachments": {},
   "cell_type": "markdown",
   "metadata": {},
   "source": [
    "Killed in USA\n",
    "\n",
    "Given file \"terrorismData.csv\"\n",
    "It is an open-source database including information on terrorist attacks around the world from 1970 through 2017. This dataset includes systematic data on domestic as well as international terrorist incidents that have occurred during this time period\n",
    "Problem Statement :\n",
    "Find value of killed column only where country == ‘United States’?\n",
    "Print 0 in place of missing values.\n",
    "Print count of Killed as integer value.\n",
    "Output Format :\n",
    "Killed1\n",
    "Killed2\n",
    "Killed3\n",
    "Killed4"
   ]
  },
  {
   "cell_type": "code",
   "execution_count": null,
   "metadata": {},
   "outputs": [],
   "source": [
    "import  numpy  as np\n",
    "import csv\n",
    "\n",
    "file_obj = open('Datasets/Sample.csv')\n",
    "data = csv.DictReader(file_obj, skipinitialspace = True)\n",
    "\n",
    "print(data)\n",
    "\n",
    "killed = []\n",
    "wounded = []\n",
    "country = []\n",
    "\n",
    "for row in data:\n",
    "    killed.append(row['Killed'])\n",
    "    country.append(row['Country'])\n",
    "    wounded.append(row['Wounded'])\n",
    "\n",
    "\n",
    "np_killed = np.array(killed)\n",
    "np_wounded = np.array(wounded)\n",
    "\n",
    "np_killed[np_killed == ''] = '0.0'\n",
    "np_wounded[np_wounded == ''] = '0.0'\n",
    "np_country = np.array(country)\n",
    "\n",
    "idx_USA = np_country == 'United States'\n",
    "print(idx_USA)\n",
    "print(*np_killed[idx_USA].astype(float).astype(int))\n",
    "\n",
    "result = np_killed[idx_USA].astype(float).astype(int)\n",
    "for i in result:\n",
    "    print(i)\n"
   ]
  },
  {
   "attachments": {},
   "cell_type": "markdown",
   "metadata": {},
   "source": [
    "Total Killed in USA\n",
    "\n",
    "Given file \"terrorismData.csv\"\n",
    "It is an open-source database including information on terrorist attacks around the world from 1970 through 2017. This dataset includes systematic data on domestic as well as international terrorist incidents that have occurred during this time period\n",
    "Problem Statement :\n",
    "Find total number of people killed from USA?\n",
    "Note: Some columns of killed are empty so replace them by 0.\n",
    "Print count of Killed as integer value.\n",
    "Output Format :\n",
    "TotalKilled"
   ]
  },
  {
   "cell_type": "code",
   "execution_count": 4,
   "metadata": {},
   "outputs": [
    {
     "name": "stdout",
     "output_type": "stream",
     "text": [
      "<csv.DictReader object at 0x7fe2b4f0e8c0>\n",
      "[False False False ... False False False]\n",
      "0 5 0 0 0 0 0 1 0 0 1 0 0 0 0 0 0 1 0 0 1 3 0 0 0 0 0 2 0 1 2 0 0 0 0 0 1 0 0 2 0 0 0 0 0 0 1 0 0 1 1 1 59 0 0 0 0 8 0 0 0 3 0 0 1\n",
      "95\n"
     ]
    }
   ],
   "source": [
    "import  numpy  as np\n",
    "import csv\n",
    "\n",
    "file_obj = open('Datasets/Sample.csv')\n",
    "data = csv.DictReader(file_obj, skipinitialspace = True)\n",
    "\n",
    "print(data)\n",
    "\n",
    "killed = []\n",
    "wounded = []\n",
    "country = []\n",
    "\n",
    "for row in data:\n",
    "    killed.append(row['Killed'])\n",
    "    country.append(row['Country'])\n",
    "    wounded.append(row['Wounded'])\n",
    "\n",
    "\n",
    "np_killed = np.array(killed)\n",
    "np_wounded = np.array(wounded)\n",
    "\n",
    "np_killed[np_killed == ''] = '0.0'\n",
    "np_wounded[np_wounded == ''] = '0.0'\n",
    "np_country = np.array(country)\n",
    "\n",
    "idx_USA = np_country == 'United States'\n",
    "print(idx_USA)\n",
    "print(*np_killed[idx_USA].astype(float).astype(int))\n",
    "\n",
    "result = np.sum(np_killed[idx_USA].astype(float).astype(int))\n",
    "print(result)\n",
    "\n"
   ]
  },
  {
   "attachments": {},
   "cell_type": "markdown",
   "metadata": {},
   "source": [
    "Terrorism Day\n",
    "\n",
    "Given file \"terrorismData.csv\"\n",
    "It is an open-source database including information on terrorist attacks around the world from 1970 through 2017. This dataset includes systematic data on domestic as well as international terrorist incidents that have occurred during this time period\n",
    "Problem Statement :\n",
    "Find the number of attack held between day 10 and day 20?(ignoring the year and month)(including both day)\n",
    "Print count of NumberOFAttack as integer value.\n",
    "Output Format :\n",
    "count"
   ]
  },
  {
   "cell_type": "code",
   "execution_count": 14,
   "metadata": {},
   "outputs": [
    {
     "name": "stdout",
     "output_type": "stream",
     "text": [
      "60345\n",
      "4002\n"
     ]
    }
   ],
   "source": [
    "import  numpy  as np\n",
    "import csv\n",
    "\n",
    "file_obj = open('Datasets/Sample.csv')\n",
    "data = csv.DictReader(file_obj, skipinitialspace = True)\n",
    "\n",
    "day = []\n",
    "\n",
    "\n",
    "for row in data:\n",
    "    day.append(row['Day'])\n",
    "\n",
    "#print(day)\n",
    "np_day = np.array(day).astype(float).astype(int)\n",
    "print(np.sum(np_day[(np_day>= 10) & (np_day <= 20)]))\n",
    "print(np.count_nonzero(np_day[(np_day>= 10) & (np_day <= 20)]))\n"
   ]
  },
  {
   "attachments": {},
   "cell_type": "markdown",
   "metadata": {},
   "source": [
    "Terrorism Date\n",
    "\n",
    "Problem Statement :\n",
    "Find the number of attack held between 1 Jan 2010 and 31 Jan 2010?(including both date).\n",
    "Note Ignore the case where day is 0\n",
    "Print count of NumberOFAttack as integer value.\n",
    "\n",
    "Output Format :\n",
    "count"
   ]
  },
  {
   "attachments": {},
   "cell_type": "markdown",
   "metadata": {},
   "source": [
    "Usando str"
   ]
  },
  {
   "cell_type": "code",
   "execution_count": 44,
   "metadata": {},
   "outputs": [
    {
     "name": "stdout",
     "output_type": "stream",
     "text": [
      "['2017-01-02' '2017-01-03' '2017-01-01' ... '2017-12-31' '2017-12-31'\n",
      " '2017-12-31']\n"
     ]
    }
   ],
   "source": [
    "import  numpy  as np\n",
    "import csv\n",
    "\n",
    "file_obj = open('Datasets/Sample.csv')\n",
    "data = csv.DictReader(file_obj, skipinitialspace = True)\n",
    "\n",
    "day = []\n",
    "month = []\n",
    "year = []\n",
    "date = []\n",
    "\n",
    "for row in data:\n",
    "    day.append(row['Day'].zfill(2))\n",
    "    month.append(row['Month'].zfill(2))\n",
    "    year.append(row['Year'])\n",
    "\n",
    "date = [f\"{y}-{m}-{d}\" for y, m, d in zip(year,month, day)]\n",
    "dates = np.array(date, dtype='datetime64')\n",
    "print(dates)\n",
    "\n"
   ]
  },
  {
   "attachments": {},
   "cell_type": "markdown",
   "metadata": {},
   "source": [
    "Usando int"
   ]
  },
  {
   "cell_type": "code",
   "execution_count": 42,
   "metadata": {},
   "outputs": [
    {
     "name": "stdout",
     "output_type": "stream",
     "text": [
      "['2022-01-01' '2022-02-02' '2022-03-03' '2022-04-04']\n"
     ]
    }
   ],
   "source": [
    "import numpy as np\n",
    "\n",
    "day = ['1', '2', '3', '4']\n",
    "month = ['1', '2', '3', '4']\n",
    "\n",
    "\n",
    "dates = [f\"2022-{int(m):02d}-{int(d):02d}\" for m, d in zip(month, day)]\n",
    "\n",
    "# Convierte los formatos de fecha en un tipo numpy.datetime64\n",
    "dates = np.array(dates, dtype='datetime64')\n",
    "print(dates)\n",
    "\n"
   ]
  },
  {
   "attachments": {},
   "cell_type": "markdown",
   "metadata": {},
   "source": [
    "Ejemplo"
   ]
  },
  {
   "cell_type": "code",
   "execution_count": null,
   "metadata": {},
   "outputs": [],
   "source": [
    "import  numpy  as np\n",
    "import csv\n",
    "\n",
    "file_obj = open('Datasets/Sample.csv')\n",
    "data = csv.DictReader(file_obj, skipinitialspace = True)\n",
    "\n",
    "day = []\n",
    "month = []\n",
    "year = []\n",
    "\n",
    "for row in data:\n",
    "    day.append(row['Day'])\n",
    "    month.append(row['Month'])\n",
    "    year.append(row['Year'])\n",
    "\n",
    "\n",
    "dates = [f\"{int(y)}-{int(m):02d}-{int(d):02d}\" for y, m, d in zip(year, month, day)]\n",
    "\n",
    "# Convierte los formatos de fecha en un tipo numpy.datetime64\n",
    "np_dates = np.array(dates, dtype='datetime64')\n",
    "\n",
    "dateStart = np.datetime64('2010-01-01')\n",
    "dateEnd = np.datetime64('2017-01-31')\n",
    "\n",
    "# np_dates_result = np_dates[np_dates == dateStart]\n",
    "\n",
    "np_dates = np_dates[(np_dates>=dateStart)]\n",
    "np_dates = np_dates[(np_dates<=dateEnd)]\n",
    "\n",
    "print(np_dates)"
   ]
  },
  {
   "attachments": {},
   "cell_type": "markdown",
   "metadata": {},
   "source": [
    "Solucion"
   ]
  },
  {
   "cell_type": "code",
   "execution_count": 68,
   "metadata": {},
   "outputs": [
    {
     "name": "stdout",
     "output_type": "stream",
     "text": [
      "271\n"
     ]
    }
   ],
   "source": [
    "\n",
    "import  numpy  as np\n",
    "import csv\n",
    "\n",
    "file_obj = open('Datasets/Sample.csv')\n",
    "data = csv.DictReader(file_obj, skipinitialspace = True)\n",
    "\n",
    "day = []\n",
    "month = []\n",
    "year = []\n",
    "\n",
    "for row in data:\n",
    "    day.append(row['Day'])\n",
    "    month.append(row['Month'])\n",
    "    year.append(row['Year'])\n",
    "\n",
    "\n",
    "list_dates = [f\"{int(y)}-{int(m):02d}-{int(d):02d}\" for y, m, d in zip(year, month, day)]\n",
    "\n",
    "dates = []\n",
    "for i in list_dates:\n",
    "    if '00' in i:\n",
    "        continue\n",
    "    dates.append(i)\n",
    "    \n",
    "# Convierte los formatos de fecha en un tipo numpy.datetime64\n",
    "np_dates = np.array(dates, dtype='datetime64')\n",
    "\n",
    "dateStart = np.datetime64('2010-01-01')\n",
    "dateEnd = np.datetime64('2010-01-31')\n",
    "\n",
    "# np_dates_result = np_dates[np_dates == dateStart]\n",
    "np_dates = np_dates[(np_dates>=dateStart)]\n",
    "np_dates = np_dates[(np_dates<=dateEnd)]\n",
    "\n",
    "print(np.count_nonzero(np_dates))"
   ]
  },
  {
   "attachments": {},
   "cell_type": "markdown",
   "metadata": {},
   "source": [
    "Terror Casualty Attack\n",
    "\n",
    "Given file \"terrorismData.csv\"\n",
    "It is an open-source database including information on terrorist attacks around the world from 1970 through 2017. This dataset includes systematic data on domestic as well as international terrorist incidents that have occurred during this time period\n",
    "\n",
    "Problem Statement :\n",
    "As we knew the Kargil ( in Jammu and Kashmir) War that took place between May 1999 and July 1999 (3 Months) ,so there was a huge conflict in Kashmir Valley during this period.\n",
    "In this dataset, there is no information regarding the war between the two countries to find out the casualty during the war.\n",
    "So find out the attack in this period in which maximum casualties happened.\n",
    "Print the count of casualties (as integer), city in which that attack happened and name of attack group.\n",
    "Note : Casualty = Killed + Wounded.Fill the empty value in killed or wounded feature to 0.\n",
    "Output Format :\n",
    "Casualty City TerroristGroup\n"
   ]
  },
  {
   "cell_type": "code",
   "execution_count": 91,
   "metadata": {},
   "outputs": [
    {
     "name": "stdout",
     "output_type": "stream",
     "text": [
      "22 Kargil District Separatists\n"
     ]
    }
   ],
   "source": [
    "\n",
    "import  numpy  as np\n",
    "import csv\n",
    "\n",
    "casualty=[]\n",
    "month=[]\n",
    "city=[]\n",
    "\n",
    "with open('Datasets/Sample.csv', 'r', encoding='utf-8') as data:\n",
    "    reader = csv.DictReader(data)\n",
    "    for row in reader:\n",
    "        if row['State']=='Jammu and Kashmir' and row['Year']=='1999':\n",
    "            if row['Month']=='5' or row['Month'] == 6 or row['Month'] == 7:\n",
    "                city.append([row['City'], row['Group']])\n",
    "                casualty.append([row['Killed'], row['Wounded']])\n",
    "\n",
    "npcasualty=np.array(casualty)\n",
    "npcity=np.array(city)\n",
    "npcasualty[npcasualty=='']=0\n",
    "npcasualty=np.array(npcasualty,dtype=float)\n",
    "npcasualty=np.sum(npcasualty,axis=1)\n",
    "index=np.argmax(npcasualty)\n",
    "print(int(npcasualty[index]),npcity[index][0],npcity[index][1])\n",
    "\n",
    "\n",
    "\n"
   ]
  },
  {
   "attachments": {},
   "cell_type": "markdown",
   "metadata": {},
   "source": [
    "Terror Casualty Red\n",
    "\n",
    "Given file \"terrorismData.csv\"\n",
    "It is an open-source database including information on terrorist attacks around the world from 1970 through 2017. This dataset includes systematic data on domestic as well as international terrorist incidents that have occurred during this time period\n",
    "Problem Statement :\n",
    "Find the casualty in the Red Corridor States ? Mainly Red corridor states include Jharkhand, Odisha, Andhra Pradesh, and Chhattisgarh.\n",
    "Note: Casualty=Killed +Wounded\n",
    "Print count of Casualty as integer value.\n",
    "Output Format :\n",
    "Count"
   ]
  },
  {
   "cell_type": "code",
   "execution_count": 98,
   "metadata": {},
   "outputs": [
    {
     "name": "stdout",
     "output_type": "stream",
     "text": [
      "5628\n"
     ]
    }
   ],
   "source": [
    "import  numpy  as np\n",
    "import csv\n",
    "\n",
    "casualty=[]\n",
    "month=[]\n",
    "city=[]\n",
    "\n",
    "with open('Datasets/Sample.csv', 'r', encoding='utf-8') as data:\n",
    "    reader = csv.DictReader(data)\n",
    "    for row in reader:\n",
    "        if row['State']in['Jharkhand', 'Odisha', 'Andhra Pradesh','Chhattisgarh'] :\n",
    "                city.append([row['City'], row['Group']])\n",
    "                casualty.append([row['Killed'], row['Wounded']])\n",
    "\n",
    "npcasualty=np.array(casualty)\n",
    "npcasualty[npcasualty=='']=0\n",
    "npcasualty=np.array(npcasualty,dtype=float)\n",
    "npcasualty=np.sum(npcasualty,axis=1)\n",
    "print(np.sum(npcasualty).astype(int))"
   ]
  },
  {
   "attachments": {},
   "cell_type": "markdown",
   "metadata": {},
   "source": [
    "Terror City Casualty\n",
    "\n",
    "Given file \"terrorismData.csv\"\n",
    "It is an open-source database including information on terrorist attacks around the world from 1970 through 2017. This dataset includes systematic data on domestic as well as international terrorist incidents that have occurred during this time period\n",
    "\n",
    "Problem Statement :\n",
    "Find top 5 Indian Cities which has most number of casualties ?\n",
    "Print top 5 cities along with total casualties in that city. Print count of Casualty as integer value.\n",
    "Note: Ignoring the City which is Unknown.\n",
    "Casualty = Killed + Wounded.\n",
    "Output Format :\n",
    "city_1 casualty_1\n",
    "city_2 casualty_2\n",
    "city_3 casualty_3\n",
    "city_4 casualty_4\n",
    "city_5 casualty_5"
   ]
  },
  {
   "cell_type": "code",
   "execution_count": 138,
   "metadata": {},
   "outputs": [
    {
     "name": "stdout",
     "output_type": "stream",
     "text": [
      "['Aankro' 'Aatpal' 'Abhapalli' ... 'runikhata' 'srinagar' 'uri']\n",
      "Guwahati   822\n",
      "Jammu   1119\n",
      "Mumbai   2016\n",
      "Srinagar   3134\n",
      "New Delhi   2095\n"
     ]
    }
   ],
   "source": [
    "\n",
    "import  numpy  as np\n",
    "import csv\n",
    "\n",
    "casualty=[]\n",
    "month=[]\n",
    "city=[]\n",
    "\n",
    "with open('Datasets/Sample.csv', 'r', encoding='utf-8') as data:\n",
    "    reader = csv.DictReader(data)\n",
    "    for row in reader:\n",
    "        if row['Country'] == 'India':\n",
    "                city.append(row['City'])\n",
    "                casualty.append([row['Killed'], row['Wounded']])\n",
    "\n",
    "npcasualty=np.array(casualty)\n",
    "npcity=np.array(city)\n",
    "npcasualty[npcasualty=='']=0\n",
    "npcasualty=np.array(npcasualty,dtype=float)\n",
    "npcasualty=np.sum(npcasualty,axis=1)\n",
    "\n",
    "np_cities = np.unique(npcity)\n",
    "print(np_cities)\n",
    "\n",
    "city_casualties = []\n",
    "for i in np_cities:\n",
    "    if i == 'Unknown':\n",
    "        continue\n",
    "    city_idx = npcity == i\n",
    "    city_casualties.append(np.sum(npcasualty[city_idx]))\n",
    "\n",
    "npcasualty = np.array(city_casualties)\n",
    "index=np.argpartition(npcasualty, -5)[-5:]\n",
    "for i in index:\n",
    "    print(np_cities[i], ' ', npcasualty[i].astype(int))\n",
    "# print(int(npcasualty[index]),npcity[index][0],npcity[index][1])\n",
    "\n"
   ]
  },
  {
   "cell_type": "markdown",
   "metadata": {},
   "source": []
  },
  {
   "cell_type": "markdown",
   "metadata": {},
   "source": [
    "Terrorism FrequentDay\n",
    "\n",
    "Given file \"terrorismData.csv\"\n",
    "It is an open-source database including information on terrorist attacks around the world from 1970 through 2017. This dataset includes systematic data on domestic as well as international terrorist incidents that have occurred during this time period\n",
    "Problem Statement :\n",
    "Find the most frequent day of attack in a terrorismDataset ?\n",
    "Note: Here np.unique can be used.\n",
    "Print count of frequent day and number of attack as Integer value.\n",
    "Output Format :\n",
    "Day NumberOFAttack"
   ]
  },
  {
   "cell_type": "code",
   "execution_count": 8,
   "metadata": {},
   "outputs": [
    {
     "name": "stdout",
     "output_type": "stream",
     "text": [
      "11   52285\n"
     ]
    }
   ],
   "source": [
    "\n",
    "import  numpy  as np\n",
    "import csv\n",
    "\n",
    "casualty=[]\n",
    "day=[]\n",
    "\n",
    "with open('Datasets/Sample.csv', 'r', encoding='utf-8') as data:\n",
    "    reader = csv.DictReader(data)\n",
    "    for row in reader:\n",
    "        if row['Day']!='0' and row['Month'] != '0':\n",
    "            day.append(row['Day'])\n",
    "            casualty.append([row['Killed'], row['Wounded']])\n",
    "\n",
    "npcasualty=np.array(casualty)\n",
    "npday=np.array(day).astype(int)\n",
    "npcasualty[npcasualty=='']=0\n",
    "npcasualty=np.array(npcasualty,dtype=float)\n",
    "npcasualty=np.sum(npcasualty,axis=1).astype(int)\n",
    "\n",
    "dayIdx = np.unique(npday)\n",
    "byDay = []\n",
    "for i in dayIdx:\n",
    "    idx = npday == i\n",
    "    byDay.append(np.sum(npcasualty[idx]))\n",
    "\n",
    "idx = np.argmax(byDay)\n",
    "print(dayIdx[idx],' ', byDay[idx])\n",
    "\n",
    "\n",
    "\n"
   ]
  },
  {
   "cell_type": "code",
   "execution_count": 9,
   "metadata": {},
   "outputs": [
    {
     "name": "stdout",
     "output_type": "stream",
     "text": [
      "15   6500\n"
     ]
    }
   ],
   "source": [
    "\n",
    "import  numpy  as np\n",
    "import csv\n",
    "\n",
    "casualty=[]\n",
    "day=[]\n",
    "\n",
    "with open('Datasets/Sample.csv', 'r', encoding='utf-8') as data:\n",
    "    reader = csv.DictReader(data)\n",
    "    for row in reader:\n",
    "        if row['Day']!='0' and row['Month'] != '0':\n",
    "            day.append(row['Day'])\n",
    "\n",
    "npday=np.array(day).astype(int)\n",
    "\n",
    "dayIdx = np.unique(npday)\n",
    "byDay = []\n",
    "for i in dayIdx:\n",
    "    idx = npday == i\n",
    "    byDay.append(np.count_nonzero(npday[idx]))\n",
    "\n",
    "idx = np.argmax(byDay)\n",
    "print(dayIdx[idx],' ', byDay[idx])\n",
    "\n",
    "\n",
    "\n"
   ]
  }
 ],
 "metadata": {
  "kernelspec": {
   "display_name": "Python 3",
   "language": "python",
   "name": "python3"
  },
  "language_info": {
   "codemirror_mode": {
    "name": "ipython",
    "version": 3
   },
   "file_extension": ".py",
   "mimetype": "text/x-python",
   "name": "python",
   "nbconvert_exporter": "python",
   "pygments_lexer": "ipython3",
   "version": "3.10.6 (main, Nov 14 2022, 16:10:14) [GCC 11.3.0]"
  },
  "orig_nbformat": 4,
  "vscode": {
   "interpreter": {
    "hash": "916dbcbb3f70747c44a77c7bcd40155683ae19c65e1c03b4aa3499c5328201f1"
   }
  }
 },
 "nbformat": 4,
 "nbformat_minor": 2
}
