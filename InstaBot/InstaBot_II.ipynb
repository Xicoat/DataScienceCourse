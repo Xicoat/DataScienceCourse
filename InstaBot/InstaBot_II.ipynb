{
 "cells": [
  {
   "cell_type": "markdown",
   "metadata": {},
   "source": [
    "# InstaBot - Part 2"
   ]
  },
  {
   "cell_type": "code",
   "execution_count": 292,
   "metadata": {},
   "outputs": [
    {
     "data": {
      "text/plain": [
       "<selenium.webdriver.chrome.webdriver.WebDriver (session=\"42645159c2ef18c98b956ab48f532f47\")>"
      ]
     },
     "execution_count": 292,
     "metadata": {},
     "output_type": "execute_result"
    }
   ],
   "source": [
    "''' Load WebDriver & libraries '''\n",
    "\n",
    "from time import sleep\n",
    "from selenium import webdriver\n",
    "from selenium.webdriver.chrome.service import Service\n",
    "from selenium.webdriver.common.by import By\n",
    "from selenium.common.exceptions import NoSuchElementException\n",
    "\n",
    "import re\n",
    "import pandas as pd\n",
    "from datetime import datetime\n",
    "import matplotlib.pyplot as plt\n",
    "\n",
    "\n",
    "service= Service(executable_path=\"\\\\chromedriver\")\n",
    "driver = webdriver.Chrome(service=service)\n",
    "driver"
   ]
  },
  {
   "cell_type": "code",
   "execution_count": 293,
   "metadata": {},
   "outputs": [],
   "source": [
    "''' Logging in '''\n",
    "\n",
    "username = \"SAMPLE USERNAME\" \n",
    "password = \"SAMPLE PASSWORD\"\n",
    "\n",
    "def home():\n",
    "    driver.get('https://www.instagram.com')\n",
    "    sleep(5)\n",
    "    \n",
    "def login(username, password):\n",
    "    home()\n",
    "    username_box = driver.find_element(By.NAME, 'username')\n",
    "    password_box = driver.find_element(By.NAME, 'password')\n",
    "    username_box.clear\n",
    "    username_box.send_keys(username)\n",
    "    password_box.clear\n",
    "    password_box.send_keys(password)\n",
    "    password_box.submit()\n",
    "    \n",
    "def turn_off_notifications():\n",
    "    try:\n",
    "        notifications_popup = driver.find_element(By.CLASS_NAME, '_a9--')\n",
    "        notifications_popup.click()\n",
    "    except NoSuchElementException:\n",
    "        pass\n",
    "\n",
    "login(username, password)\n",
    "turn_off_notifications()"
   ]
  },
  {
   "cell_type": "markdown",
   "metadata": {},
   "source": [
    "### 1 -  Now your friend has followed a lot of different food bloggers, he needs to analyse the habits of these bloggers."
   ]
  },
  {
   "cell_type": "code",
   "execution_count": 301,
   "metadata": {},
   "outputs": [],
   "source": [
    "def get_menu_buttons(button_name):\n",
    "    sleep(3)\n",
    "    buttons = {\n",
    "        'Search': driver.find_element(\"css selector\", \"svg[aria-label='Search']\"),\n",
    "        'Profile': driver.find_element(By.XPATH, \"//div[@class='xh8yej3 x1iyjqo2']//div[8]\")\n",
    "    }\n",
    "    return buttons[button_name]\n",
    "\n",
    "def search(word_to_search):\n",
    "    search_button = get_menu_buttons('Search')\n",
    "    search_button.click()\n",
    "    sleep(4)\n",
    "    search_box = driver.find_element(\"css selector\", \"input[aria-label='Search input']\")\n",
    "    search_box.clear()\n",
    "    search_box.send_keys(word_to_search)\n",
    "    sleep(4)\n",
    "\n",
    "def get_search_results_df():\n",
    "    names_driver = driver.find_elements(\"xpath\", '//div[@role=\"none\"]')\n",
    "    names_list = []\n",
    "    for j in names_driver:\n",
    "        combined_text = j.text\n",
    "        names = combined_text.split('\\n')\n",
    "        names_list.append(names)\n",
    "    df = pd.DataFrame(names_list, columns = ['Id','Name'])\n",
    "    return(df)\n",
    "\n",
    "def get_count_followers_str():\n",
    "    element = driver.find_element(By.PARTIAL_LINK_TEXT, 'followers')\n",
    "    element2 = element.find_element(By.TAG_NAME,'span')\n",
    "    followers_str = element2.text\n",
    "    return followers_str\n",
    "\n",
    "def turn_count_str_to_int(str_value):\n",
    "    multiply = {\n",
    "        'K':1000,\n",
    "        'M':1000000,\n",
    "        '':1000\n",
    "    }\n",
    "    numeric_part = float('.'.join(re.findall(r'\\d+', str_value)))\n",
    "    alpha_part = ''.join(re.findall(r'[a-zA-Z]+', str_value))\n",
    "    int_value = int(numeric_part * multiply[alpha_part])\n",
    "    # print(str_value, numeric_part, alpha_part, int_value)\n",
    "    return(int_value)\n",
    "\n",
    "def turn_count_list_numeric(str_list):\n",
    "    followers_count_int = []\n",
    "    for i in str_list:\n",
    "        a = turn_count_str_to_int(i)\n",
    "        followers_count_int.append(a)\n",
    "    return(followers_count_int)"
   ]
  },
  {
   "attachments": {},
   "cell_type": "markdown",
   "metadata": {},
   "source": [
    "#### 1.1 From the list of instagram handles you obtained when you searched ‘food’ in previous project. Open the first 10 handles and find the top 5 which have the highest number of followers\n"
   ]
  },
  {
   "cell_type": "code",
   "execution_count": 302,
   "metadata": {},
   "outputs": [],
   "source": [
    "''' Get top 10 handles for \"food\" '''\n",
    "\n",
    "search('food')\n",
    "df_profiles = get_search_results_df()\n",
    "mask = ~df_profiles['Id'].str.startswith('#')\n",
    "df_profiles = df_profiles[mask]\n",
    "df_profiles = df_profiles.iloc[0:10, 0]"
   ]
  },
  {
   "cell_type": "code",
   "execution_count": 303,
   "metadata": {},
   "outputs": [],
   "source": [
    "''' Get followers from top 10 handles '''\n",
    "\n",
    "url_base = 'https://www.instagram.com/'\n",
    "followers_count_str = []\n",
    "for i in df_profiles:\n",
    "    profile = i\n",
    "    url = url_base + profile\n",
    "    driver.get(url)\n",
    "    sleep(5)\n",
    "    n = get_count_followers_str()\n",
    "    followers_count_str.append(n)"
   ]
  },
  {
   "cell_type": "code",
   "execution_count": 304,
   "metadata": {},
   "outputs": [
    {
     "data": {
      "text/html": [
       "<div>\n",
       "<style scoped>\n",
       "    .dataframe tbody tr th:only-of-type {\n",
       "        vertical-align: middle;\n",
       "    }\n",
       "\n",
       "    .dataframe tbody tr th {\n",
       "        vertical-align: top;\n",
       "    }\n",
       "\n",
       "    .dataframe thead th {\n",
       "        text-align: right;\n",
       "    }\n",
       "</style>\n",
       "<table border=\"1\" class=\"dataframe\">\n",
       "  <thead>\n",
       "    <tr style=\"text-align: right;\">\n",
       "      <th></th>\n",
       "      <th>User</th>\n",
       "      <th>Followers</th>\n",
       "    </tr>\n",
       "  </thead>\n",
       "  <tbody>\n",
       "    <tr>\n",
       "      <th>4</th>\n",
       "      <td>foodporn</td>\n",
       "      <td>1100000</td>\n",
       "    </tr>\n",
       "    <tr>\n",
       "      <th>6</th>\n",
       "      <td>food</td>\n",
       "      <td>182000</td>\n",
       "    </tr>\n",
       "    <tr>\n",
       "      <th>8</th>\n",
       "      <td>foodandtravelmx</td>\n",
       "      <td>116000</td>\n",
       "    </tr>\n",
       "    <tr>\n",
       "      <th>0</th>\n",
       "      <td>foodandpleasure_</td>\n",
       "      <td>101000</td>\n",
       "    </tr>\n",
       "    <tr>\n",
       "      <th>3</th>\n",
       "      <td>delhifoodguide</td>\n",
       "      <td>100000</td>\n",
       "    </tr>\n",
       "  </tbody>\n",
       "</table>\n",
       "</div>"
      ],
      "text/plain": [
       "               User  Followers\n",
       "4          foodporn    1100000\n",
       "6              food     182000\n",
       "8   foodandtravelmx     116000\n",
       "0  foodandpleasure_     101000\n",
       "3    delhifoodguide     100000"
      ]
     },
     "execution_count": 304,
     "metadata": {},
     "output_type": "execute_result"
    }
   ],
   "source": [
    "''' Cleaning and finding top 5 most followed '''\n",
    "\n",
    "followers_list = turn_count_list_numeric(followers_count_str)\n",
    "df_followed = pd.DataFrame({'User':df_profiles, 'Followers':followers_list})\n",
    "df_followed = df_followed.sort_values('Followers', ascending=False)\n",
    "df_followed = df_followed.iloc[0:5,]\n",
    "df_followed"
   ]
  },
  {
   "cell_type": "markdown",
   "metadata": {},
   "source": [
    "#### 1.2 Now Find the number of posts these handles have done in the previous 3 days.\n"
   ]
  },
  {
   "cell_type": "code",
   "execution_count": 305,
   "metadata": {},
   "outputs": [],
   "source": [
    "def get_navigation_buttons():\n",
    "    ''' function that returns next, back and like buttons as selenium objects, also returns unlike flag '''\n",
    "    \n",
    "    button_list = driver.find_elements(By.XPATH, '//button[@class=\"_abl-\"]')\n",
    "    idx, next_idx = 0, 0\n",
    "    for i in button_list:\n",
    "        try:\n",
    "            element = i.find_element(By.TAG_NAME, 'title')\n",
    "            txt = element.get_attribute(\"innerHTML\")\n",
    "            if (txt == 'Next'):\n",
    "                next_idx = idx\n",
    "        except:\n",
    "            pass\n",
    "        idx+=1\n",
    "    return(button_list[next_idx])\n",
    "\n",
    "def open_first_posts():\n",
    "    first_element = driver.find_element(By.XPATH, '//div[@class=\"_aagw\"]')\n",
    "    first_element.click()\n",
    "    sleep(3)\n",
    "\n",
    "def get_post_date():\n",
    "    # open_posts()\n",
    "    element = driver.find_element(By.TAG_NAME,'time')\n",
    "    element.get_attribute(\"outerHTML\")\n",
    "    fecha_str = element.get_attribute(\"title\")\n",
    "    post_date = datetime.strptime(fecha_str, \"%b %d, %Y\")\n",
    "    return(post_date)\n",
    "\n",
    "def is_3_days():\n",
    "    today = datetime.now()\n",
    "    post_date = get_post_date()\n",
    "    days = (today.date() - post_date.date()).days\n",
    "    # print(days)\n",
    "    return (days <= 3)\n",
    "\n",
    "def next_post():\n",
    "    sleep(3)\n",
    "    next_button = get_navigation_buttons()\n",
    "    next_button.click()\n",
    "\n",
    "def get_count_posts():\n",
    "    post_count = 0\n",
    "    open_first_posts()\n",
    "    # This prevent pinned post\n",
    "    post_count += 1 if is_3_days() else 0\n",
    "    next_post()\n",
    "    # Start at 2nd post\n",
    "    while(is_3_days()):\n",
    "        post_count += 1\n",
    "        next_post()\n",
    "    return post_count"
   ]
  },
  {
   "cell_type": "code",
   "execution_count": 306,
   "metadata": {},
   "outputs": [],
   "source": [
    "url_base = 'https://www.instagram.com/'\n",
    "\n",
    "df_profiles = df.iloc[0:5,0]\n",
    "\n",
    "followers_count_post = []\n",
    "for i in df_profiles:\n",
    "    profile = i\n",
    "    url = url_base + profile\n",
    "    driver.get(url)\n",
    "    sleep(5)\n",
    "    n = get_count_posts()\n",
    "    followers_count_post.append(n)"
   ]
  },
  {
   "cell_type": "code",
   "execution_count": 307,
   "metadata": {},
   "outputs": [
    {
     "data": {
      "text/html": [
       "<div>\n",
       "<style scoped>\n",
       "    .dataframe tbody tr th:only-of-type {\n",
       "        vertical-align: middle;\n",
       "    }\n",
       "\n",
       "    .dataframe tbody tr th {\n",
       "        vertical-align: top;\n",
       "    }\n",
       "\n",
       "    .dataframe thead th {\n",
       "        text-align: right;\n",
       "    }\n",
       "</style>\n",
       "<table border=\"1\" class=\"dataframe\">\n",
       "  <thead>\n",
       "    <tr style=\"text-align: right;\">\n",
       "      <th></th>\n",
       "      <th>User</th>\n",
       "      <th>Recent Posts</th>\n",
       "    </tr>\n",
       "  </thead>\n",
       "  <tbody>\n",
       "    <tr>\n",
       "      <th>8</th>\n",
       "      <td>foodporn</td>\n",
       "      <td>0</td>\n",
       "    </tr>\n",
       "    <tr>\n",
       "      <th>0</th>\n",
       "      <td>foodtalkindia</td>\n",
       "      <td>3</td>\n",
       "    </tr>\n",
       "    <tr>\n",
       "      <th>6</th>\n",
       "      <td>food</td>\n",
       "      <td>1</td>\n",
       "    </tr>\n",
       "    <tr>\n",
       "      <th>1</th>\n",
       "      <td>foodandpleasure_</td>\n",
       "      <td>1</td>\n",
       "    </tr>\n",
       "    <tr>\n",
       "      <th>3</th>\n",
       "      <td>delhifoodguide</td>\n",
       "      <td>0</td>\n",
       "    </tr>\n",
       "  </tbody>\n",
       "</table>\n",
       "</div>"
      ],
      "text/plain": [
       "               User  Recent Posts\n",
       "8          foodporn             0\n",
       "0     foodtalkindia             3\n",
       "6              food             1\n",
       "1  foodandpleasure_             1\n",
       "3    delhifoodguide             0"
      ]
     },
     "execution_count": 307,
     "metadata": {},
     "output_type": "execute_result"
    }
   ],
   "source": [
    "df_recent_posts = pd.DataFrame({'User':df_profiles, 'Recent Posts':followers_count_post})\n",
    "df_recent_posts"
   ]
  },
  {
   "attachments": {},
   "cell_type": "markdown",
   "metadata": {},
   "source": [
    "#### 1.3 Depict this information using a suitable graph.\n"
   ]
  },
  {
   "cell_type": "code",
   "execution_count": 308,
   "metadata": {},
   "outputs": [
    {
     "data": {
      "image/png": "[encoded data removed]",
      "text/plain": [
       "<Figure size 432x288 with 1 Axes>"
      ]
     },
     "metadata": {
      "needs_background": "light"
     },
     "output_type": "display_data"
    }
   ],
   "source": [
    "import matplotlib.pyplot as plt\n",
    "\n",
    "plt.bar(df_recent_posts['User'], df_recent_posts['Recent Posts'])\n",
    "plt.xlabel('User')\n",
    "plt.ylabel('Recent Posts')\n",
    "plt.title('Recent Posts by User (3 days)')\n",
    "\n",
    "plt.xticks(rotation=45)\n",
    "plt.show()\n"
   ]
  },
  {
   "attachments": {},
   "cell_type": "markdown",
   "metadata": {},
   "source": [
    "### 2 - Your friend also needs a list of hashtags that he should use in his posts."
   ]
  },
  {
   "cell_type": "code",
   "execution_count": 309,
   "metadata": {},
   "outputs": [],
   "source": [
    "def get_words():\n",
    "    element = driver.find_element(By.XPATH,'//div[@class = \"_a9zs\"]')\n",
    "    # element_1 = element.find_element(By.TAG_NAME, 'a')\n",
    "    element2 = element.find_element(By.TAG_NAME, 'h1')\n",
    "    # element_1.get_attribute(\"outerHTML\")\n",
    "    words_list = [i for i in element2.text.split()]\n",
    "    return words_list\n",
    "\n",
    "def get_words_10_posts(words_list):\n",
    "    for posts in range(10):\n",
    "        post_words = get_words()\n",
    "        for i in post_words:\n",
    "            words_list.append(i)\n",
    "        next_post()\n",
    "        sleep(3)\n",
    "\n",
    "def get_hashtags():\n",
    "    element = driver.find_element(By.XPATH,'//div[@class = \"_a9zs\"]')\n",
    "    # element_1 = element.find_element(By.TAG_NAME, 'a')\n",
    "    element2 = element.find_element(By.TAG_NAME, 'h1')\n",
    "    # element_1.get_attribute(\"outerHTML\")\n",
    "    hastags_list = [i for i in element2.text.split() if i.startswith('#')]\n",
    "    return hastags_list\n",
    "\n",
    "def get_hashtags_10_posts(hashtags_list):\n",
    "    for posts in range(10):\n",
    "        post_hashtags = get_hashtags()\n",
    "        for i in post_hashtags:\n",
    "            hashtags_list.append(i)\n",
    "        next_post()\n",
    "        sleep(3)"
   ]
  },
  {
   "attachments": {},
   "cell_type": "markdown",
   "metadata": {},
   "source": [
    "#### 2.1 - Open the 5 handles you obtained in the last question, and scrape the content of the first 10 posts of each handle.\n"
   ]
  },
  {
   "cell_type": "code",
   "execution_count": 310,
   "metadata": {},
   "outputs": [],
   "source": [
    "df_profiles = df.iloc[0:5,0]\n",
    "words_list = []\n",
    "\n",
    "url_base = 'https://www.instagram.com/'\n",
    "for i in df_profiles:\n",
    "    profile = i\n",
    "    url = url_base + profile\n",
    "    driver.get(url)\n",
    "    sleep(3)\n",
    "    open_first_posts()\n",
    "    get_words_10_posts(words_list)"
   ]
  },
  {
   "attachments": {},
   "cell_type": "markdown",
   "metadata": {},
   "source": [
    "#### 2.2 - Prepare a list of all words used in all the scraped posts and calculate the frequency of each word."
   ]
  },
  {
   "cell_type": "code",
   "execution_count": 311,
   "metadata": {},
   "outputs": [],
   "source": [
    "words_list = [i.title() for i in words_list] \n",
    "\n",
    "words_dict = {}\n",
    "for i in words_list:\n",
    "    if i not in words_dict:\n",
    "        words_dict[i] = 0\n",
    "    words_dict[i] += 1"
   ]
  },
  {
   "cell_type": "code",
   "execution_count": 312,
   "metadata": {},
   "outputs": [
    {
     "data": {
      "text/html": [
       "<div>\n",
       "<style scoped>\n",
       "    .dataframe tbody tr th:only-of-type {\n",
       "        vertical-align: middle;\n",
       "    }\n",
       "\n",
       "    .dataframe tbody tr th {\n",
       "        vertical-align: top;\n",
       "    }\n",
       "\n",
       "    .dataframe thead th {\n",
       "        text-align: right;\n",
       "    }\n",
       "</style>\n",
       "<table border=\"1\" class=\"dataframe\">\n",
       "  <thead>\n",
       "    <tr style=\"text-align: right;\">\n",
       "      <th></th>\n",
       "      <th>Word</th>\n",
       "      <th>Frequency</th>\n",
       "    </tr>\n",
       "  </thead>\n",
       "  <tbody>\n",
       "    <tr>\n",
       "      <th>47</th>\n",
       "      <td>The</td>\n",
       "      <td>83</td>\n",
       "    </tr>\n",
       "    <tr>\n",
       "      <th>5</th>\n",
       "      <td>A</td>\n",
       "      <td>62</td>\n",
       "    </tr>\n",
       "    <tr>\n",
       "      <th>132</th>\n",
       "      <td>And</td>\n",
       "      <td>56</td>\n",
       "    </tr>\n",
       "    <tr>\n",
       "      <th>18</th>\n",
       "      <td>To</td>\n",
       "      <td>51</td>\n",
       "    </tr>\n",
       "    <tr>\n",
       "      <th>10</th>\n",
       "      <td>In</td>\n",
       "      <td>45</td>\n",
       "    </tr>\n",
       "    <tr>\n",
       "      <th>...</th>\n",
       "      <td>...</td>\n",
       "      <td>...</td>\n",
       "    </tr>\n",
       "    <tr>\n",
       "      <th>590</th>\n",
       "      <td>#Cafes</td>\n",
       "      <td>1</td>\n",
       "    </tr>\n",
       "    <tr>\n",
       "      <th>589</th>\n",
       "      <td>#Brunch</td>\n",
       "      <td>1</td>\n",
       "    </tr>\n",
       "    <tr>\n",
       "      <th>588</th>\n",
       "      <td>#Mothersday</td>\n",
       "      <td>1</td>\n",
       "    </tr>\n",
       "    <tr>\n",
       "      <th>587</th>\n",
       "      <td>Spots!👯‍♀️</td>\n",
       "      <td>1</td>\n",
       "    </tr>\n",
       "    <tr>\n",
       "      <th>1428</th>\n",
       "      <td>Chowk</td>\n",
       "      <td>1</td>\n",
       "    </tr>\n",
       "  </tbody>\n",
       "</table>\n",
       "<p>1429 rows × 2 columns</p>\n",
       "</div>"
      ],
      "text/plain": [
       "             Word  Frequency\n",
       "47            The         83\n",
       "5               A         62\n",
       "132           And         56\n",
       "18             To         51\n",
       "10             In         45\n",
       "...           ...        ...\n",
       "590        #Cafes          1\n",
       "589       #Brunch          1\n",
       "588   #Mothersday          1\n",
       "587    Spots!👯‍♀️          1\n",
       "1428        Chowk          1\n",
       "\n",
       "[1429 rows x 2 columns]"
      ]
     },
     "execution_count": 312,
     "metadata": {},
     "output_type": "execute_result"
    }
   ],
   "source": [
    "df_words = pd.DataFrame(words_dict.items(), columns=['Word','Frequency'])\n",
    "df_words = df_words.sort_values('Frequency', ascending=False)\n",
    "df_words"
   ]
  },
  {
   "attachments": {},
   "cell_type": "markdown",
   "metadata": {},
   "source": [
    "#### 2.3 - Create a csv file with two columns : the word and its frequency"
   ]
  },
  {
   "cell_type": "code",
   "execution_count": 313,
   "metadata": {},
   "outputs": [],
   "source": [
    "df_words.to_csv(\"Words.csv\")"
   ]
  },
  {
   "attachments": {},
   "cell_type": "markdown",
   "metadata": {},
   "source": [
    "#### 2.4 - Now, find the hashtags that were most popular among these bloggers"
   ]
  },
  {
   "cell_type": "code",
   "execution_count": 314,
   "metadata": {},
   "outputs": [
    {
     "data": {
      "text/html": [
       "<div>\n",
       "<style scoped>\n",
       "    .dataframe tbody tr th:only-of-type {\n",
       "        vertical-align: middle;\n",
       "    }\n",
       "\n",
       "    .dataframe tbody tr th {\n",
       "        vertical-align: top;\n",
       "    }\n",
       "\n",
       "    .dataframe thead th {\n",
       "        text-align: right;\n",
       "    }\n",
       "</style>\n",
       "<table border=\"1\" class=\"dataframe\">\n",
       "  <thead>\n",
       "    <tr style=\"text-align: right;\">\n",
       "      <th></th>\n",
       "      <th>Word</th>\n",
       "      <th>Frequency</th>\n",
       "    </tr>\n",
       "  </thead>\n",
       "  <tbody>\n",
       "    <tr>\n",
       "      <th>24</th>\n",
       "      <td>#Food</td>\n",
       "      <td>13</td>\n",
       "    </tr>\n",
       "    <tr>\n",
       "      <th>248</th>\n",
       "      <td>#Foodblogger</td>\n",
       "      <td>11</td>\n",
       "    </tr>\n",
       "    <tr>\n",
       "      <th>249</th>\n",
       "      <td>#Delicious</td>\n",
       "      <td>10</td>\n",
       "    </tr>\n",
       "    <tr>\n",
       "      <th>246</th>\n",
       "      <td>#Foodtalkindia</td>\n",
       "      <td>10</td>\n",
       "    </tr>\n",
       "    <tr>\n",
       "      <th>247</th>\n",
       "      <td>#Foodiesofindia</td>\n",
       "      <td>10</td>\n",
       "    </tr>\n",
       "    <tr>\n",
       "      <th>252</th>\n",
       "      <td>#Discover</td>\n",
       "      <td>10</td>\n",
       "    </tr>\n",
       "    <tr>\n",
       "      <th>251</th>\n",
       "      <td>#Instafood</td>\n",
       "      <td>10</td>\n",
       "    </tr>\n",
       "    <tr>\n",
       "      <th>250</th>\n",
       "      <td>#Yummy</td>\n",
       "      <td>10</td>\n",
       "    </tr>\n",
       "    <tr>\n",
       "      <th>398</th>\n",
       "      <td>#Delhi</td>\n",
       "      <td>5</td>\n",
       "    </tr>\n",
       "    <tr>\n",
       "      <th>23</th>\n",
       "      <td>#Foodporn</td>\n",
       "      <td>5</td>\n",
       "    </tr>\n",
       "  </tbody>\n",
       "</table>\n",
       "</div>"
      ],
      "text/plain": [
       "                Word  Frequency\n",
       "24             #Food         13\n",
       "248     #Foodblogger         11\n",
       "249       #Delicious         10\n",
       "246   #Foodtalkindia         10\n",
       "247  #Foodiesofindia         10\n",
       "252        #Discover         10\n",
       "251       #Instafood         10\n",
       "250           #Yummy         10\n",
       "398           #Delhi          5\n",
       "23         #Foodporn          5"
      ]
     },
     "execution_count": 314,
     "metadata": {},
     "output_type": "execute_result"
    }
   ],
   "source": [
    "hashtags_popular = df_words[df_words['Word'].str.startswith(\"#\")]\n",
    "hashtags_popular.head(10)"
   ]
  },
  {
   "attachments": {},
   "cell_type": "markdown",
   "metadata": {},
   "source": [
    "#### 2.5 - Plot a Pie Chart of the top 5 hashtags obtained and the number of times they were used by these bloggers in the scraped posts."
   ]
  },
  {
   "cell_type": "code",
   "execution_count": 326,
   "metadata": {},
   "outputs": [
    {
     "data": {
      "image/png": "[encoded data removed]",
      "text/plain": [
       "<Figure size 432x288 with 1 Axes>"
      ]
     },
     "metadata": {},
     "output_type": "display_data"
    }
   ],
   "source": [
    "plt.pie(hashtags_popular.head(5)['Frequency'], labels=hashtags_popular.head(5)['Word'], autopct='%1.1f%%', startangle=90)\n",
    "plt.axis('equal') \n",
    "plt.title('Top 5 Hashtags and Frequencies')\n",
    "plt.show()\n"
   ]
  },
  {
   "attachments": {},
   "cell_type": "markdown",
   "metadata": {},
   "source": [
    "### 3 - You need to also calculate average followers : likes ratio for the obtained handles."
   ]
  },
  {
   "attachments": {},
   "cell_type": "markdown",
   "metadata": {},
   "source": [
    "#### 3.1 - Find out the likes of the top 10 posts of the 5 handles obtained earlier."
   ]
  },
  {
   "cell_type": "code",
   "execution_count": 315,
   "metadata": {},
   "outputs": [],
   "source": [
    "element = driver.find_element(By.XPATH,'//section[@class=\"_ae5m _ae5n _ae5o\"]')"
   ]
  },
  {
   "cell_type": "code",
   "execution_count": 232,
   "metadata": {},
   "outputs": [],
   "source": [
    "def get_likes():\n",
    "    element = driver.find_element(By.XPATH,'//section[@class=\"_ae5m _ae5n _ae5o\"]')\n",
    "    element1 = element.find_elements(By.TAG_NAME, 'span')\n",
    "    likes_text = element1[-1].text\n",
    "    try:\n",
    "        likes_int = int(likes_text.replace(\",\", \"\"))\n",
    "    except ValueError:\n",
    "        likes_int = 1\n",
    "    # print(likes_int)\n",
    "    return likes_int\n",
    "\n",
    "def get_likes_10_posts():\n",
    "    sleep(3)\n",
    "    likes_list = []\n",
    "    for posts in range(10):\n",
    "        post_likes = get_likes()\n",
    "        likes_list.append(post_likes)\n",
    "        next_post()\n",
    "        sleep(4)\n",
    "    return likes_list\n"
   ]
  },
  {
   "cell_type": "code",
   "execution_count": 329,
   "metadata": {},
   "outputs": [],
   "source": [
    "likes_list = []\n",
    "\n",
    "url_base = 'https://www.instagram.com/'\n",
    "df_profiles = df.iloc[0:5,0]\n",
    "for i in df_profiles:\n",
    "    url = url_base + i\n",
    "    driver.get(url)\n",
    "    sleep(5)\n",
    "    open_first_posts()\n",
    "    likes_list.append(get_likes_10_posts())"
   ]
  },
  {
   "cell_type": "code",
   "execution_count": 330,
   "metadata": {},
   "outputs": [
    {
     "data": {
      "text/plain": [
       "{'foodporn': [1496, 12334, 165254, 474, 4678, 7676, 3393, 3289, 4985, 1073],\n",
       " 'foodtalkindia': [241, 668, 123, 532, 256, 377, 124, 561, 363, 545],\n",
       " 'food': [1, 1, 1, 1, 1, 1, 1, 1, 1, 1],\n",
       " 'foodandpleasure_': [476, 1259, 289, 332, 401, 1255, 103, 839, 260, 925],\n",
       " 'delhifoodguide': [258, 443, 795, 1029, 155, 505, 336, 304, 248, 1998]}"
      ]
     },
     "execution_count": 330,
     "metadata": {},
     "output_type": "execute_result"
    }
   ],
   "source": [
    "likes_dict = {}\n",
    "for i, j in zip(df_profiles,likes_list):\n",
    "    likes_dict[i] = j\n",
    "\n",
    "likes_dict"
   ]
  },
  {
   "attachments": {},
   "cell_type": "markdown",
   "metadata": {},
   "source": [
    "#### 3.2 - Calculate the average likes for a handle."
   ]
  },
  {
   "cell_type": "code",
   "execution_count": 331,
   "metadata": {},
   "outputs": [
    {
     "data": {
      "text/html": [
       "<div>\n",
       "<style scoped>\n",
       "    .dataframe tbody tr th:only-of-type {\n",
       "        vertical-align: middle;\n",
       "    }\n",
       "\n",
       "    .dataframe tbody tr th {\n",
       "        vertical-align: top;\n",
       "    }\n",
       "\n",
       "    .dataframe thead th {\n",
       "        text-align: right;\n",
       "    }\n",
       "</style>\n",
       "<table border=\"1\" class=\"dataframe\">\n",
       "  <thead>\n",
       "    <tr style=\"text-align: right;\">\n",
       "      <th></th>\n",
       "      <th>Users</th>\n",
       "      <th>Average Likes</th>\n",
       "    </tr>\n",
       "  </thead>\n",
       "  <tbody>\n",
       "    <tr>\n",
       "      <th>0</th>\n",
       "      <td>foodporn</td>\n",
       "      <td>20465.2</td>\n",
       "    </tr>\n",
       "    <tr>\n",
       "      <th>1</th>\n",
       "      <td>foodtalkindia</td>\n",
       "      <td>379.0</td>\n",
       "    </tr>\n",
       "    <tr>\n",
       "      <th>2</th>\n",
       "      <td>food</td>\n",
       "      <td>1.0</td>\n",
       "    </tr>\n",
       "    <tr>\n",
       "      <th>3</th>\n",
       "      <td>foodandpleasure_</td>\n",
       "      <td>613.9</td>\n",
       "    </tr>\n",
       "    <tr>\n",
       "      <th>4</th>\n",
       "      <td>delhifoodguide</td>\n",
       "      <td>607.1</td>\n",
       "    </tr>\n",
       "  </tbody>\n",
       "</table>\n",
       "</div>"
      ],
      "text/plain": [
       "              Users  Average Likes\n",
       "0          foodporn        20465.2\n",
       "1     foodtalkindia          379.0\n",
       "2              food            1.0\n",
       "3  foodandpleasure_          613.9\n",
       "4    delhifoodguide          607.1"
      ]
     },
     "execution_count": 331,
     "metadata": {},
     "output_type": "execute_result"
    }
   ],
   "source": [
    "for key, values in likes_dict.items():\n",
    "    avg = sum(values)/len(values)\n",
    "    likes_dict[key] = avg\n",
    "\n",
    "df_likes = pd.DataFrame(likes_dict.items(), columns = ['Users', 'Average Likes'])\n",
    "df_likes"
   ]
  },
  {
   "attachments": {},
   "cell_type": "markdown",
   "metadata": {},
   "source": [
    "#### 3.3 - Divide the average likes obtained from the number of followers of the handle to get the average followers:like ratio of each handle."
   ]
  },
  {
   "cell_type": "code",
   "execution_count": 332,
   "metadata": {},
   "outputs": [
    {
     "data": {
      "text/plain": [
       "0    0.018605\n",
       "1    0.002082\n",
       "2    0.000009\n",
       "3    0.006078\n",
       "4    0.006071\n",
       "dtype: float64"
      ]
     },
     "execution_count": 332,
     "metadata": {},
     "output_type": "execute_result"
    }
   ],
   "source": [
    "r = df_likes['Average Likes'].reset_index(drop=True)  / df_followed['Followers'].reset_index(drop=True) \n",
    "r"
   ]
  },
  {
   "attachments": {},
   "cell_type": "markdown",
   "metadata": {},
   "source": [
    "#### 3.4 - Create a bar graph to depict the above obtained information."
   ]
  },
  {
   "cell_type": "code",
   "execution_count": 291,
   "metadata": {},
   "outputs": [
    {
     "data": {
      "image/png": "[encoded data removed]",
      "text/plain": [
       "<Figure size 432x288 with 2 Axes>"
      ]
     },
     "metadata": {
      "needs_background": "light"
     },
     "output_type": "display_data"
    }
   ],
   "source": [
    "fig, ax1 = plt.subplots()\n",
    "ax1.bar(df_followed['User'], df_followed['Followers'], label='Followers')\n",
    "ax1.bar(df_likes['Users'], df_likes['Average Likes'], label='Average Likes')\n",
    "plt.xticks(rotation=45)\n",
    "\n",
    "ax2 = ax1.twinx()\n",
    "ax2.plot(df_likes['Users'], ratio, marker='*', color='red')\n",
    "ax2.set_ylabel('Ratio')\n",
    "ax2.set_ylim(0, 0.12)  \n",
    "\n",
    "ax1.set_xlabel('Handles')\n",
    "ax1.set_ylabel('Count')\n",
    "ax1.set_title('Followers and Average Likes')\n",
    "ax1.legend()\n",
    "\n",
    "plt.show()\n"
   ]
  },
  {
   "cell_type": "code",
   "execution_count": null,
   "metadata": {},
   "outputs": [],
   "source": []
  }
 ],
 "metadata": {
  "kernelspec": {
   "display_name": "Python 3",
   "language": "python",
   "name": "python3"
  },
  "language_info": {
   "codemirror_mode": {
    "name": "ipython",
    "version": 3
   },
   "file_extension": ".py",
   "mimetype": "text/x-python",
   "name": "python",
   "nbconvert_exporter": "python",
   "pygments_lexer": "ipython3",
   "version": "3.10.0"
  },
  "orig_nbformat": 4,
  "vscode": {
   "interpreter": {
    "hash": "1cb3211df066898bfa33f604a9f08045f479368c210eaa95a0a200394b2af790"
   }
  }
 },
 "nbformat": 4,
 "nbformat_minor": 2
}
