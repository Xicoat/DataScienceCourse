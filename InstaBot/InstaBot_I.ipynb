{
 "cells": [
  {
   "attachments": {},
   "cell_type": "markdown",
   "metadata": {},
   "source": [
    "### InstaBot Introduction - Part 1"
   ]
  },
  {
   "attachments": {},
   "cell_type": "markdown",
   "metadata": {},
   "source": [
    "Your friend has opened a new Food Blogging handle on Instagram and wants to get famous. He wants to follow a lot of people so that he can get noticed quickly but it is a tedious task so he asks you to help him. As you have just learned automation using Selenium, you decided to help him by creating an Instagram Bot.\n",
    "You need to create different functions for each task."
   ]
  },
  {
   "attachments": {},
   "cell_type": "markdown",
   "metadata": {},
   "source": [
    "**Note**:\n",
    "Don’t forget to remove your Username and Password from the python notebook before submission.\n",
    "Replace your username and password by ‘SAMPLE USERNAME’ and ‘SAMPLE PASSWORD’ where you have used them in your code for logging in to instagram\n",
    "Upload your code file for submission of this project"
   ]
  },
  {
   "cell_type": "code",
   "execution_count": 146,
   "metadata": {},
   "outputs": [
    {
     "data": {
      "text/plain": [
       "<selenium.webdriver.chrome.webdriver.WebDriver (session=\"4cd07c05a7c7af24f8a137fde4203dbd\")>"
      ]
     },
     "execution_count": 146,
     "metadata": {},
     "output_type": "execute_result"
    }
   ],
   "source": [
    "''' Load WebDriver & libraries '''\n",
    "\n",
    "from time import sleep\n",
    "from selenium import webdriver\n",
    "from selenium.webdriver.chrome.service import Service\n",
    "from selenium.webdriver.common.by import By\n",
    "from selenium.common.exceptions import NoSuchElementException\n",
    "\n",
    "from random import randint\n",
    "import pandas as pd\n",
    "\n",
    "\n",
    "service= Service(executable_path=\"\\\\chromedriver\")\n",
    "driver = webdriver.Chrome(service=service)\n",
    "driver"
   ]
  },
  {
   "attachments": {},
   "cell_type": "markdown",
   "metadata": {},
   "source": [
    "### 1 - Login to your Instagram Handle"
   ]
  },
  {
   "attachments": {},
   "cell_type": "markdown",
   "metadata": {},
   "source": [
    "#### 1.1 Submit with sample username and password"
   ]
  },
  {
   "cell_type": "code",
   "execution_count": 147,
   "metadata": {},
   "outputs": [],
   "source": [
    "''' Logging in '''\n",
    "\n",
    "username = \"SAMPLE USERNAME\" \n",
    "password = \"SAMPLE PASSWORD\"\n",
    "\n",
    "def home():\n",
    "    driver.get('https://www.instagram.com')\n",
    "    sleep(5)\n",
    "    \n",
    "def login(username, password):\n",
    "    home()\n",
    "    username_box = driver.find_element(By.NAME, 'username')\n",
    "    password_box = driver.find_element(By.NAME, 'password')\n",
    "    username_box.clear\n",
    "    username_box.send_keys(username)\n",
    "    password_box.clear\n",
    "    password_box.send_keys(password)\n",
    "    password_box.submit()\n",
    "    \n",
    "def turn_off_notifications():\n",
    "    try:\n",
    "        notifications_popup = driver.find_element(By.CLASS_NAME, '_a9--')\n",
    "        notifications_popup.click()\n",
    "    except NoSuchElementException:\n",
    "        pass\n",
    "\n",
    "login(username, password)\n",
    "turn_off_notifications()"
   ]
  },
  {
   "attachments": {},
   "cell_type": "markdown",
   "metadata": {},
   "source": [
    "### 2 - Type for “food” in search bar "
   ]
  },
  {
   "cell_type": "code",
   "execution_count": 148,
   "metadata": {},
   "outputs": [],
   "source": [
    "def get_menu_buttons(button_name):\n",
    "    sleep(3)\n",
    "    buttons = {\n",
    "        'Search': driver.find_element(\"css selector\", \"svg[aria-label='Search']\"),\n",
    "        'Profile': driver.find_element(By.XPATH, \"//div[@class='xh8yej3 x1iyjqo2']//div[8]\")\n",
    "    }\n",
    "    return buttons[button_name]\n",
    "\n",
    "def search(word_to_search):\n",
    "    search_button = get_menu_buttons('Search')\n",
    "    search_button.click()\n",
    "    sleep(4)\n",
    "    search_box = driver.find_element(\"css selector\", \"input[aria-label='Search input']\")\n",
    "    search_box.clear()\n",
    "    search_box.send_keys(word_to_search)\n",
    "    sleep(4)\n",
    "\n",
    "def get_search_results_df():\n",
    "    names_driver = driver.find_elements(\"xpath\", '//div[@role=\"none\"]')\n",
    "    names_list = []\n",
    "    for j in names_driver:\n",
    "        combined_text = j.text\n",
    "        names = combined_text.split('\\n')\n",
    "        names_list.append(names)\n",
    "    df = pd.DataFrame(names_list, columns = ['Id','Name'])\n",
    "    return(df)\n"
   ]
  },
  {
   "attachments": {},
   "cell_type": "markdown",
   "metadata": {},
   "source": [
    "\n",
    "#### 2.1 Print all the names of the Instagram Handles that are displayed in list after typing “food”. Make Sure to avoid printing hashtags\n"
   ]
  },
  {
   "cell_type": "code",
   "execution_count": 149,
   "metadata": {},
   "outputs": [
    {
     "data": {
      "text/html": [
       "<div>\n",
       "<style scoped>\n",
       "    .dataframe tbody tr th:only-of-type {\n",
       "        vertical-align: middle;\n",
       "    }\n",
       "\n",
       "    .dataframe tbody tr th {\n",
       "        vertical-align: top;\n",
       "    }\n",
       "\n",
       "    .dataframe thead th {\n",
       "        text-align: right;\n",
       "    }\n",
       "</style>\n",
       "<table border=\"1\" class=\"dataframe\">\n",
       "  <thead>\n",
       "    <tr style=\"text-align: right;\">\n",
       "      <th></th>\n",
       "      <th>Id</th>\n",
       "      <th>Name</th>\n",
       "    </tr>\n",
       "  </thead>\n",
       "  <tbody>\n",
       "    <tr>\n",
       "      <th>0</th>\n",
       "      <td>thefoodboxmx</td>\n",
       "      <td>The Food Box</td>\n",
       "    </tr>\n",
       "    <tr>\n",
       "      <th>1</th>\n",
       "      <td>foodandpleasure_</td>\n",
       "      <td>Food and Pleasure</td>\n",
       "    </tr>\n",
       "    <tr>\n",
       "      <th>2</th>\n",
       "      <td>delhifoodguide</td>\n",
       "      <td>Delhi Food Guide • Followed by traveller_musaa...</td>\n",
       "    </tr>\n",
       "    <tr>\n",
       "      <th>3</th>\n",
       "      <td>foodie_with_kids</td>\n",
       "      <td>Foodie with Kids (mx)</td>\n",
       "    </tr>\n",
       "    <tr>\n",
       "      <th>4</th>\n",
       "      <td>foodcrewmx</td>\n",
       "      <td>Mexico City Foodie</td>\n",
       "    </tr>\n",
       "    <tr>\n",
       "      <th>5</th>\n",
       "      <td>foodandwinees</td>\n",
       "      <td>Food &amp; Wine en Español • 60.3K followers</td>\n",
       "    </tr>\n",
       "    <tr>\n",
       "      <th>6</th>\n",
       "      <td>food</td>\n",
       "      <td>Food</td>\n",
       "    </tr>\n",
       "    <tr>\n",
       "      <th>7</th>\n",
       "      <td>foodtech_network</td>\n",
       "      <td>foodtech_network 🇮🇳</td>\n",
       "    </tr>\n",
       "    <tr>\n",
       "      <th>8</th>\n",
       "      <td>foodtalkindia</td>\n",
       "      <td>Food Talk • 309K followers</td>\n",
       "    </tr>\n",
       "    <tr>\n",
       "      <th>9</th>\n",
       "      <td>foodporn</td>\n",
       "      <td>Foodporn ™ • 1.1M followers</td>\n",
       "    </tr>\n",
       "    <tr>\n",
       "      <th>10</th>\n",
       "      <td>gastronautadf</td>\n",
       "      <td>Food Blogger in Mexico City</td>\n",
       "    </tr>\n",
       "    <tr>\n",
       "      <th>11</th>\n",
       "      <td>foodinmx</td>\n",
       "      <td>Foodin’</td>\n",
       "    </tr>\n",
       "    <tr>\n",
       "      <th>12</th>\n",
       "      <td>foodpolicemx</td>\n",
       "      <td>None</td>\n",
       "    </tr>\n",
       "    <tr>\n",
       "      <th>13</th>\n",
       "      <td></td>\n",
       "      <td>None</td>\n",
       "    </tr>\n",
       "    <tr>\n",
       "      <th>14</th>\n",
       "      <td>moodforkfood</td>\n",
       "      <td>MOOD FORK FOOD</td>\n",
       "    </tr>\n",
       "    <tr>\n",
       "      <th>15</th>\n",
       "      <td>food52</td>\n",
       "      <td>Food52 • 3.6M followers</td>\n",
       "    </tr>\n",
       "    <tr>\n",
       "      <th>16</th>\n",
       "      <td>foodie_cdmx</td>\n",
       "      <td>Foodie CDMX | Dante &amp; Lalo</td>\n",
       "    </tr>\n",
       "    <tr>\n",
       "      <th>17</th>\n",
       "      <td>foodtrottersmx</td>\n",
       "      <td>Food Trotters</td>\n",
       "    </tr>\n",
       "    <tr>\n",
       "      <th>18</th>\n",
       "      <td>madfoodiemx</td>\n",
       "      <td>MadFoodieMx</td>\n",
       "    </tr>\n",
       "    <tr>\n",
       "      <th>19</th>\n",
       "      <td>topfoodmexico</td>\n",
       "      <td>𝗧𝗢𝗣 𝗙𝗢𝗢𝗗 𝗠𝗘𝗫𝗜𝗖𝗢® 🇲🇽</td>\n",
       "    </tr>\n",
       "    <tr>\n",
       "      <th>20</th>\n",
       "      <td>foodfreedommx</td>\n",
       "      <td>Fer Flores</td>\n",
       "    </tr>\n",
       "    <tr>\n",
       "      <th>21</th>\n",
       "      <td>jime.food</td>\n",
       "      <td>Jimena Fi - Edgar RR</td>\n",
       "    </tr>\n",
       "    <tr>\n",
       "      <th>22</th>\n",
       "      <td>foodnetworkmx</td>\n",
       "      <td>Food Network Mexico</td>\n",
       "    </tr>\n",
       "    <tr>\n",
       "      <th>23</th>\n",
       "      <td>foodhuntermx</td>\n",
       "      <td>Food Hunter México</td>\n",
       "    </tr>\n",
       "    <tr>\n",
       "      <th>24</th>\n",
       "      <td>comfy.foods</td>\n",
       "      <td>COMFY • FOODS</td>\n",
       "    </tr>\n",
       "    <tr>\n",
       "      <th>25</th>\n",
       "      <td>delhifoodwalks</td>\n",
       "      <td>Delhi Food Walks • 186K followers</td>\n",
       "    </tr>\n",
       "    <tr>\n",
       "      <th>26</th>\n",
       "      <td>pamallierfoodie</td>\n",
       "      <td>Pamela Allier - Foodie</td>\n",
       "    </tr>\n",
       "    <tr>\n",
       "      <th>27</th>\n",
       "      <td>foodtruckbuilders</td>\n",
       "      <td>Food Truck Builders</td>\n",
       "    </tr>\n",
       "    <tr>\n",
       "      <th>28</th>\n",
       "      <td>sebags_food</td>\n",
       "      <td>Sebag's food 🍔🌭</td>\n",
       "    </tr>\n",
       "    <tr>\n",
       "      <th>30</th>\n",
       "      <td>yourfoodlab</td>\n",
       "      <td>Your Food Lab • 2.6M followers</td>\n",
       "    </tr>\n",
       "    <tr>\n",
       "      <th>31</th>\n",
       "      <td>foodnews_goodnews</td>\n",
       "      <td>Food News is Good News</td>\n",
       "    </tr>\n",
       "    <tr>\n",
       "      <th>32</th>\n",
       "      <td>foodpandaindia</td>\n",
       "      <td>foodpanda India • 32.1K followers</td>\n",
       "    </tr>\n",
       "    <tr>\n",
       "      <th>33</th>\n",
       "      <td>sabanagrandefood</td>\n",
       "      <td>Sabana Grande | Venezuelan Food 🇻🇪</td>\n",
       "    </tr>\n",
       "    <tr>\n",
       "      <th>34</th>\n",
       "      <td>foodandtravelexperiencesmx</td>\n",
       "      <td>Food and Travel Experiences</td>\n",
       "    </tr>\n",
       "    <tr>\n",
       "      <th>35</th>\n",
       "      <td>foodsolutionsmx</td>\n",
       "      <td>Unilever Food Solutions • 5,651 followers</td>\n",
       "    </tr>\n",
       "    <tr>\n",
       "      <th>36</th>\n",
       "      <td>foodtrucks_demexico</td>\n",
       "      <td>Food Trucks de Mexico</td>\n",
       "    </tr>\n",
       "    <tr>\n",
       "      <th>37</th>\n",
       "      <td>soulfoodmx</td>\n",
       "      <td>Soul Food | Luz Colsa</td>\n",
       "    </tr>\n",
       "    <tr>\n",
       "      <th>38</th>\n",
       "      <td>foodfoodtv</td>\n",
       "      <td>FoodFood - It's Sizzling</td>\n",
       "    </tr>\n",
       "    <tr>\n",
       "      <th>39</th>\n",
       "      <td>goodfoodpapi</td>\n",
       "      <td>Franccesco | Foodie 🇵🇪</td>\n",
       "    </tr>\n",
       "    <tr>\n",
       "      <th>40</th>\n",
       "      <td>apricotfoodboutique</td>\n",
       "      <td>Apricot Food Boutique</td>\n",
       "    </tr>\n",
       "    <tr>\n",
       "      <th>41</th>\n",
       "      <td>foodandboozemx</td>\n",
       "      <td>Food and Booze Mx</td>\n",
       "    </tr>\n",
       "    <tr>\n",
       "      <th>43</th>\n",
       "      <td>_foodandbalance</td>\n",
       "      <td>Nutrióloga Brenda Rojas</td>\n",
       "    </tr>\n",
       "    <tr>\n",
       "      <th>44</th>\n",
       "      <td>myfoodieblog.mx</td>\n",
       "      <td>𝐌𝐘 𝐅𝐎𝐎𝐃𝐈𝐄 𝐁𝐋𝐎𝐆. 𝐌𝐗 por Zai SB.</td>\n",
       "    </tr>\n",
       "    <tr>\n",
       "      <th>45</th>\n",
       "      <td>philippines.explores</td>\n",
       "      <td>Philippines 🇵🇭 Travel | Hotels | Food | Tips •...</td>\n",
       "    </tr>\n",
       "    <tr>\n",
       "      <th>46</th>\n",
       "      <td>foodys</td>\n",
       "      <td>Foodys</td>\n",
       "    </tr>\n",
       "    <tr>\n",
       "      <th>47</th>\n",
       "      <td>foodie_incarnate</td>\n",
       "      <td>Amar Sirohi • 1.4M followers</td>\n",
       "    </tr>\n",
       "    <tr>\n",
       "      <th>48</th>\n",
       "      <td>veganion_antojeria</td>\n",
       "      <td>VEGANION vegan food</td>\n",
       "    </tr>\n",
       "    <tr>\n",
       "      <th>49</th>\n",
       "      <td>Food Trucks House Coyoacán</td>\n",
       "      <td>Miguel Ángel de Queveo 673, Mexico City, Mexico</td>\n",
       "    </tr>\n",
       "    <tr>\n",
       "      <th>52</th>\n",
       "      <td>Food &amp; Wine Table</td>\n",
       "      <td>None</td>\n",
       "    </tr>\n",
       "    <tr>\n",
       "      <th>54</th>\n",
       "      <td>foodforlifeinstitute</td>\n",
       "      <td>Food for Life Institute | Monica Strauss</td>\n",
       "    </tr>\n",
       "    <tr>\n",
       "      <th>55</th>\n",
       "      <td>healthyfoodie.mx</td>\n",
       "      <td>Reyna</td>\n",
       "    </tr>\n",
       "  </tbody>\n",
       "</table>\n",
       "</div>"
      ],
      "text/plain": [
       "                            Id  \\\n",
       "0                 thefoodboxmx   \n",
       "1             foodandpleasure_   \n",
       "2               delhifoodguide   \n",
       "3             foodie_with_kids   \n",
       "4                   foodcrewmx   \n",
       "5                foodandwinees   \n",
       "6                         food   \n",
       "7             foodtech_network   \n",
       "8                foodtalkindia   \n",
       "9                     foodporn   \n",
       "10               gastronautadf   \n",
       "11                    foodinmx   \n",
       "12                foodpolicemx   \n",
       "13                               \n",
       "14                moodforkfood   \n",
       "15                      food52   \n",
       "16                 foodie_cdmx   \n",
       "17              foodtrottersmx   \n",
       "18                 madfoodiemx   \n",
       "19               topfoodmexico   \n",
       "20               foodfreedommx   \n",
       "21                   jime.food   \n",
       "22               foodnetworkmx   \n",
       "23                foodhuntermx   \n",
       "24                 comfy.foods   \n",
       "25              delhifoodwalks   \n",
       "26             pamallierfoodie   \n",
       "27           foodtruckbuilders   \n",
       "28                 sebags_food   \n",
       "30                 yourfoodlab   \n",
       "31           foodnews_goodnews   \n",
       "32              foodpandaindia   \n",
       "33            sabanagrandefood   \n",
       "34  foodandtravelexperiencesmx   \n",
       "35             foodsolutionsmx   \n",
       "36         foodtrucks_demexico   \n",
       "37                  soulfoodmx   \n",
       "38                  foodfoodtv   \n",
       "39                goodfoodpapi   \n",
       "40         apricotfoodboutique   \n",
       "41              foodandboozemx   \n",
       "43             _foodandbalance   \n",
       "44             myfoodieblog.mx   \n",
       "45        philippines.explores   \n",
       "46                      foodys   \n",
       "47            foodie_incarnate   \n",
       "48          veganion_antojeria   \n",
       "49  Food Trucks House Coyoacán   \n",
       "52           Food & Wine Table   \n",
       "54        foodforlifeinstitute   \n",
       "55            healthyfoodie.mx   \n",
       "\n",
       "                                                 Name  \n",
       "0                                        The Food Box  \n",
       "1                                   Food and Pleasure  \n",
       "2   Delhi Food Guide • Followed by traveller_musaa...  \n",
       "3                               Foodie with Kids (mx)  \n",
       "4                                  Mexico City Foodie  \n",
       "5           Food & Wine en Español • 60.3K followers  \n",
       "6                                                Food  \n",
       "7                                 foodtech_network 🇮🇳  \n",
       "8                          Food Talk • 309K followers  \n",
       "9                         Foodporn ™ • 1.1M followers  \n",
       "10                        Food Blogger in Mexico City  \n",
       "11                                            Foodin’  \n",
       "12                                               None  \n",
       "13                                               None  \n",
       "14                                     MOOD FORK FOOD  \n",
       "15                            Food52 • 3.6M followers  \n",
       "16                         Foodie CDMX | Dante & Lalo  \n",
       "17                                      Food Trotters  \n",
       "18                                        MadFoodieMx  \n",
       "19                                𝗧𝗢𝗣 𝗙𝗢𝗢𝗗 𝗠𝗘𝗫𝗜𝗖𝗢® 🇲🇽  \n",
       "20                                         Fer Flores  \n",
       "21                               Jimena Fi - Edgar RR  \n",
       "22                                Food Network Mexico  \n",
       "23                                 Food Hunter México  \n",
       "24                                      COMFY • FOODS  \n",
       "25                  Delhi Food Walks • 186K followers  \n",
       "26                             Pamela Allier - Foodie  \n",
       "27                                Food Truck Builders  \n",
       "28                                    Sebag's food 🍔🌭  \n",
       "30                     Your Food Lab • 2.6M followers  \n",
       "31                             Food News is Good News  \n",
       "32                  foodpanda India • 32.1K followers  \n",
       "33                 Sabana Grande | Venezuelan Food 🇻🇪  \n",
       "34                        Food and Travel Experiences  \n",
       "35          Unilever Food Solutions • 5,651 followers  \n",
       "36                              Food Trucks de Mexico  \n",
       "37                              Soul Food | Luz Colsa  \n",
       "38                           FoodFood - It's Sizzling  \n",
       "39                             Franccesco | Foodie 🇵🇪  \n",
       "40                              Apricot Food Boutique  \n",
       "41                                  Food and Booze Mx  \n",
       "43                            Nutrióloga Brenda Rojas  \n",
       "44                     𝐌𝐘 𝐅𝐎𝐎𝐃𝐈𝐄 𝐁𝐋𝐎𝐆. 𝐌𝐗 por Zai SB.  \n",
       "45  Philippines 🇵🇭 Travel | Hotels | Food | Tips •...  \n",
       "46                                             Foodys  \n",
       "47                       Amar Sirohi • 1.4M followers  \n",
       "48                                VEGANION vegan food  \n",
       "49    Miguel Ángel de Queveo 673, Mexico City, Mexico  \n",
       "52                                               None  \n",
       "54           Food for Life Institute | Monica Strauss  \n",
       "55                                              Reyna  "
      ]
     },
     "execution_count": 149,
     "metadata": {},
     "output_type": "execute_result"
    }
   ],
   "source": [
    "search('food')\n",
    "df = get_search_results_df()\n",
    "mask = ~df['Id'].str.startswith('#')\n",
    "df = df[mask]\n",
    "df"
   ]
  },
  {
   "attachments": {},
   "cell_type": "markdown",
   "metadata": {},
   "source": [
    "\n",
    " ### 3 - Searching and Opening a profile."
   ]
  },
  {
   "cell_type": "code",
   "execution_count": 150,
   "metadata": {},
   "outputs": [],
   "source": [
    "def open_profile(profile):\n",
    "    home()\n",
    "    sleep(5)\n",
    "    turn_off_notifications()\n",
    "    search(profile)\n",
    "    first_element = driver.find_element(\"xpath\", '//div[@role=\"none\"]')\n",
    "    first_element.click()\n",
    "    sleep(4)\n",
    "    print(profile, \"opened\")"
   ]
  },
  {
   "attachments": {},
   "cell_type": "markdown",
   "metadata": {},
   "source": [
    "#### 3.1 Open profile of \"So Delhi\""
   ]
  },
  {
   "cell_type": "code",
   "execution_count": 151,
   "metadata": {},
   "outputs": [
    {
     "name": "stdout",
     "output_type": "stream",
     "text": [
      "So Delhi opened\n"
     ]
    }
   ],
   "source": [
    "open_profile('So Delhi')"
   ]
  },
  {
   "attachments": {},
   "cell_type": "markdown",
   "metadata": {},
   "source": [
    "### 4 - Follow/Unfollow given handle "
   ]
  },
  {
   "cell_type": "code",
   "execution_count": 152,
   "metadata": {},
   "outputs": [],
   "source": [
    "\n",
    "def follow_current_profile():\n",
    "    follow_button  = driver.find_element(By.XPATH, '//button[1]')\n",
    "    if (follow_button.text == 'Following'):\n",
    "        print(\"Already following\")\n",
    "        return\n",
    "    follow_button.click()\n",
    "    print(\"You started following current profile\")\n",
    "    sleep(3)\n",
    "\n",
    "def unfollow_current_profile():\n",
    "    sleep(3)\n",
    "    follow_button  = driver.find_element(By.XPATH, '//button[1]')\n",
    "    if (follow_button.text == 'Follow'):\n",
    "        print(\"Already unfollowed\")\n",
    "        return\n",
    "    follow_button.click()\n",
    "    sleep(3)\n",
    "    elements = driver.find_elements(By.XPATH, '//div[@role=\"button\"]')\n",
    "    for i in elements:\n",
    "        if (i.text == 'Unfollow'):\n",
    "            i.click()\n",
    "            print(\"Current profile unfollowed\")"
   ]
  },
  {
   "attachments": {},
   "cell_type": "markdown",
   "metadata": {},
   "source": [
    "#### 4.1 Open the Instagram Handle of “So Delhi”"
   ]
  },
  {
   "cell_type": "code",
   "execution_count": 168,
   "metadata": {},
   "outputs": [
    {
     "name": "stdout",
     "output_type": "stream",
     "text": [
      "So Delhi opened\n"
     ]
    }
   ],
   "source": [
    "open_profile('So Delhi')"
   ]
  },
  {
   "attachments": {},
   "cell_type": "markdown",
   "metadata": {},
   "source": [
    "#### 4.2 Start following it. Print a message if you are already following"
   ]
  },
  {
   "cell_type": "code",
   "execution_count": 169,
   "metadata": {},
   "outputs": [
    {
     "name": "stdout",
     "output_type": "stream",
     "text": [
      "You started following current profile\n"
     ]
    }
   ],
   "source": [
    "follow_current_profile()"
   ]
  },
  {
   "attachments": {},
   "cell_type": "markdown",
   "metadata": {},
   "source": [
    "#### 4.3 After following, unfollow the instagram handle. Print a message if you have already unfollowed."
   ]
  },
  {
   "cell_type": "code",
   "execution_count": 170,
   "metadata": {},
   "outputs": [
    {
     "name": "stdout",
     "output_type": "stream",
     "text": [
      "Current profile unfollowed\n"
     ]
    }
   ],
   "source": [
    "unfollow_current_profile()"
   ]
  },
  {
   "attachments": {},
   "cell_type": "markdown",
   "metadata": {},
   "source": [
    "### 5 - Like/Unlike posts\n"
   ]
  },
  {
   "cell_type": "code",
   "execution_count": 156,
   "metadata": {},
   "outputs": [],
   "source": [
    "def get_navigation_buttons():\n",
    "    ''' function that returns next, back and like buttons as selenium objects, also returns unlike flag '''\n",
    "    \n",
    "    button_list = driver.find_elements(By.XPATH, '//button[@class=\"_abl-\"]')\n",
    "    idx, next_idx, like_idx, back_idx = 0, 0, 0, 0\n",
    "    unlike = False\n",
    "    for i in button_list:\n",
    "        try:\n",
    "            element = i.find_element(By.TAG_NAME, 'title')\n",
    "            txt = element.get_attribute(\"innerHTML\")\n",
    "            if (txt == 'Next'):\n",
    "                next_idx = idx\n",
    "            if (txt == 'Like'):\n",
    "                like_idx = idx\n",
    "            if (txt == 'Unlike'):\n",
    "                like_idx = idx\n",
    "                unlike = True\n",
    "            if (txt == 'Go Back'):\n",
    "                back_idx = idx\n",
    "        except:\n",
    "            pass\n",
    "        idx+=1\n",
    "    return(button_list[next_idx], button_list[like_idx], button_list[back_idx], unlike)\n",
    "\n",
    "def open_posts():\n",
    "    ''' Open first post '''\n",
    "    \n",
    "    first_element = driver.find_element(By.XPATH, '//div[@class=\"_aagw\"]')\n",
    "    first_element.click()\n",
    "    sleep(3)\n",
    "\n",
    "def like_posts(n):\n",
    "    sleep(3)\n",
    "    for i in range(n):\n",
    "        sleep(randint(2,5))\n",
    "        next_button, like_button, back_button, unlike = get_navigation_buttons()\n",
    "        if (unlike == True):\n",
    "            print(\"Already liked\")\n",
    "            sleep(randint(2,5))\n",
    "            next_button.click()\n",
    "            continue\n",
    "        like_button.click()\n",
    "        print(\"Liked\")\n",
    "        next_button.click()\n",
    "\n",
    "def unlike_posts(n):\n",
    "    sleep(3)\n",
    "    for i in range(n):\n",
    "        sleep(randint(2,5))\n",
    "        next_button, like_button, back_button, unlike = get_navigation_buttons()\n",
    "        if (unlike == False):\n",
    "            print(\"Already unliked\")\n",
    "            sleep(randint(2,5))\n",
    "            next_button.click()\n",
    "            continue\n",
    "        like_button.click()\n",
    "        print(\"Disliked\")\n",
    "        next_button.click()    "
   ]
  },
  {
   "attachments": {},
   "cell_type": "markdown",
   "metadata": {},
   "source": [
    "####  5.1 Liking the top 30 posts of the ‘dilsefoodie'. Print message if you have already liked it."
   ]
  },
  {
   "cell_type": "code",
   "execution_count": 157,
   "metadata": {},
   "outputs": [
    {
     "name": "stdout",
     "output_type": "stream",
     "text": [
      "dilsefoodie opened\n",
      "Already liked\n",
      "Already liked\n",
      "Liked\n",
      "Already liked\n",
      "Already liked\n",
      "Already liked\n",
      "Already liked\n",
      "Already liked\n",
      "Liked\n",
      "Already liked\n",
      "Already liked\n",
      "Already liked\n",
      "Already liked\n",
      "Already liked\n",
      "Liked\n",
      "Already liked\n",
      "Already liked\n",
      "Already liked\n",
      "Already liked\n",
      "Already liked\n",
      "Liked\n",
      "Already liked\n",
      "Already liked\n",
      "Already liked\n",
      "Already liked\n",
      "Already liked\n",
      "Liked\n",
      "Already liked\n",
      "Already liked\n",
      "Already liked\n"
     ]
    }
   ],
   "source": [
    "open_profile('dilsefoodie')\n",
    "open_posts()\n",
    "like_posts(30)"
   ]
  },
  {
   "attachments": {},
   "cell_type": "markdown",
   "metadata": {},
   "source": [
    "#### 5.2 Unliking the top 30 posts of the ‘dilsefoodie’. Print message if you have already unliked it."
   ]
  },
  {
   "cell_type": "code",
   "execution_count": 158,
   "metadata": {},
   "outputs": [
    {
     "name": "stdout",
     "output_type": "stream",
     "text": [
      "dilsefoodie opened\n",
      "Disliked\n",
      "Disliked\n",
      "Disliked\n",
      "Disliked\n",
      "Disliked\n",
      "Disliked\n",
      "Disliked\n",
      "Disliked\n",
      "Disliked\n",
      "Disliked\n",
      "Disliked\n",
      "Disliked\n",
      "Disliked\n",
      "Disliked\n",
      "Disliked\n",
      "Disliked\n",
      "Disliked\n",
      "Disliked\n",
      "Disliked\n",
      "Disliked\n",
      "Disliked\n",
      "Disliked\n",
      "Disliked\n",
      "Disliked\n",
      "Disliked\n",
      "Disliked\n",
      "Disliked\n",
      "Disliked\n",
      "Disliked\n",
      "Disliked\n"
     ]
    }
   ],
   "source": [
    "open_profile('dilsefoodie')\n",
    "open_posts()\n",
    "unlike_posts(30)"
   ]
  },
  {
   "attachments": {},
   "cell_type": "markdown",
   "metadata": {},
   "source": [
    "#### 6 - Extract list of followers."
   ]
  },
  {
   "cell_type": "code",
   "execution_count": 159,
   "metadata": {},
   "outputs": [],
   "source": [
    "def open_followers_box():\n",
    "    element = driver.find_element(By.PARTIAL_LINK_TEXT, 'followers')\n",
    "    element.click()\n",
    "    sleep(4)\n",
    "\n",
    "def scroll_down(items_box, n):\n",
    "    sleep(5)\n",
    "    for i in range(n):\n",
    "        driver.execute_script('arguments[0].scrollTop = arguments[0].scrollTop + arguments[0].offsetHeight;',items_box)\n",
    "        sleep(2)\n",
    "\n",
    "def extract_followers(n=500, return_followers=True):\n",
    "    sleep(5)\n",
    "    followers_box = driver.find_element(By.XPATH, '//div[contains(@class,\"_aano\")]')\n",
    "    total_count, previous = 0,-1\n",
    "    while (total_count <= n):\n",
    "        list_users_se = followers_box.find_elements(By.XPATH, '//span[contains(@class,\"_aacl _aaco _aacw _aacx _aad7 _aade\")]')\n",
    "        list_follow_se = followers_box.find_elements(By.XPATH, '//div[contains(@class,\"_aacl _aaco _aacw _aad6 _aade\")]')\n",
    "        previous = total_count\n",
    "        total_count = len(list_users_se)\n",
    "        if(total_count == previous):\n",
    "            # print(\"No more followers\")\n",
    "            break\n",
    "        scroll_down(followers_box, 5)\n",
    "    list_users = [i.text for i in list_users_se[1:n+1]]\n",
    "    list_follow = [i.text for i in list_follow_se[1:n+1]]\n",
    "    if(return_followers == False):\n",
    "        return pd.DataFrame({'Users': list_users})\n",
    "    data = {'Users': list_users, 'Followers': list_follow}\n",
    "    df = pd.DataFrame(data)\n",
    "    return df\n",
    "\n",
    "def get_count_followers_int():\n",
    "    element = driver.find_element(By.PARTIAL_LINK_TEXT, 'followers')\n",
    "    element2 = element.find_element(By.TAG_NAME,'span')\n",
    "    return(int(element2.text))\n",
    "\n",
    "def get_own_followers_df():\n",
    "    home()\n",
    "    profile_button = driver.find_element(By.XPATH, \"//div[@class='xh8yej3 x1iyjqo2']//div[8]\")\n",
    "    profile_button.click()\n",
    "    sleep(3)\n",
    "    n = get_count_followers_int()\n",
    "    sleep(4)\n",
    "    open_followers_box()\n",
    "    sleep(3)\n",
    "    df = extract_followers(n, False)\n",
    "    return df"
   ]
  },
  {
   "cell_type": "markdown",
   "metadata": {},
   "source": [
    "#### 6.1 Extract the usernames of the first 500 followers of ‘foodtalkindia’ and ‘sodelhi’."
   ]
  },
  {
   "cell_type": "code",
   "execution_count": 160,
   "metadata": {},
   "outputs": [
    {
     "name": "stdout",
     "output_type": "stream",
     "text": [
      "foodtalkindia opened\n",
      "0            shoobeedoobaa\n",
      "1                copycatjf\n",
      "2        sketchy_life_love\n",
      "3           __pavan_168_._\n",
      "4         aradhanayadav249\n",
      "5              aasthakapil\n",
      "6              aditya.8905\n",
      "7              coolakhil81\n",
      "8              apurvgulati\n",
      "9         nixobettysharjoe\n",
      "10               ckaur3356\n",
      "11            deepakbej437\n",
      "12           deepali_mulay\n",
      "13         harry_manchanda\n",
      "14              himanshu_j\n",
      "15           syedhusain192\n",
      "16       itz.sagar_valmiki\n",
      "17           james.bond847\n",
      "18            jessy_selvam\n",
      "19               tanvijojo\n",
      "20          jupitora______\n",
      "21         kashisharora_16\n",
      "22       karishma.babani18\n",
      "23          kashishsharma_\n",
      "24            sobudhakshya\n",
      "25      lolwah_real_estate\n",
      "26              mahin51219\n",
      "27           memester69024\n",
      "28         mohammadkhan131\n",
      "29          this_is_na9esh\n",
      "30           neerajbadhani\n",
      "31        nikhil.mehrotra_\n",
      "32               pasta1591\n",
      "33     perpetualdealmeidae\n",
      "34           ranendrasingh\n",
      "35            kaaserefugio\n",
      "36                ritamba1\n",
      "37     ritumasalarecipes07\n",
      "38             rubymanocha\n",
      "39     saloni_chaudhary708\n",
      "40               saroj0295\n",
      "41             shreyab2311\n",
      "42    simplecookingbynisha\n",
      "43          subbusubbu7941\n",
      "44      traveller_musaafir\n",
      "45              tari.india\n",
      "46     thindweddingplanner\n",
      "47               basakupan\n",
      "48     v_i_v_e_k_y_a_d_a_v\n",
      "49         nadipu_naayagan\n",
      "Name: Users, dtype: object\n"
     ]
    }
   ],
   "source": [
    "profile = 'foodtalkindia'\n",
    "open_profile(profile)\n",
    "open_followers_box()\n",
    "df_foodtalkindia_followers = extract_followers(500)\n",
    "print(df_foodtalkindia_followers.iloc[0:500, 0])"
   ]
  },
  {
   "cell_type": "code",
   "execution_count": 161,
   "metadata": {},
   "outputs": [
    {
     "name": "stdout",
     "output_type": "stream",
     "text": [
      "sodelhi opened\n",
      "0        bisht22041998\n",
      "1            sheriikov\n",
      "2           snehalcore\n",
      "3      harpreet_s_hora\n",
      "4        shubhamnandra\n",
      "            ...       \n",
      "495         kininsta18\n",
      "496         shrutiii11\n",
      "497        mit_md_sonu\n",
      "498        amit_kum_ar\n",
      "499           omisha09\n",
      "Name: Users, Length: 500, dtype: object\n"
     ]
    }
   ],
   "source": [
    "profile = 'sodelhi'\n",
    "open_profile(profile)\n",
    "open_followers_box()\n",
    "df_sodelhi_followers = extract_followers(500)\n",
    "print(df_sodelhi_followers.iloc[0:500, 0])"
   ]
  },
  {
   "attachments": {},
   "cell_type": "markdown",
   "metadata": {},
   "source": [
    "#### 6.2 Print all the followers of “foodtalkindia” that you are following but those who don’t follow you."
   ]
  },
  {
   "cell_type": "code",
   "execution_count": 162,
   "metadata": {},
   "outputs": [
    {
     "name": "stdout",
     "output_type": "stream",
     "text": [
      "Followers of “foodtalkindia” I follow but don’t follow me: \n",
      "27           memester69024\n",
      "42    simplecookingbynisha\n",
      "44      traveller_musaafir\n",
      "45              tari.india\n",
      "Name: Users, dtype: object\n"
     ]
    }
   ],
   "source": [
    "# Followers I have\n",
    "df_own_followers = get_own_followers_df()\n",
    "\n",
    "# “foodtalkindia” followers I follow\n",
    "mask = df_foodtalkindia_followers['Followers'] == 'Following'\n",
    "df_ifollow = df_foodtalkindia_followers.iloc[list(mask), 0]\n",
    "\n",
    "# Compare\n",
    "mask2 = ~df_ifollow.isin(list(df_own_followers))\n",
    "\n",
    "print(\"Followers of “foodtalkindia” I follow but don’t follow me: \")\n",
    "print(df_ifollow[mask2])"
   ]
  },
  {
   "attachments": {},
   "cell_type": "markdown",
   "metadata": {},
   "source": [
    "### 7 -  Check the story of ‘coding.ninjas’. Consider the following Scenarios and print error messages accordingly\n",
    "- If You have already seen the story.\n",
    "- Or The user has no story.\n",
    "- Or View the story if not yet seen."
   ]
  },
  {
   "cell_type": "code",
   "execution_count": 163,
   "metadata": {},
   "outputs": [],
   "source": [
    "def story_status():\n",
    "    sleep(3)\n",
    "    try:\n",
    "        story_button = driver.find_element(By.XPATH,'//div[@class=\"_aarf _aarg\"]')\n",
    "        canvas = story_button.find_element(By.TAG_NAME, 'canvas')\n",
    "        height = int(canvas.get_attribute(\"height\"))\n",
    "        if (height == 168):\n",
    "            print(\"There is a story not yet seen\")\n",
    "            print(\"Playing...\")\n",
    "            story_button.click()\n",
    "        elif (height == 166):\n",
    "            print(\"You have seen this story already\")\n",
    "    except NoSuchElementException:\n",
    "        print(\"User has no story\")\n",
    "    sleep(1)"
   ]
  },
  {
   "attachments": {},
   "cell_type": "markdown",
   "metadata": {},
   "source": [
    "#### 7.1 Check Story "
   ]
  },
  {
   "cell_type": "markdown",
   "metadata": {},
   "source": []
  },
  {
   "cell_type": "code",
   "execution_count": 164,
   "metadata": {},
   "outputs": [
    {
     "name": "stdout",
     "output_type": "stream",
     "text": [
      "coding.ninjas opened\n",
      "You have seen this story already\n"
     ]
    }
   ],
   "source": [
    "profile = 'coding.ninjas'\n",
    "open_profile(profile)\n",
    "story_status()"
   ]
  }
 ],
 "metadata": {
  "kernelspec": {
   "display_name": "Python 3",
   "language": "python",
   "name": "python3"
  },
  "language_info": {
   "codemirror_mode": {
    "name": "ipython",
    "version": 3
   },
   "file_extension": ".py",
   "mimetype": "text/x-python",
   "name": "python",
   "nbconvert_exporter": "python",
   "pygments_lexer": "ipython3",
   "version": "3.10.0 (tags/v3.10.0:b494f59, Oct  4 2021, 19:00:18) [MSC v.1929 64 bit (AMD64)]"
  },
  "orig_nbformat": 4,
  "vscode": {
   "interpreter": {
    "hash": "1cb3211df066898bfa33f604a9f08045f479368c210eaa95a0a200394b2af790"
   }
  }
 },
 "nbformat": 4,
 "nbformat_minor": 2
}
