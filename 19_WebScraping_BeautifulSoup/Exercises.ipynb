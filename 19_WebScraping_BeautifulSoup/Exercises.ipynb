{
 "cells": [
  {
   "attachments": {},
   "cell_type": "markdown",
   "metadata": {},
   "source": [
    "#### Load html as string"
   ]
  },
  {
   "cell_type": "code",
   "execution_count": 64,
   "metadata": {},
   "outputs": [],
   "source": [
    "html = '<!DOCTYPE html>\\\n",
    "<html>\\\n",
    "<head>\\\n",
    "\t<title>Web Scraping Test Page</title>\\\n",
    "</head>\\\n",
    "<body>\\\n",
    "        <h1 id=\"title\">Welcome to my Dummy Page</h1>\\\n",
    "    <p id=\"first paragraph\">This is some dummy text for testing purposes</p>\\\n",
    "    <img id=\"image\" src=\"https://via.placeholder.com/150\" alt=\"dummy image\">\\\n",
    "    <ul>\\\n",
    "\t\t<li id=\"item1\" class=\"list-item\">Item 1</li>\\\n",
    "\t\t<li id=\"item2\" class=\"list-item\">Item 2</li>\\\n",
    "\t\t<li id=\"item3\" class=\"list-item\">Item 3</li>\\\n",
    "    </ul>\\\n",
    "    <a href=\"https://www.example.com\" id=\"link\" target=\"_blank\">Click here to visit Example.com</a>\\\n",
    "\t<h1>Heading 1</h1>\\\n",
    "\t<h2>Heading 2</h2>\\\n",
    "\t<h3>Heading 3</h3>\\\n",
    "\t<p class = \"abc\" id=\"second para\">This is a paragraph.</p>\\\n",
    "\t<div>\\\n",
    "\t\t<h2>Div 1</h2>\\\n",
    "\t\t<p >This is a paragraph inside a div.</p>\\\n",
    "\t\t<ul>\\\n",
    "\t\t\t<li>List item 1</li>\\\n",
    "\t\t\t<li>List item 2</li>\\\n",
    "\t\t\t<li>List item 3</li>\\\n",
    "\t\t</ul>\\\n",
    "\t</div>\\\n",
    "\t<div>\\\n",
    "\t\t<h2>Div 2</h2>\\\n",
    "\t\t<p>This is another paragraph inside a div.</p>\\\n",
    "\t\t<ol>\\\n",
    "\t\t\t<li>List item 1</li>\\\n",
    "\t\t\t<li>List item 2</li>\\\n",
    "\t\t\t<li>List item 3</li>\\\n",
    "\t\t</ol>\\\n",
    "\t</div>\\\n",
    "\t<a href=\"https://www.example.com\">Example link</a>\\\n",
    "\t<img src=\"https://via.placeholder.com/150\">\\\n",
    "\t<span>This is a span.</span>\\\n",
    "</body>\\\n",
    "</html>\\\n",
    "'"
   ]
  },
  {
   "cell_type": "code",
   "execution_count": 15,
   "metadata": {},
   "outputs": [],
   "source": [
    "from bs4 import BeautifulSoup"
   ]
  },
  {
   "cell_type": "code",
   "execution_count": 65,
   "metadata": {},
   "outputs": [
    {
     "data": {
      "text/plain": [
       "<!DOCTYPE html>\n",
       "<html><head> <title>Web Scraping Test Page</title></head><body> <h1 id=\"title\">Welcome to my Dummy Page</h1> <p id=\"first paragraph\">This is some dummy text for testing purposes</p> <img alt=\"dummy image\" id=\"image\" src=\"https://via.placeholder.com/150\"/> <ul> <li class=\"list-item\" id=\"item1\">Item 1</li> <li class=\"list-item\" id=\"item2\">Item 2</li> <li class=\"list-item\" id=\"item3\">Item 3</li> </ul> <a href=\"https://www.example.com\" id=\"link\" target=\"_blank\">Click here to visit Example.com</a> <h1>Heading 1</h1> <h2>Heading 2</h2> <h3>Heading 3</h3> <p class=\"abc\" id=\"second para\">This is a paragraph.</p> <div> <h2>Div 1</h2> <p>This is a paragraph inside a div.</p> <ul> <li>List item 1</li> <li>List item 2</li> <li>List item 3</li> </ul> </div> <div> <h2>Div 2</h2> <p>This is another paragraph inside a div.</p> <ol> <li>List item 1</li> <li>List item 2</li> <li>List item 3</li> </ol> </div> <a href=\"https://www.example.com\">Example link</a> <img src=\"https://via.placeholder.com/150\"/> <span>This is a span.</span></body></html>"
      ]
     },
     "execution_count": 65,
     "metadata": {},
     "output_type": "execute_result"
    }
   ],
   "source": [
    "data = BeautifulSoup(html, 'html.parser')\n",
    "data"
   ]
  },
  {
   "cell_type": "code",
   "execution_count": 21,
   "metadata": {},
   "outputs": [
    {
     "data": {
      "text/plain": [
       "bs4.BeautifulSoup"
      ]
     },
     "execution_count": 21,
     "metadata": {},
     "output_type": "execute_result"
    }
   ],
   "source": [
    "type(data)"
   ]
  },
  {
   "cell_type": "code",
   "execution_count": 18,
   "metadata": {},
   "outputs": [
    {
     "name": "stdout",
     "output_type": "stream",
     "text": [
      "<title>Web Scraping Test Page</title>\n",
      "title\n",
      "Web Scraping Test Page\n",
      "{}\n"
     ]
    }
   ],
   "source": [
    "print(data.title)\n",
    "print(data.title.name)\n",
    "print(data.title.string)\n",
    "print(data.title.attrs)"
   ]
  },
  {
   "cell_type": "code",
   "execution_count": 25,
   "metadata": {},
   "outputs": [
    {
     "name": "stdout",
     "output_type": "stream",
     "text": [
      "{'id': 'first paragraph'}\n",
      "first paragraph\n"
     ]
    }
   ],
   "source": [
    "print(data.p.attrs)\n",
    "print(data.p['id'])"
   ]
  },
  {
   "cell_type": "code",
   "execution_count": 27,
   "metadata": {},
   "outputs": [
    {
     "data": {
      "text/plain": [
       "<p id=\"first paragraph\">This is some dummy text for testing purposes</p>"
      ]
     },
     "execution_count": 27,
     "metadata": {},
     "output_type": "execute_result"
    }
   ],
   "source": [
    "data.find('p')"
   ]
  },
  {
   "cell_type": "code",
   "execution_count": 31,
   "metadata": {},
   "outputs": [
    {
     "name": "stdout",
     "output_type": "stream",
     "text": [
      "<p id=\"first paragraph\">This is some dummy text for testing purposes</p>\n",
      "<p class=\"abc\" id=\"second para\">This is a paragraph.</p>\n",
      "<p>This is a paragraph inside a div.</p>\n",
      "<p>This is another paragraph inside a div.</p>\n"
     ]
    }
   ],
   "source": [
    "li = data.find_all('p')\n",
    "for i in li :\n",
    "    print (i)"
   ]
  },
  {
   "attachments": {},
   "cell_type": "markdown",
   "metadata": {},
   "source": [
    "#### Print body Tag"
   ]
  },
  {
   "cell_type": "code",
   "execution_count": 46,
   "metadata": {},
   "outputs": [
    {
     "name": "stdout",
     "output_type": "stream",
     "text": [
      "<body><h1> About Us </h1><div class=\"first_div\" id=\"test\"><p>Coding Ninjas Website</p><a href=\"https://www.codingninjas.in/\">Link to Coding Ninjas Website</a><ul><li>This</li><li>is</li><li>an</li><li>unordered</li><li>list.</li></ul></div><p id=\"template_p\">This is a template paragraph tag</p><a href=\"https://www.facebook.com/codingninjas/\">This is the link of our Facebook Page</a></body>\n"
     ]
    }
   ],
   "source": [
    "html = '<!DOCTYPE html><html><head><title>Learning Beautiful Soup</title></head>\\\n",
    "<body><h1> About Us </h1><div class = \"first_div\" id = \"test\"><p>Coding Ninjas Website</p>\\\n",
    "<a href=\"https://www.codingninjas.in/\">Link to Coding Ninjas Website</a>\\\n",
    "<ul><li>This</li><li>is</li><li>an</li><li>unordered</li><li>list.</li></ul>\\\n",
    "</div><p id = \"template_p\">This is a template paragraph tag</p>\\\n",
    "<a href = \"https://www.facebook.com/codingninjas/\">\\\n",
    "This is the link of our Facebook Page</a></body></html>'\n",
    "\n",
    "## Print the required output in given format\n",
    "from bs4 import BeautifulSoup\n",
    "data = BeautifulSoup(html, 'html.parser')\n",
    "\n",
    "print(data.body)\n",
    "\n"
   ]
  },
  {
   "attachments": {},
   "cell_type": "markdown",
   "metadata": {},
   "source": [
    "#### Attributes of div tag\n"
   ]
  },
  {
   "cell_type": "code",
   "execution_count": 49,
   "metadata": {},
   "outputs": [
    {
     "name": "stdout",
     "output_type": "stream",
     "text": [
      "class\n",
      "id\n"
     ]
    }
   ],
   "source": [
    "html = '<!DOCTYPE html><html><head><title>Learning Beautiful Soup</title></head>\\\n",
    "<body><h1> About Us </h1><div class = \"first_div\" id = \"test\"><p>Coding Ninjas Website</p>\\\n",
    "<a href=\"https://www.codingninjas.in/\">Link to Coding Ninjas Website</a>\\\n",
    "<ul><li>This</li><li>is</li><li>an</li><li>unordered</li><li>list.</li></ul>\\\n",
    "</div><p id = \"template_p\">This is a template paragraph tag</p>\\\n",
    "<a href = \"https://www.facebook.com/codingninjas/\">\\\n",
    "This is the link of our Facebook Page</a></body></html>'\n",
    "\n",
    "## Print the required output in given format\n",
    "from bs4 import BeautifulSoup\n",
    "data = BeautifulSoup(html, 'html.parser')\n",
    "\n",
    "first_div_attrs = data.div.attrs\n",
    "for key in first_div_attrs.keys() :\n",
    "    print(key)"
   ]
  },
  {
   "attachments": {},
   "cell_type": "markdown",
   "metadata": {},
   "source": [
    "#### Strings of li\n",
    "You are given the HTML content of a webpage, your task is to :\n",
    "Print the strings(only text without tag names) of all li tags separated by a space\n",
    "NOTE : You are provided the HTML content inside variable html\n",
    "Output Format :\n",
    "li_text1 li_text2 li_text3 ..."
   ]
  },
  {
   "cell_type": "code",
   "execution_count": 53,
   "metadata": {},
   "outputs": [
    {
     "name": "stdout",
     "output_type": "stream",
     "text": [
      "This is an unordered list. "
     ]
    }
   ],
   "source": [
    "html = '<!DOCTYPE html><html><head><title>Learning Beautiful Soup</title></head>\\\n",
    "<body><h1> About Us </h1><div class = \"first_div\"><p>Coding Ninjas Website</p>\\\n",
    "<a href=\"https://www.codingninjas.in/\">Link to Coding Ninjas Website</a>\\\n",
    "<ul><li>This</li><li>is</li><li>an</li><li>unordered</li><li>list.</li></ul>\\\n",
    "</div><p id = \"template_p\">This is a template paragraph tag</p>\\\n",
    "<a href = \"https://www.facebook.com/codingninjas/\">\\\n",
    "This is the link of our Facebook Page</a></body></html>'\n",
    "\n",
    "from bs4 import BeautifulSoup\n",
    "data = BeautifulSoup(html, 'html.parser')\n",
    "\n",
    "tag_list = data.find_all('li')\n",
    "\n",
    "for i in tag_list :\n",
    "    print(i.string, end=' ')"
   ]
  },
  {
   "attachments": {},
   "cell_type": "markdown",
   "metadata": {},
   "source": [
    "#### href of A tag\n",
    "You are given the HTML content of a webpage, your task is to :\n",
    "Print the href of all the <a> tags on the page in different lines\n",
    "NOTE : You are provided the HTML content inside variable html\n",
    "Output Format :\n",
    "a1_href\n",
    "a2_href\n",
    "a3_href"
   ]
  },
  {
   "cell_type": "code",
   "execution_count": 56,
   "metadata": {},
   "outputs": [
    {
     "name": "stdout",
     "output_type": "stream",
     "text": [
      "https://www.codingninjas.in/\n",
      "https://www.facebook.com/codingninjas/\n"
     ]
    }
   ],
   "source": [
    "html = '<!DOCTYPE html><html><head><title>Learning Beautiful Soup</title></head>\\\n",
    "<body><h1> About Us </h1><div class = \"first_div\"><p>Coding Ninjas Website</p>\\\n",
    "<a href=\"https://www.codingninjas.in/\">Link to Coding Ninjas Website</a>\\\n",
    "<ul><li>This</li><li>is</li><li>an</li><li>unordered</li><li>list.</li></ul>\\\n",
    "</div><p id = \"template_p\">This is a template paragraph tag</p>\\\n",
    "<a href = \"https://www.facebook.com/codingninjas/\">\\\n",
    "This is the link of our Facebook Page</a></body></html>'\n",
    "\n",
    "from bs4 import BeautifulSoup\n",
    "data = BeautifulSoup(html, 'html.parser')\n",
    "\n",
    "tag_list = data.find_all('a')\n",
    "\n",
    "for i in tag_list :\n",
    "    print(i['href'])\n"
   ]
  },
  {
   "attachments": {},
   "cell_type": "markdown",
   "metadata": {},
   "source": [
    "#### Navigating Parse Tree"
   ]
  },
  {
   "cell_type": "code",
   "execution_count": 60,
   "metadata": {},
   "outputs": [
    {
     "data": {
      "text/plain": [
       "[<p>Coding Ninjas Website</p>,\n",
       " <a href=\"https://www.codingninjas.in/\">Link to Coding Ninjas Website</a>,\n",
       " <p id=\"template_p\">This is a template paragraph tag</p>,\n",
       " <a href=\"https://www.facebook.com/codingninjas/\">This is the link of our Facebook Page</a>]"
      ]
     },
     "execution_count": 60,
     "metadata": {},
     "output_type": "execute_result"
    }
   ],
   "source": [
    "data.find_all(['p', 'a'])"
   ]
  },
  {
   "cell_type": "code",
   "execution_count": null,
   "metadata": {},
   "outputs": [],
   "source": [
    "# get all tags\n",
    "data.find_all(True)"
   ]
  },
  {
   "cell_type": "code",
   "execution_count": 68,
   "metadata": {},
   "outputs": [
    {
     "data": {
      "text/plain": [
       "[<p id=\"first paragraph\">This is some dummy text for testing purposes</p>]"
      ]
     },
     "execution_count": 68,
     "metadata": {},
     "output_type": "execute_result"
    }
   ],
   "source": [
    "data.find_all(id = 'first paragraph')"
   ]
  },
  {
   "cell_type": "code",
   "execution_count": 72,
   "metadata": {},
   "outputs": [
    {
     "data": {
      "text/plain": [
       "[]"
      ]
     },
     "execution_count": 72,
     "metadata": {},
     "output_type": "execute_result"
    }
   ],
   "source": [
    "data.find_all(class_ = 'abs')"
   ]
  },
  {
   "cell_type": "code",
   "execution_count": 81,
   "metadata": {},
   "outputs": [
    {
     "name": "stdout",
     "output_type": "stream",
     "text": [
      "['This is some dummy text for testing purposes']\n",
      "['This is a paragraph.']\n",
      "['This is a paragraph inside a div.']\n",
      "['This is another paragraph inside a div.']\n"
     ]
    }
   ],
   "source": [
    "li = data.find_all('p')\n",
    "\n",
    "for i in li :\n",
    "    print(list(i.strings))"
   ]
  },
  {
   "cell_type": "code",
   "execution_count": 82,
   "metadata": {},
   "outputs": [
    {
     "name": "stdout",
     "output_type": "stream",
     "text": [
      "['This is some dummy text for testing purposes']\n",
      "['This is a paragraph.']\n",
      "['This is a paragraph inside a div.']\n",
      "['This is another paragraph inside a div.']\n"
     ]
    }
   ],
   "source": [
    "li = data.find_all('p')\n",
    "\n",
    "for i in li :\n",
    "    print(list(i.stripped_strings))"
   ]
  },
  {
   "cell_type": "code",
   "execution_count": 86,
   "metadata": {},
   "outputs": [
    {
     "name": "stdout",
     "output_type": "stream",
     "text": [
      "2\n",
      "[<head> <title>Web Scraping Test Page</title></head>, <body> <h1 id=\"title\">Welcome to my Dummy Page</h1> <p id=\"first paragraph\">This is some dummy text for testing purposes</p> <img alt=\"dummy image\" id=\"image\" src=\"https://via.placeholder.com/150\"/> <ul> <li class=\"list-item\" id=\"item1\">Item 1</li> <li class=\"list-item\" id=\"item2\">Item 2</li> <li class=\"list-item\" id=\"item3\">Item 3</li> </ul> <a href=\"https://www.example.com\" id=\"link\" target=\"_blank\">Click here to visit Example.com</a> <h1>Heading 1</h1> <h2>Heading 2</h2> <h3>Heading 3</h3> <p class=\"abc\" id=\"second para\">This is a paragraph.</p> <div> <h2>Div 1</h2> <p>This is a paragraph inside a div.</p> <ul> <li>List item 1</li> <li>List item 2</li> <li>List item 3</li> </ul> </div> <div> <h2>Div 2</h2> <p>This is another paragraph inside a div.</p> <ol> <li>List item 1</li> <li>List item 2</li> <li>List item 3</li> </ol> </div> <a href=\"https://www.example.com\">Example link</a> <img src=\"https://via.placeholder.com/150\"/> <span>This is a span.</span></body>]\n"
     ]
    }
   ],
   "source": [
    "# contents return a list with all children\n",
    "li = data.html.contents\n",
    "print(len(li))\n",
    "print(li)\n"
   ]
  },
  {
   "cell_type": "code",
   "execution_count": 87,
   "metadata": {},
   "outputs": [
    {
     "name": "stdout",
     "output_type": "stream",
     "text": [
      "<head> <title>Web Scraping Test Page</title></head>\n",
      "<body> <h1 id=\"title\">Welcome to my Dummy Page</h1> <p id=\"first paragraph\">This is some dummy text for testing purposes</p> <img alt=\"dummy image\" id=\"image\" src=\"https://via.placeholder.com/150\"/> <ul> <li class=\"list-item\" id=\"item1\">Item 1</li> <li class=\"list-item\" id=\"item2\">Item 2</li> <li class=\"list-item\" id=\"item3\">Item 3</li> </ul> <a href=\"https://www.example.com\" id=\"link\" target=\"_blank\">Click here to visit Example.com</a> <h1>Heading 1</h1> <h2>Heading 2</h2> <h3>Heading 3</h3> <p class=\"abc\" id=\"second para\">This is a paragraph.</p> <div> <h2>Div 1</h2> <p>This is a paragraph inside a div.</p> <ul> <li>List item 1</li> <li>List item 2</li> <li>List item 3</li> </ul> </div> <div> <h2>Div 2</h2> <p>This is another paragraph inside a div.</p> <ol> <li>List item 1</li> <li>List item 2</li> <li>List item 3</li> </ol> </div> <a href=\"https://www.example.com\">Example link</a> <img src=\"https://via.placeholder.com/150\"/> <span>This is a span.</span></body>\n"
     ]
    }
   ],
   "source": [
    "# children returns an iterator\n",
    "li_22 = data.html.children\n",
    "for i in li_22 : \n",
    "    print(i)"
   ]
  },
  {
   "cell_type": "code",
   "execution_count": 88,
   "metadata": {},
   "outputs": [
    {
     "name": "stdout",
     "output_type": "stream",
     "text": [
      "90\n"
     ]
    }
   ],
   "source": [
    "# children returns direct descendants\n",
    "# descendants returns all descendants\n",
    "desc = list(data.html.descendants)\n",
    "print(len(desc))"
   ]
  },
  {
   "attachments": {},
   "cell_type": "markdown",
   "metadata": {},
   "source": [
    "#### Descendants and children\n",
    "Print the difference between the number of descendants and the number of children of the html tag"
   ]
  },
  {
   "cell_type": "code",
   "execution_count": 97,
   "metadata": {},
   "outputs": [
    {
     "name": "stdout",
     "output_type": "stream",
     "text": [
      "32\n"
     ]
    }
   ],
   "source": [
    "html = '<!DOCTYPE html><html><head><title>Navigate Parse Tree</title></head>\\\n",
    "<body><h1>This is your Assignment</h1><a href = \"https://www.google.com\">This is a link that will take you to Google</a>\\\n",
    "<ul><li><p> This question is given to test your knowledge of <b>Web Scraping</b></p>\\\n",
    "<p>Web scraping is a term used to describe the use of a program or algorithm to extract and process large amounts of data from the web.</p></li>\\\n",
    "<li id = \"li2\">This is an li tag given to you for scraping</li>\\\n",
    "<li>This li tag gives you the various ways to get data from a website\\\n",
    "<ol><li class = \"list_or\">Using API of the website</li><li>Scrape data using BeautifulSoup</li><li>Scrape data using Selenium</li>\\\n",
    "<li>Scrape data using Scrapy</li></ol></li>\\\n",
    "<li class = \"list_or\"><a href=\"https://www.crummy.com/software/BeautifulSoup/bs4/doc/\">\\\n",
    "Clicking on this takes you to the documentation of BeautifulSoup</a>\\\n",
    "<a href=\"https://selenium-python.readthedocs.io/\" id=\"anchor\">Clicking on this takes you to the documentation of Selenium</a>\\\n",
    "</li></ul></body></html>'\n",
    "\n",
    "from bs4 import BeautifulSoup\n",
    "data = BeautifulSoup(html, 'html.parser')\n",
    "data = data.html\n",
    "\n",
    "count_descendants = len(list(data.descendants))\n",
    "count_children = len(list(data.children))\n",
    "\n",
    "print(count_descendants - count_children)"
   ]
  },
  {
   "attachments": {},
   "cell_type": "markdown",
   "metadata": {},
   "source": [
    "#### Name of tags with ID\n",
    "Print the name of all the tags in different lines that have an id attribute."
   ]
  },
  {
   "cell_type": "code",
   "execution_count": 104,
   "metadata": {},
   "outputs": [
    {
     "name": "stdout",
     "output_type": "stream",
     "text": [
      "li\n",
      "a\n"
     ]
    }
   ],
   "source": [
    "html = '<!DOCTYPE html><html><head><title>Navigate Parse Tree</title></head>\\\n",
    "<body><h1>This is your Assignment</h1><a href = \"https://www.google.com\">This is a link that will take you to Google</a>\\\n",
    "<ul><li><p> This question is given to test your knowledge of <b>Web Scraping</b></p>\\\n",
    "<p>Web scraping is a term used to describe the use of a program or algorithm to extract and process large amounts of data from the web.</p></li>\\\n",
    "<li id = \"li2\">This is an li tag given to you for scraping</li>\\\n",
    "<li>This li tag gives you the various ways to get data from a website\\\n",
    "<ol><li class = \"list_or\">Using API of the website</li><li>Scrape data using BeautifulSoup</li><li>Scrape data using Selenium</li>\\\n",
    "<li>Scrape data using Scrapy</li></ol></li>\\\n",
    "<li class = \"list_or\"><a href=\"https://www.crummy.com/software/BeautifulSoup/bs4/doc/\">\\\n",
    "Clicking on this takes you to the documentation of BeautifulSoup</a>\\\n",
    "<a href=\"https://selenium-python.readthedocs.io/\" id=\"anchor\">Clicking on this takes you to the documentation of Selenium</a>\\\n",
    "</li></ul></body></html>'\n",
    "\n",
    "\n",
    "from bs4 import BeautifulSoup\n",
    "data = BeautifulSoup(html, 'html.parser')\n",
    "data = data.html\n",
    "\n",
    "id_list = data.find_all(id=True)\n",
    "\n",
    "for i in id_list :\n",
    "    print(i.name)"
   ]
  },
  {
   "attachments": {},
   "cell_type": "markdown",
   "metadata": {},
   "source": [
    "#### Next Sibling\n",
    "Print all content of the next siblings of the tag that have id as “li2”(in different lines)"
   ]
  },
  {
   "cell_type": "code",
   "execution_count": 106,
   "metadata": {},
   "outputs": [
    {
     "name": "stdout",
     "output_type": "stream",
     "text": [
      "li\n"
     ]
    }
   ],
   "source": [
    "html = '<!DOCTYPE html><html><head><title>Navigate Parse Tree</title></head>\\\n",
    "<body><h1>This is your Assignment</h1><a href = \"https://www.google.com\">This is a link that will take you to Google</a>\\\n",
    "<ul><li><p> This question is given to test your knowledge of <b>Web Scraping</b></p>\\\n",
    "<p>Web scraping is a term used to describe the use of a program or algorithm to extract and process large amounts of data from the web.</p></li>\\\n",
    "<li id = \"li2\">This is an li tag given to you for scraping</li>\\\n",
    "<li>This li tag gives you the various ways to get data from a website\\\n",
    "<ol><li class = \"list_or\">Using API of the website</li><li>Scrape data using BeautifulSoup</li><li>Scrape data using Selenium</li>\\\n",
    "<li>Scrape data using Scrapy</li></ol></li>\\\n",
    "<li class = \"list_or\"><a href=\"https://www.crummy.com/software/BeautifulSoup/bs4/doc/\">\\\n",
    "Clicking on this takes you to the documentation of BeautifulSoup</a>\\\n",
    "<a href=\"https://selenium-python.readthedocs.io/\" id=\"anchor\">Clicking on this takes you to the documentation of Selenium</a>\\\n",
    "</li></ul></body></html>'\n",
    "\n",
    "from bs4 import BeautifulSoup\n",
    "data = BeautifulSoup(html, 'html.parser')\n",
    "data = data.html\n",
    "\n",
    "id_list = data.find_all(id='li2')\n",
    "\n",
    "for i in id_list :\n",
    "    print(i.name)"
   ]
  },
  {
   "cell_type": "code",
   "execution_count": null,
   "metadata": {},
   "outputs": [],
   "source": []
  }
 ],
 "metadata": {
  "kernelspec": {
   "display_name": "Python 3",
   "language": "python",
   "name": "python3"
  },
  "language_info": {
   "codemirror_mode": {
    "name": "ipython",
    "version": 3
   },
   "file_extension": ".py",
   "mimetype": "text/x-python",
   "name": "python",
   "nbconvert_exporter": "python",
   "pygments_lexer": "ipython3",
   "version": "3.10.0 (tags/v3.10.0:b494f59, Oct  4 2021, 19:00:18) [MSC v.1929 64 bit (AMD64)]"
  },
  "orig_nbformat": 4,
  "vscode": {
   "interpreter": {
    "hash": "1cb3211df066898bfa33f604a9f08045f479368c210eaa95a0a200394b2af790"
   }
  }
 },
 "nbformat": 4,
 "nbformat_minor": 2
}
