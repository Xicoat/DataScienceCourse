{
 "cells": [
  {
   "attachments": {},
   "cell_type": "markdown",
   "metadata": {},
   "source": [
    "Count Genre\n",
    "\n",
    "IMDB.sqlite' database contains all details of movies and has three tables with name IMDB, genre and earning.\n",
    "Find the count of each genre present in IMDB movie dataset?\n",
    "Print the Genre and number of movies present in that genre.\n",
    "Note: Ignore the empty value present in genre.\n",
    "Output Format:\n",
    "genre_1 num_movie_1\n",
    "genre_2 num_movie_2"
   ]
  },
  {
   "cell_type": "code",
   "execution_count": 10,
   "metadata": {},
   "outputs": [],
   "source": [
    "import sqlite3\n",
    "import pandas as pd\n",
    "\n",
    "db = sqlite3.connect('IMDB.sqlite')\n",
    "curr = db.cursor()"
   ]
  },
  {
   "cell_type": "code",
   "execution_count": 17,
   "metadata": {},
   "outputs": [
    {
     "name": "stdout",
     "output_type": "stream",
     "text": [
      "Action 33\n",
      "Adventure 43\n",
      "Animation 13\n",
      "Biography 21\n",
      "Comedy 31\n",
      "Crime 11\n",
      "Drama 77\n",
      "Family 3\n",
      "Fantasy 7\n",
      "History 6\n",
      "Horror 2\n",
      "Music 3\n",
      "Musical 1\n",
      "Mystery 7\n",
      "Romance 13\n",
      "Sci-Fi 18\n",
      "Sport 3\n",
      "Thriller 14\n",
      "War 2\n",
      "Western 2\n"
     ]
    }
   ],
   "source": [
    "sql = '''\n",
    "SELECT genre, Count(*)\n",
    "FROM IMDB AS A INNER JOIN genre AS B\n",
    "ON A.Movie_id = B.Movie_id\n",
    "WHERE genre != ''\n",
    "GROUP BY genre\n",
    "'''\n",
    "\n",
    "curr.execute(sql)\n",
    "result = curr.fetchall()\n",
    "for i in result:\n",
    "    print(i[0], i[1])"
   ]
  },
  {
   "cell_type": "code",
   "execution_count": 18,
   "metadata": {},
   "outputs": [],
   "source": [
    "db.close()"
   ]
  },
  {
   "attachments": {},
   "cell_type": "markdown",
   "metadata": {},
   "source": [
    "IMDB Movie\n",
    "IMDB.sqlite' database contains all details of movies and has three tables with name IMDB, genre and earning.\n",
    "Find the highest-grossing movie (i.e domestic earning + worldwide earning) in IMDB database.\n",
    "Print the rating of that movie.\n",
    "Output Format:\n",
    "rating\n"
   ]
  },
  {
   "cell_type": "code",
   "execution_count": 19,
   "metadata": {},
   "outputs": [],
   "source": [
    "import sqlite3\n",
    "\n",
    "db = sqlite3.connect('IMDB.sqlite')\n",
    "curr = db.cursor()"
   ]
  },
  {
   "cell_type": "code",
   "execution_count": 26,
   "metadata": {},
   "outputs": [
    {
     "name": "stdout",
     "output_type": "stream",
     "text": [
      "8.1\n"
     ]
    }
   ],
   "source": [
    "sql = '''\n",
    "SELECT Title, rating, (B.Domestic + B.Worldwide) as Total\n",
    "FROM IMDB AS A INNER JOIN earning AS B\n",
    "ON A.Movie_id = B.Movie_id\n",
    "ORDER BY 3 DESC\n",
    "LIMIT 1\n",
    "'''\n",
    "\n",
    "curr.execute(sql)\n",
    "result = curr.fetchall()\n",
    "for i in result:\n",
    "    print(i[1])"
   ]
  },
  {
   "cell_type": "code",
   "execution_count": null,
   "metadata": {},
   "outputs": [],
   "source": [
    "db.close()"
   ]
  },
  {
   "attachments": {},
   "cell_type": "markdown",
   "metadata": {},
   "source": [
    "## IMDB Voted\n",
    "\n",
    "IMDB.sqlite' database contains all details of movies and has three tables with name IMDB, genre and earning.\n",
    "Find the most voted movie in IMDB Movie Database.\n",
    "Print the movie name and the rating of that movie.\n",
    "Output Format:\n",
    "movie_name rating"
   ]
  },
  {
   "cell_type": "code",
   "execution_count": 1,
   "metadata": {},
   "outputs": [],
   "source": [
    "import sqlite3\n",
    "\n",
    "db = sqlite3.connect('IMDB.sqlite')\n",
    "curr = db.cursor()"
   ]
  },
  {
   "cell_type": "code",
   "execution_count": 4,
   "metadata": {},
   "outputs": [
    {
     "name": "stdout",
     "output_type": "stream",
     "text": [
      "Inception (2010) 8.8\n"
     ]
    }
   ],
   "source": [
    "sql = '''\n",
    "SELECT Title, rating, TotalVotes\n",
    "FROM IMDB \n",
    "ORDER BY 3 DESC\n",
    "LIMIT 1\n",
    "'''\n",
    "\n",
    "curr.execute(sql)\n",
    "result = curr.fetchall()\n",
    "for i in result:\n",
    "    print(i[0], i[1])"
   ]
  },
  {
   "cell_type": "code",
   "execution_count": null,
   "metadata": {},
   "outputs": [],
   "source": [
    "db.close()"
   ]
  },
  {
   "attachments": {},
   "cell_type": "markdown",
   "metadata": {},
   "source": [
    "## IMDB running time\n",
    "\n",
    "IMDB.sqlite database contains all details of movies and has three tables with name IMDB, genre and earning.\n",
    "Find the Movie with Longest-Running Time from IMDB Movie database.\n",
    "Print the name of movie and running time as integer value.\n",
    "Note: Don't print 'min' in running time.\n",
    "Output Format:\n",
    "movie_name running_time"
   ]
  },
  {
   "cell_type": "code",
   "execution_count": null,
   "metadata": {},
   "outputs": [],
   "source": [
    "import sqlite3\n",
    "\n",
    "db = sqlite3.connect('IMDB.sqlite')\n",
    "curr = db.cursor()"
   ]
  },
  {
   "cell_type": "code",
   "execution_count": 8,
   "metadata": {},
   "outputs": [
    {
     "name": "stdout",
     "output_type": "stream",
     "text": [
      "The Wolf of Wall Street (2013) 180\n"
     ]
    }
   ],
   "source": [
    "sql = '''\n",
    "SELECT Title, CAST(Runtime AS INTEGER)\n",
    "FROM IMDB \n",
    "ORDER BY 2 DESC\n",
    "LIMIT 1\n",
    "'''\n",
    "\n",
    "curr.execute(sql)\n",
    "result = curr.fetchall()\n",
    "for i in result:\n",
    "    print(i[0], i[1])"
   ]
  },
  {
   "cell_type": "code",
   "execution_count": null,
   "metadata": {},
   "outputs": [],
   "source": [
    "db.close()"
   ]
  },
  {
   "attachments": {},
   "cell_type": "markdown",
   "metadata": {},
   "source": [
    "## IMDB profit\n",
    "IMDB.sqlite database contains all details of movies and has three tables with name IMDB, genre and earning.\n",
    "Find the movie which has maximum net profit in IMDB Movie Database.\n",
    "Print the movie name.\n",
    "Note: Net Profit= Total Earning(Domestic+WorldWide earning) - budget\n",
    "Output Format:\n",
    "movie_name"
   ]
  },
  {
   "cell_type": "code",
   "execution_count": null,
   "metadata": {},
   "outputs": [],
   "source": [
    "import sqlite3\n",
    "\n",
    "db = sqlite3.connect('IMDB.sqlite')\n",
    "curr = db.cursor()"
   ]
  },
  {
   "cell_type": "code",
   "execution_count": 10,
   "metadata": {},
   "outputs": [
    {
     "name": "stdout",
     "output_type": "stream",
     "text": [
      "Star Wars: The Force Awakens (2015)\n"
     ]
    }
   ],
   "source": [
    "sql = '''\n",
    "SELECT Title, rating, (B.Domestic + B.Worldwide) as NetProfit\n",
    "FROM IMDB AS A INNER JOIN earning AS B\n",
    "ON A.Movie_id = B.Movie_id\n",
    "ORDER BY 3 DESC\n",
    "LIMIT 1\n",
    "'''\n",
    "\n",
    "curr.execute(sql)\n",
    "result = curr.fetchall()\n",
    "for i in result:\n",
    "    print(i[0])"
   ]
  },
  {
   "cell_type": "code",
   "execution_count": null,
   "metadata": {},
   "outputs": [],
   "source": [
    "db.close()"
   ]
  },
  {
   "attachments": {},
   "cell_type": "markdown",
   "metadata": {},
   "source": [
    "## IMDB least budget\n",
    "\n",
    "IMDB.sqlite database contains all details of movies and has three tables with name IMDB, genre and earning.\n",
    "Find the least budgeted movie in IMDB Movie Database.\n",
    "If there is more than one least budgeted movies then print the movie which has maximum net profit.\n",
    "Note: Net Profit= Total Earning(Domestic+WorldWide earning) - budget\n",
    "Output Format:\n",
    "movie_name"
   ]
  },
  {
   "cell_type": "code",
   "execution_count": null,
   "metadata": {},
   "outputs": [],
   "source": [
    "import sqlite3\n",
    "\n",
    "db = sqlite3.connect('IMDB.sqlite')\n",
    "curr = db.cursor()"
   ]
  },
  {
   "cell_type": "code",
   "execution_count": 14,
   "metadata": {},
   "outputs": [
    {
     "name": "stdout",
     "output_type": "stream",
     "text": [
      "Short Term 12 (2013)\n"
     ]
    }
   ],
   "source": [
    "sql = '''\n",
    "SELECT Title, A.Budget, (B.Domestic + B.Worldwide) as NetProfit\n",
    "FROM IMDB AS A INNER JOIN earning AS B\n",
    "ON A.Movie_id = B.Movie_id\n",
    "ORDER BY 2,3 DESC\n",
    "LIMIT 1\n",
    "'''\n",
    "\n",
    "curr.execute(sql)\n",
    "result = curr.fetchall()\n",
    "for i in result:\n",
    "    print(i[0])"
   ]
  },
  {
   "cell_type": "code",
   "execution_count": 21,
   "metadata": {},
   "outputs": [],
   "source": [
    "db.close()"
   ]
  },
  {
   "attachments": {},
   "cell_type": "markdown",
   "metadata": {},
   "source": [
    "## IMDB Year Top\n",
    "\n",
    "IMDB.sqlite' database contains all details of movies and has three tables with name IMDB, genre and earning.\n",
    "Find the highest-grossing movie (i.e domestic earning + worldwide earning) in IMDB database year wise.\n",
    "Print the Year and name of the movie which was the highest grosser in that year.\n",
    "Note:Print the year in ascending order.\n",
    "Output Format:\n",
    "year_1 name_movie_1\n",
    "year_2 name_movie_2\n",
    "year_3 name_movie_3"
   ]
  },
  {
   "cell_type": "code",
   "execution_count": 22,
   "metadata": {},
   "outputs": [],
   "source": [
    "import sqlite3\n",
    "import pandas as pd\n",
    "\n",
    "db = sqlite3.connect('IMDB.sqlite')"
   ]
  },
  {
   "cell_type": "code",
   "execution_count": 48,
   "metadata": {},
   "outputs": [
    {
     "name": "stdout",
     "output_type": "stream",
     "text": [
      "2010 Toy Story 3 (2010)\n",
      "2011 Rise of the Planet of the Apes (2011)\n",
      "2012 The Avengers (2012)\n",
      "2013 The Hunger Games: Catching Fire (2013)\n",
      "2014 Guardians of the Galaxy (2014)\n",
      "2015 Star Wars: The Force Awakens (2015)\n",
      "2016 Rogue One (2016)\n"
     ]
    }
   ],
   "source": [
    "sql = '''\n",
    "SELECT Title, SUBSTR(Title, -5, 4) AS Year, (B.Domestic + B.Worldwide) AS NetProfit\n",
    "FROM IMDB AS A INNER JOIN earning AS B\n",
    "ON A.Movie_id = B.Movie_id\n",
    "ORDER BY 2 DESC\n",
    "'''\n",
    "df = pd.read_sql_query(sql, db)\n",
    "idx_mask = df.groupby('Year')['NetProfit'].idxmax()\n",
    "df_result = df.loc[idx_mask, ['Year', 'Title']]\n",
    "\n",
    "for idx, row in df_result.iterrows():\n",
    "    print(row['Year'], row['Title'])"
   ]
  },
  {
   "cell_type": "code",
   "execution_count": null,
   "metadata": {},
   "outputs": [],
   "source": [
    "db.close()"
   ]
  },
  {
   "attachments": {},
   "cell_type": "markdown",
   "metadata": {},
   "source": [
    "## IMDB genre budget\n",
    "\n",
    "IMDB.sqlite' database contains all details of movies and has three tables with name IMDB, genre and earning.\n",
    "Find out the percentage of the budget for each genre in IMDB Movie Dataset?Plot the pie chart.\n",
    "Print the genre and percentage of movies budget present in that genre with 2 decimal place after rounding off..\n",
    "Note: Movies has multiple genres, so calculate the percentage for each genre.Replace empty budget column to zero.\n",
    "Output Format:\n",
    "genre_1 percent_1\n",
    "genre_2 percent_2\n",
    ". . ."
   ]
  },
  {
   "cell_type": "code",
   "execution_count": 1,
   "metadata": {},
   "outputs": [],
   "source": [
    "import sqlite3\n",
    "import pandas as pd\n",
    "import matplotlib.pyplot as plt\n",
    "\n",
    "db = sqlite3.connect('IMDB.sqlite')"
   ]
  },
  {
   "cell_type": "code",
   "execution_count": 5,
   "metadata": {},
   "outputs": [
    {
     "data": {
      "image/png": "[encoded data removed]",
      "text/plain": [
       "<Figure size 432x288 with 1 Axes>"
      ]
     },
     "metadata": {},
     "output_type": "display_data"
    },
    {
     "name": "stdout",
     "output_type": "stream",
     "text": [
      "Adventure 25.10\n",
      "Action 17.98\n",
      "Drama 10.85\n",
      "Sci-Fi 10.77\n",
      "Animation 7.66\n",
      "Comedy 7.22\n",
      "Fantasy 4.54\n",
      "Thriller 3.99\n",
      "Biography 2.59\n",
      "Mystery 1.95\n",
      "Family 1.91\n",
      "Crime 1.77\n",
      "Romance 1.12\n",
      "History 0.72\n",
      "Western 0.57\n",
      "Sport 0.46\n",
      "War 0.36\n",
      "Musical 0.25\n",
      "Music 0.15\n",
      "Horror 0.03\n"
     ]
    }
   ],
   "source": [
    "db = sqlite3.connect('IMDB.sqlite')\n",
    "\n",
    "sql = '''\n",
    "SELECT B.genre, SUM(A.Budget) AS Budget\n",
    "FROM IMDB AS A INNER JOIN genre AS B\n",
    "ON A.Movie_id = B.Movie_id\n",
    "GROUP BY B.genre\n",
    "ORDER BY 1 DESC\n",
    "'''\n",
    "\n",
    "df = pd.read_sql_query(sql, db)\n",
    "mask = df.loc[:,'Budget'] == ''\n",
    "df.loc[mask,'Budget'] = 0\n",
    "\n",
    "mask = df.loc[:,'genre'] != ''\n",
    "df = df.loc[mask]\n",
    "\n",
    "total = df['Budget'].sum()\n",
    "df['percentage('] = round((df['Budget'] / total) * 100, 2)\n",
    "df.sort_values(by=['Budget'], ascending=False, inplace = True)\n",
    "\n",
    "plt.pie(df['Budget'], labels=df['genre'], autopct='%1.2f%%')\n",
    "plt.axis('equal')\n",
    "plt.show()\n",
    "\n",
    "for idx, row in df.iterrows():\n",
    "    print(\"{} {:.2f}\".format(row[0], row[2]))"
   ]
  },
  {
   "cell_type": "code",
   "execution_count": null,
   "metadata": {},
   "outputs": [],
   "source": [
    "db.close()"
   ]
  },
  {
   "attachments": {},
   "cell_type": "markdown",
   "metadata": {},
   "source": [
    "## IMDB genre earning\n",
    "IMDB.sqlite' database contains all details of movies and has three tables with name IMDB, genre and earning.\n",
    "Find out the percentage of the total earning for each genre in IMDB Movie Dataset?Plot the pie chart.\n",
    "Print the genre and percentage of movies total earning present in that genre with 2 decimal place after rounding off.\n",
    "Note: Movies has multiple genres, so calculate the percentage for each genre.Total Earning=Domestic earning + WorldWide earning.\n",
    "Output Format:\n",
    "genre_1 percent_1\n",
    "genre_2 percent_2\n",
    ". . ."
   ]
  },
  {
   "cell_type": "code",
   "execution_count": null,
   "metadata": {},
   "outputs": [],
   "source": [
    "import sqlite3\n",
    "import pandas as pd\n",
    "import matplotlib.pyplot as plt\n",
    "\n",
    "db = sqlite3.connect('IMDB.sqlite')"
   ]
  },
  {
   "cell_type": "code",
   "execution_count": 11,
   "metadata": {},
   "outputs": [
    {
     "data": {
      "image/png": "[encoded data removed]",
      "text/plain": [
       "<Figure size 432x288 with 1 Axes>"
      ]
     },
     "metadata": {},
     "output_type": "display_data"
    },
    {
     "name": "stdout",
     "output_type": "stream",
     "text": [
      "Adventure 23.57\n",
      "Action 17.91\n",
      "Drama 11.96\n",
      "Sci-Fi 9.95\n",
      "Comedy 7.69\n",
      "Animation 6.77\n",
      "Fantasy 5.15\n",
      "Thriller 4.42\n",
      "Biography 3.42\n",
      "Mystery 2.01\n",
      "Crime 1.55\n",
      "Romance 1.45\n",
      "Family 1.05\n",
      "History 1.04\n",
      "Western 0.65\n",
      "Music 0.43\n",
      "Musical 0.38\n",
      "Sport 0.32\n",
      "War 0.25\n",
      "Horror 0.01\n"
     ]
    }
   ],
   "source": [
    "sql = '''\n",
    "SELECT A.genre, SUM(B.Domestic + B.Worldwide) AS TotalEarning\n",
    "FROM genre AS A INNER JOIN earning AS B\n",
    "ON A.Movie_id = B.Movie_id\n",
    "GROUP BY A.genre\n",
    "ORDER BY 1 DESC\n",
    "'''\n",
    "\n",
    "df = pd.read_sql_query(sql, db)\n",
    "mask = df.loc[:,'genre'] != ''\n",
    "df = df.loc[mask]\n",
    "df.sort_values(by=['TotalEarning'], ascending=False, inplace=True)\n",
    "total = df['TotalEarning'].sum()\n",
    "df['percentage'] = round((df['TotalEarning'] / total) * 100, 2)\n",
    "\n",
    "plt.pie(df['TotalEarning'], labels=df['genre'], autopct='%1.2f%%')\n",
    "plt.axis('equal')\n",
    "plt.show()\n",
    "\n",
    "for idx, row in df.iterrows():\n",
    "    print(\"{} {:.2f}\".format(row[0], row[2]))\n",
    "    \n"
   ]
  },
  {
   "attachments": {},
   "cell_type": "markdown",
   "metadata": {},
   "source": [
    "## IMDB Specific Genre\n",
    "\n",
    "IMDB.sqlite' database contains all details of movies and has three tables with name IMDB, genre and earning.\n",
    "Find the movie which has genre of 'Sci-Fi' and 'Mystery' and movie rating is greater or equal to 8 from IMDB Movie Database.\n",
    "Print the movie name.\n",
    "Movies has multiple genre.\n",
    "Output Format:\n",
    "movie_name"
   ]
  },
  {
   "cell_type": "code",
   "execution_count": null,
   "metadata": {},
   "outputs": [],
   "source": [
    "import sqlite3\n",
    "\n",
    "db = sqlite3.connect('IMDB.sqlite')\n",
    "curr = db.cursor()"
   ]
  },
  {
   "cell_type": "code",
   "execution_count": 16,
   "metadata": {},
   "outputs": [
    {
     "name": "stdout",
     "output_type": "stream",
     "text": [
      "Arrival (2016)\n"
     ]
    }
   ],
   "source": [
    "sql = '''\n",
    "SELECT A.Title\n",
    "FROM IMDB AS A INNER JOIN genre AS B\n",
    "ON A.Movie_id = B.Movie_id\n",
    "INNER JOIN genre as C \n",
    "ON A.Movie_id = C.Movie_id\n",
    "WHERE B.genre = 'Sci-Fi' AND C.genre = 'Mystery' AND A.rating>= 8\n",
    "ORDER BY 1 DESC\n",
    "'''\n",
    "\n",
    "\n",
    "curr.execute(sql)\n",
    "result = curr.fetchall()\n",
    "for i in result:\n",
    "    print(i[0])\n"
   ]
  },
  {
   "cell_type": "code",
   "execution_count": 17,
   "metadata": {},
   "outputs": [],
   "source": [
    "db.close()"
   ]
  }
 ],
 "metadata": {
  "kernelspec": {
   "display_name": "Python 3",
   "language": "python",
   "name": "python3"
  },
  "language_info": {
   "codemirror_mode": {
    "name": "ipython",
    "version": 3
   },
   "file_extension": ".py",
   "mimetype": "text/x-python",
   "name": "python",
   "nbconvert_exporter": "python",
   "pygments_lexer": "ipython3",
   "version": "3.10.0"
  },
  "orig_nbformat": 4,
  "vscode": {
   "interpreter": {
    "hash": "1cb3211df066898bfa33f604a9f08045f479368c210eaa95a0a200394b2af790"
   }
  }
 },
 "nbformat": 4,
 "nbformat_minor": 2
}
