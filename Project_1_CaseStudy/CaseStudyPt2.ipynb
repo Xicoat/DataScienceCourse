{
 "cells": [
  {
   "attachments": {},
   "cell_type": "markdown",
   "metadata": {},
   "source": [
    "# Project: Case Study Part - II"
   ]
  },
  {
   "cell_type": "code",
   "execution_count": 4,
   "metadata": {},
   "outputs": [],
   "source": [
    "import matplotlib.pyplot as plt\n",
    "import pandas as pd\n",
    "import numpy as np\n",
    "\n",
    "data = pd.read_csv(\"Datasets//startup_funding.csv\", encoding='ISO-8859-1', index_col = 0)"
   ]
  },
  {
   "attachments": {},
   "cell_type": "markdown",
   "metadata": {},
   "source": [
    "## Question 1:\n",
    "Your Friend has developed the Product and he wants to establish the product startup and he is searching for a perfect location where getting the investment has a high chance. But due to its financial restriction, he can choose only between three locations -  Bangalore, Mumbai, and NCR. \n",
    "\n",
    "As a friend, you want to help your friend deciding the location. NCR include Gurgaon, Noida and New Delhi. \n",
    "\n",
    "**Find the location where the most number of funding is done. That means, find the location where startups has received funding maximum number of times. Plot the bar graph between location and number of funding.**\n",
    "\n",
    "Take city name \"Delhi\" as \"New Delhi\". Check the case-sensitiveness of cities also. That means, at some place instead of \"Bangalore\", \"bangalore\" is given. Take city name as \"Bangalore\". For few startups multiple locations are given, one Indian and one Foreign. Consider the startup if any one of the city lies in given locations."
   ]
  },
  {
   "cell_type": "code",
   "execution_count": 5,
   "metadata": {},
   "outputs": [
    {
     "name": "stdout",
     "output_type": "stream",
     "text": [
      "NCR 709\n",
      "Bangalore 637\n",
      "Mumbai 449\n"
     ]
    },
    {
     "data": {
      "image/png": "[encoded data removed]",
      "text/plain": [
       "<Figure size 432x288 with 1 Axes>"
      ]
     },
     "metadata": {
      "needs_background": "light"
     },
     "output_type": "display_data"
    }
   ],
   "source": [
    "df = data.copy()\n",
    "\n",
    "cities = df.loc[:, 'CityLocation']\n",
    "cities.dropna(inplace=True)\n",
    "cities = cities.str.split('/')\n",
    "cities = cities.explode()\n",
    "cities = cities.str.strip()\n",
    "\n",
    "changes = {'^Delhi':'New Delhi', 'bangalore':'Bangalore'}\n",
    "cities.replace(changes, regex=True, inplace=True)\n",
    "changes = {'Gurgaon':'NCR', 'Noida':'NCR', 'New Delhi':'NCR'}\n",
    "cities.replace(changes, inplace=True)\n",
    "cities = cities[cities.isin(['Bangalore', 'Mumbai', 'NCR'])]\n",
    "\n",
    "\n",
    "fundings = cities.value_counts().reset_index()\n",
    "fundings.rename(columns={'index':'CityLocation', 'CityLocation':'Count'}, inplace=True)\n",
    "\n",
    "for index, row in fundings.iterrows():\n",
    "    print(row['CityLocation'], row['Count'])\n",
    "plt.bar(fundings.loc[:, 'CityLocation'],  fundings.loc[:, 'Count'])\n",
    "plt.show()"
   ]
  },
  {
   "attachments": {},
   "cell_type": "markdown",
   "metadata": {},
   "source": [
    "## Question 2\n",
    "\n",
    "Even after trying for so many times, your friend’s startup could not find the investment. So you decided to take this matter in your hand and try to find the list of investors who probably can invest in your friend’s startup. Your list will increase the chance of your friend startup getting some initial investment by contacting these investors. \n",
    "\n",
    "**Find the top 5 investors who have invested maximum number of times (consider repeat investments in one company also).**\n",
    "\n",
    "In a startup, multiple investors might have invested. So consider each investor for that startup. Ignore undisclosed investors."
   ]
  },
  {
   "cell_type": "code",
   "execution_count": 6,
   "metadata": {},
   "outputs": [
    {
     "name": "stdout",
     "output_type": "stream",
     "text": [
      "Sequoia Capital 65\n",
      "Accel Partners 52\n",
      "Saif Partners 44\n",
      "Kalaari Capital 44\n",
      "Blume Ventures 41\n"
     ]
    }
   ],
   "source": [
    "df = data.copy()\n",
    "investors = df.loc[:, 'InvestorsName']\n",
    "\n",
    "investors.dropna(inplace=True)\n",
    "investors = investors.str.split(',').explode()\n",
    "investors = investors.replace('\\.$', '', regex=True).str.strip().str.title()\n",
    "investors = investors[~investors.str.contains('Undisclosed')]\n",
    "\n",
    "investors = investors.value_counts().reset_index()\n",
    "investors.rename(columns={'index':'InvestorsName', 'InvestorsName':'Count'}, inplace=True)\n",
    "\n",
    "for index, row in investors[0:5].iterrows():\n",
    "    print(row['InvestorsName'], row['Count'])"
   ]
  },
  {
   "attachments": {},
   "cell_type": "markdown",
   "metadata": {},
   "source": [
    "## Question 3\n",
    "After re-analysing the dataset you found out that some investors have invested in the same startup at different number of funding rounds. So before finalising the previous list, you want to improvise it by finding the top 5 investors who have invested in different number of startups. This list will be more helpful than your previous list in finding the investment for your friend startup.\n",
    "\n",
    "**Find the top 5 investors who have invested maximum number of times in different companies. That means, if one investor has invested multiple times in one startup, count one for that company.** \n",
    "\n",
    "There are many errors in startup names. Ignore correcting all, just handle the important ones - Ola, Flipkart, Oyo and Paytm."
   ]
  },
  {
   "cell_type": "code",
   "execution_count": 95,
   "metadata": {},
   "outputs": [
    {
     "data": {
      "text/plain": [
       "Sequoia Capital         48\n",
       "Accel Partners          46\n",
       "Kalaari Capital         41\n",
       "Indian Angel Network    40\n",
       "Blume Ventures          36\n",
       "Name: InvestorsName, dtype: int64"
      ]
     },
     "execution_count": 95,
     "metadata": {},
     "output_type": "execute_result"
    }
   ],
   "source": [
    "import matplotlib.pyplot as plt\n",
    "import pandas as pd\n",
    "import numpy as np\n",
    "\n",
    "def lista(l):\n",
    "    return [i.strip() for i in l.split(',')]\n",
    "\n",
    "data = pd.read_csv(\"Datasets//startup_funding.csv\", encoding='ISO-8859-1', index_col = 0)\n",
    "df = data.copy()\n",
    "df.dropna(subset=['InvestorsName'], inplace=True)\n",
    "df = df[~df['InvestorsName'].str.startswith('Undisclosed')]\n",
    "changes = {'Oyo Rooms':'Oyo', 'OyoRooms':'Oyo','OYO Rooms':'Oyo','Oyorooms':'Oyo', 'Olacabs':'Ola', 'Ola Cabs':'Ola','Paytm Marketplace':'Paytm','Flipkart.com':'Flipkart'}\n",
    "df['StartupName'].replace(changes, inplace = True)\n",
    "df['InvestorsName'] = df['InvestorsName'].apply(lista)\n",
    "\n",
    "exploded = df.explode('InvestorsName')\n",
    "exploded['InvestorsName'] = exploded['InvestorsName'].replace(r'^\\s*$', np.nan, regex=True)\n",
    "exploded.dropna(subset=['InvestorsName'], inplace=True)\n",
    "\n",
    "grouped = exploded.groupby(['InvestorsName','StartupName']).size().reset_index(name ='Size')\n",
    "grouped = grouped.sort_values('Size', ascending=False)\n",
    "investors = grouped['InvestorsName']\n",
    "investors.value_counts()[0:5]"
   ]
  },
  {
   "attachments": {},
   "cell_type": "markdown",
   "metadata": {},
   "source": [
    "## Question 4\n",
    "Even after putting so much effort in finding the probable investors, it didn't turn out to be helpful for your friend. So you went to your investor friend to understand the situation better and your investor friend explained to you about the different Investment Types and their features. This new information will be helpful in finding the right investor. Since your friend startup is at an early stage startup, the best-suited investment type would be - Seed Funding and Crowdfunding. \n",
    "\n",
    "**Find the top 5 investors who have invested in a different number of startups and their investment type is Crowdfunding or Seed Funding.**\n",
    "\n",
    "Correct spelling of investment types are - \"Private Equity\", \"Seed Funding\", \"Debt Funding\", and \"Crowd Funding\". Keep an eye for any spelling mistake. You can find this by printing unique values from this column. There are many errors in startup names. Ignore correcting all, just handle the important ones - Ola, Flipkart, Oyo and Paytm."
   ]
  },
  {
   "cell_type": "code",
   "execution_count": 118,
   "metadata": {},
   "outputs": [
    {
     "data": {
      "text/plain": [
       "Indian Angel Network        33\n",
       "Rajan Anandan               22\n",
       "LetsVenture                 16\n",
       "Anupam Mittal               16\n",
       "Kunal Shah                  14\n",
       "Group of Angel Investors    14\n",
       "Name: InvestorsName, dtype: int64"
      ]
     },
     "execution_count": 118,
     "metadata": {},
     "output_type": "execute_result"
    }
   ],
   "source": [
    "import matplotlib.pyplot as plt\n",
    "import pandas as pd\n",
    "import numpy as np\n",
    "\n",
    "def lista(l):\n",
    "    return [i.strip() for i in l.split(',')]\n",
    "\n",
    "data = pd.read_csv(\"Datasets//startup_funding.csv\", encoding='ISO-8859-1', index_col = 0)\n",
    "df = data.copy()\n",
    "df.dropna(subset=['InvestorsName'], inplace=True)\n",
    "df = df[~df['InvestorsName'].str.startswith('Undisclosed')]\n",
    "changes = {'Oyo Rooms':'Oyo', 'OyoRooms':'Oyo','OYO Rooms':'Oyo','Oyorooms':'Oyo', 'Olacabs':'Ola', 'Ola Cabs':'Ola','Paytm Marketplace':'Paytm','Flipkart.com':'Flipkart'}\n",
    "df['StartupName'].replace(changes, inplace = True)\n",
    "changes = {'SeedFunding':'Seed Funding', 'PrivateEquity':'Private Equity', 'Crowd funding':'Crowd Funding'}\n",
    "df['InvestmentType'].replace(changes, inplace=True)\n",
    "df['InvestorsName'] = df['InvestorsName'].apply(lista)\n",
    "\n",
    "exploded = df.explode('InvestorsName')\n",
    "exploded['InvestorsName'] = exploded['InvestorsName'].replace(r'^\\s*$', np.nan, regex=True)\n",
    "exploded.dropna(subset=['InvestorsName'], inplace=True)\n",
    "\n",
    "grouped = exploded.groupby(['InvestorsName','InvestmentType','StartupName']).size().reset_index(name ='Size')\n",
    "grouped = grouped.sort_values('Size', ascending=False)\n",
    "grouped = grouped[grouped['InvestmentType'].isin(['Crowd Funding','Seed Funding'])]\n",
    "investors = grouped['InvestorsName']\n",
    "investors.value_counts()[0:6]"
   ]
  },
  {
   "attachments": {},
   "cell_type": "markdown",
   "metadata": {},
   "source": [
    "## Question 5\n",
    "\n",
    "Due to your immense help, your friend startup successfully got seed funding and it is on the operational mode. Now your friend wants to expand his startup and he is looking for new investors for his startup. Now you again come as a saviour to help your friend and want to create a list of probable new new investors. Before moving forward you remember your investor friend advice that finding the investors by analysing the investment type. Since your friend startup is not in early phase it is in growth stage so the best-suited investment type is Private Equity. \n",
    "\n",
    "**Find the top 5 investors who have invested in a different number of startups and their investment type is Private Equity.**\n",
    "\n",
    " Correct spelling of investment types are - \"Private Equity\", \"Seed Funding\", \"Debt Funding\", and \"Crowd Funding\". Keep an eye for any spelling mistake. You can find this by printing unique values from this column. There are many errors in startup names. Ignore correcting all, just handle the important ones - Ola, Flipkart, Oyo and Paytm."
   ]
  },
  {
   "cell_type": "code",
   "execution_count": 120,
   "metadata": {},
   "outputs": [
    {
     "data": {
      "text/plain": [
       "Sequoia Capital    45\n",
       "Accel Partners     41\n",
       "Kalaari Capital    35\n",
       "Blume Ventures     27\n",
       "SAIF Partners      23\n",
       "Name: InvestorsName, dtype: int64"
      ]
     },
     "execution_count": 120,
     "metadata": {},
     "output_type": "execute_result"
    }
   ],
   "source": [
    "import matplotlib.pyplot as plt\n",
    "import pandas as pd\n",
    "import numpy as np\n",
    "\n",
    "def lista(l):\n",
    "    return [i.strip() for i in l.split(',')]\n",
    "\n",
    "data = pd.read_csv(\"Datasets//startup_funding.csv\", encoding='ISO-8859-1', index_col = 0)\n",
    "df = data.copy()\n",
    "df.dropna(subset=['InvestorsName'], inplace=True)\n",
    "df = df[~df['InvestorsName'].str.startswith('Undisclosed')]\n",
    "changes = {'Oyo Rooms':'Oyo', 'OyoRooms':'Oyo','OYO Rooms':'Oyo','Oyorooms':'Oyo', 'Olacabs':'Ola', 'Ola Cabs':'Ola','Paytm Marketplace':'Paytm','Flipkart.com':'Flipkart'}\n",
    "df['StartupName'].replace(changes, inplace = True)\n",
    "changes = {'SeedFunding':'Seed Funding', 'PrivateEquity':'Private Equity', 'Crowd funding':'Crowd Funding'}\n",
    "df['InvestmentType'].replace(changes, inplace=True)\n",
    "df['InvestorsName'] = df['InvestorsName'].apply(lista)\n",
    "\n",
    "exploded = df.explode('InvestorsName')\n",
    "exploded['InvestorsName'] = exploded['InvestorsName'].replace(r'^\\s*$', np.nan, regex=True)\n",
    "exploded.dropna(subset=['InvestorsName'], inplace=True)\n",
    "\n",
    "grouped = exploded.groupby(['InvestorsName','InvestmentType','StartupName']).size().reset_index(name ='Size')\n",
    "grouped = grouped.sort_values('Size', ascending=False)\n",
    "grouped = grouped[grouped['InvestmentType'].isin(['Private Equity'])]\n",
    "investors = grouped['InvestorsName']\n",
    "investors.value_counts()[0:5]"
   ]
  },
  {
   "cell_type": "code",
   "execution_count": 117,
   "metadata": {},
   "outputs": [
    {
     "data": {
      "text/html": [
       "<div>\n",
       "<style scoped>\n",
       "    .dataframe tbody tr th:only-of-type {\n",
       "        vertical-align: middle;\n",
       "    }\n",
       "\n",
       "    .dataframe tbody tr th {\n",
       "        vertical-align: top;\n",
       "    }\n",
       "\n",
       "    .dataframe thead th {\n",
       "        text-align: right;\n",
       "    }\n",
       "</style>\n",
       "<table border=\"1\" class=\"dataframe\">\n",
       "  <thead>\n",
       "    <tr style=\"text-align: right;\">\n",
       "      <th></th>\n",
       "      <th>InvestorsName</th>\n",
       "      <th>InvestmentType</th>\n",
       "      <th>StartupName</th>\n",
       "      <th>Size</th>\n",
       "    </tr>\n",
       "  </thead>\n",
       "  <tbody>\n",
       "    <tr>\n",
       "      <th>1212</th>\n",
       "      <td>Gaurav Bhatnagar</td>\n",
       "      <td>Seed Funding</td>\n",
       "      <td>Envoged</td>\n",
       "      <td>2</td>\n",
       "    </tr>\n",
       "    <tr>\n",
       "      <th>3562</th>\n",
       "      <td>Sudhir Mehta</td>\n",
       "      <td>Seed Funding</td>\n",
       "      <td>Arcatron Mobility</td>\n",
       "      <td>2</td>\n",
       "    </tr>\n",
       "    <tr>\n",
       "      <th>494</th>\n",
       "      <td>Ashim Mehra</td>\n",
       "      <td>Seed Funding</td>\n",
       "      <td>AppVirality</td>\n",
       "      <td>2</td>\n",
       "    </tr>\n",
       "    <tr>\n",
       "      <th>501</th>\n",
       "      <td>Ashish Gupta</td>\n",
       "      <td>Seed Funding</td>\n",
       "      <td>Fastudent</td>\n",
       "      <td>2</td>\n",
       "    </tr>\n",
       "    <tr>\n",
       "      <th>2263</th>\n",
       "      <td>Mohan Alexander</td>\n",
       "      <td>Seed Funding</td>\n",
       "      <td>Stockal</td>\n",
       "      <td>2</td>\n",
       "    </tr>\n",
       "    <tr>\n",
       "      <th>...</th>\n",
       "      <td>...</td>\n",
       "      <td>...</td>\n",
       "      <td>...</td>\n",
       "      <td>...</td>\n",
       "    </tr>\n",
       "    <tr>\n",
       "      <th>1446</th>\n",
       "      <td>Hyderabad based investor</td>\n",
       "      <td>Seed Funding</td>\n",
       "      <td>Changer Mints</td>\n",
       "      <td>1</td>\n",
       "    </tr>\n",
       "    <tr>\n",
       "      <th>1447</th>\n",
       "      <td>I-cube-N</td>\n",
       "      <td>Seed Funding</td>\n",
       "      <td>The Better India</td>\n",
       "      <td>1</td>\n",
       "    </tr>\n",
       "    <tr>\n",
       "      <th>1448</th>\n",
       "      <td>IAN Ventures</td>\n",
       "      <td>Seed Funding</td>\n",
       "      <td>Process 9</td>\n",
       "      <td>1</td>\n",
       "    </tr>\n",
       "    <tr>\n",
       "      <th>1449</th>\n",
       "      <td>ID Enablers Pvt Ltd</td>\n",
       "      <td>Seed Funding</td>\n",
       "      <td>Qik Stay</td>\n",
       "      <td>1</td>\n",
       "    </tr>\n",
       "    <tr>\n",
       "      <th>1452</th>\n",
       "      <td>IDG</td>\n",
       "      <td>Seed Funding</td>\n",
       "      <td>Little Black Book</td>\n",
       "      <td>1</td>\n",
       "    </tr>\n",
       "  </tbody>\n",
       "</table>\n",
       "<p>2340 rows × 4 columns</p>\n",
       "</div>"
      ],
      "text/plain": [
       "                 InvestorsName InvestmentType        StartupName  Size\n",
       "1212          Gaurav Bhatnagar   Seed Funding            Envoged     2\n",
       "3562              Sudhir Mehta   Seed Funding  Arcatron Mobility     2\n",
       "494                Ashim Mehra   Seed Funding        AppVirality     2\n",
       "501               Ashish Gupta   Seed Funding          Fastudent     2\n",
       "2263           Mohan Alexander   Seed Funding            Stockal     2\n",
       "...                        ...            ...                ...   ...\n",
       "1446  Hyderabad based investor   Seed Funding      Changer Mints     1\n",
       "1447                  I-cube-N   Seed Funding   The Better India     1\n",
       "1448              IAN Ventures   Seed Funding          Process 9     1\n",
       "1449       ID Enablers Pvt Ltd   Seed Funding           Qik Stay     1\n",
       "1452                       IDG   Seed Funding  Little Black Book     1\n",
       "\n",
       "[2340 rows x 4 columns]"
      ]
     },
     "execution_count": 117,
     "metadata": {},
     "output_type": "execute_result"
    }
   ],
   "source": [
    "grouped"
   ]
  },
  {
   "cell_type": "code",
   "execution_count": 111,
   "metadata": {},
   "outputs": [
    {
     "data": {
      "text/plain": [
       "array(['Private Equity', 'Seed Funding', 'Debt Funding', False,\n",
       "       'Crowd Funding'], dtype=object)"
      ]
     },
     "execution_count": 111,
     "metadata": {},
     "output_type": "execute_result"
    }
   ],
   "source": [
    "df['InvestmentType'].unique()"
   ]
  },
  {
   "cell_type": "code",
   "execution_count": null,
   "metadata": {},
   "outputs": [],
   "source": []
  }
 ],
 "metadata": {
  "kernelspec": {
   "display_name": "Python 3",
   "language": "python",
   "name": "python3"
  },
  "language_info": {
   "codemirror_mode": {
    "name": "ipython",
    "version": 3
   },
   "file_extension": ".py",
   "mimetype": "text/x-python",
   "name": "python",
   "nbconvert_exporter": "python",
   "pygments_lexer": "ipython3",
   "version": "3.10.0"
  },
  "orig_nbformat": 4,
  "vscode": {
   "interpreter": {
    "hash": "1cb3211df066898bfa33f604a9f08045f479368c210eaa95a0a200394b2af790"
   }
  }
 },
 "nbformat": 4,
 "nbformat_minor": 2
}
