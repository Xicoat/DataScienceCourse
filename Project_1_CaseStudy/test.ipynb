{
 "cells": [
  {
   "cell_type": "code",
   "execution_count": 40,
   "metadata": {},
   "outputs": [
    {
     "name": "stdout",
     "output_type": "stream",
     "text": [
      "NCR 709\n",
      "Bangalore 637\n",
      "Mumbai 449\n"
     ]
    },
    {
     "data": {
      "image/png": "[encoded data removed]",
      "text/plain": [
       "<Figure size 432x288 with 1 Axes>"
      ]
     },
     "metadata": {
      "needs_background": "light"
     },
     "output_type": "display_data"
    }
   ],
   "source": [
    "import matplotlib.pyplot as plt\n",
    "import pandas as pd\n",
    "import numpy as np\n",
    "\n",
    "data = pd.read_csv(\"Datasets//startup_funding.csv\", encoding='ISO-8859-1', index_col = 0)\n",
    "df = data.copy()\n",
    "\n",
    "cities = df.loc[:, 'CityLocation']\n",
    "cities.dropna(inplace=True)\n",
    "cities = cities.str.split('/')\n",
    "cities = cities.explode()\n",
    "cities = cities.str.strip()\n",
    "\n",
    "changes = {'^Delhi':'New Delhi', 'bangalore':'Bangalore'}\n",
    "cities.replace(changes, regex=True, inplace=True)\n",
    "changes = {'Gurgaon':'NCR', 'Noida':'NCR', 'New Delhi':'NCR'}\n",
    "cities.replace(changes, inplace=True)\n",
    "cities = cities[cities.isin(['Bangalore', 'Mumbai', 'NCR'])]\n",
    "\n",
    "\n",
    "fundings = cities.value_counts().reset_index()\n",
    "fundings.rename(columns={'index':'CityLocation', 'CityLocation':'Count'}, inplace=True)\n",
    "\n",
    "for index, row in fundings.iterrows():\n",
    "    print(row['CityLocation'], row['Count'])\n",
    "plt.bar(fundings.loc[:, 'CityLocation'],  fundings.loc[:, 'Count'])\n",
    "plt.show()"
   ]
  },
  {
   "attachments": {},
   "cell_type": "markdown",
   "metadata": {},
   "source": [
    "# 2"
   ]
  },
  {
   "cell_type": "code",
   "execution_count": 94,
   "metadata": {},
   "outputs": [
    {
     "name": "stdout",
     "output_type": "stream",
     "text": [
      "Sequoia Capital 65\n",
      "Accel Partners 52\n",
      "Saif Partners 44\n",
      "Kalaari Capital 44\n",
      "Blume Ventures 41\n"
     ]
    }
   ],
   "source": [
    "import matplotlib.pyplot as plt\n",
    "import pandas as pd\n",
    "import numpy as np\n",
    "\n",
    "data = pd.read_csv(\"Datasets//startup_funding.csv\", encoding='ISO-8859-1', index_col = 0)\n",
    "df = data.copy()\n",
    "investors = df.loc[:, 'InvestorsName']\n",
    "\n",
    "investors.dropna(inplace=True)\n",
    "investors = investors.str.split(',').explode()\n",
    "investors = investors.replace('\\.$', '', regex=True).str.strip().str.title()\n",
    "investors = investors[~investors.str.contains('Undisclosed')]\n",
    "\n",
    "investors = investors.value_counts().reset_index()\n",
    "investors.rename(columns={'index':'InvestorsName', 'InvestorsName':'Count'}, inplace=True)\n",
    "\n",
    "for index, row in investors[0:5].iterrows():\n",
    "    print(row['InvestorsName'], row['Count'])"
   ]
  },
  {
   "attachments": {},
   "cell_type": "markdown",
   "metadata": {},
   "source": [
    "# 3"
   ]
  },
  {
   "cell_type": "code",
   "execution_count": 142,
   "metadata": {},
   "outputs": [
    {
     "ename": "TypeError",
     "evalue": "bad operand type for unary ~: 'float'",
     "output_type": "error",
     "traceback": [
      "\u001b[1;31m---------------------------------------------------------------------------\u001b[0m",
      "\u001b[1;31mTypeError\u001b[0m                                 Traceback (most recent call last)",
      "\u001b[1;32mc:\\Users\\Ansia\\Code\\DataScienceCourse\\Project_1_CaseStudy\\test.ipynb Cell 5\u001b[0m in \u001b[0;36m<module>\u001b[1;34m\u001b[0m\n\u001b[0;32m     <a href='vscode-notebook-cell:/c%3A/Users/Ansia/Code/DataScienceCourse/Project_1_CaseStudy/test.ipynb#X21sZmlsZQ%3D%3D?line=10'>11</a>\u001b[0m df_staged \u001b[39m=\u001b[39m df_staged\u001b[39m.\u001b[39mexplode(\u001b[39m'\u001b[39m\u001b[39mInvestorsName\u001b[39m\u001b[39m'\u001b[39m)\n\u001b[0;32m     <a href='vscode-notebook-cell:/c%3A/Users/Ansia/Code/DataScienceCourse/Project_1_CaseStudy/test.ipynb#X21sZmlsZQ%3D%3D?line=11'>12</a>\u001b[0m df_staged[\u001b[39m'\u001b[39m\u001b[39mInvestorsName\u001b[39m\u001b[39m'\u001b[39m] \u001b[39m=\u001b[39m df_staged[\u001b[39m'\u001b[39m\u001b[39mInvestorsName\u001b[39m\u001b[39m'\u001b[39m]\u001b[39m.\u001b[39mreplace(\u001b[39m'\u001b[39m\u001b[39m\\\u001b[39m\u001b[39m.$\u001b[39m\u001b[39m'\u001b[39m, \u001b[39m'\u001b[39m\u001b[39m'\u001b[39m, regex\u001b[39m=\u001b[39m\u001b[39mTrue\u001b[39;00m)\u001b[39m.\u001b[39mstr\u001b[39m.\u001b[39mstrip()\u001b[39m.\u001b[39mstr\u001b[39m.\u001b[39mtitle()\n\u001b[1;32m---> <a href='vscode-notebook-cell:/c%3A/Users/Ansia/Code/DataScienceCourse/Project_1_CaseStudy/test.ipynb#X21sZmlsZQ%3D%3D?line=12'>13</a>\u001b[0m df_staged \u001b[39m=\u001b[39m df_staged[\u001b[39m~\u001b[39;49mdf_staged[\u001b[39m'\u001b[39;49m\u001b[39mInvestorsName\u001b[39;49m\u001b[39m'\u001b[39;49m]\u001b[39m.\u001b[39;49mstr\u001b[39m.\u001b[39;49mcontains(\u001b[39m'\u001b[39;49m\u001b[39mUndisclosed\u001b[39;49m\u001b[39m'\u001b[39;49m)]\n\u001b[0;32m     <a href='vscode-notebook-cell:/c%3A/Users/Ansia/Code/DataScienceCourse/Project_1_CaseStudy/test.ipynb#X21sZmlsZQ%3D%3D?line=13'>14</a>\u001b[0m changes \u001b[39m=\u001b[39m {\u001b[39m'\u001b[39m\u001b[39mOyo Rooms\u001b[39m\u001b[39m'\u001b[39m:\u001b[39m'\u001b[39m\u001b[39mOyo\u001b[39m\u001b[39m'\u001b[39m, \u001b[39m'\u001b[39m\u001b[39mOyoRooms\u001b[39m\u001b[39m'\u001b[39m:\u001b[39m'\u001b[39m\u001b[39mOyo\u001b[39m\u001b[39m'\u001b[39m,\u001b[39m'\u001b[39m\u001b[39mOYO Rooms\u001b[39m\u001b[39m'\u001b[39m:\u001b[39m'\u001b[39m\u001b[39mOyo\u001b[39m\u001b[39m'\u001b[39m,\u001b[39m'\u001b[39m\u001b[39mOyorooms\u001b[39m\u001b[39m'\u001b[39m:\u001b[39m'\u001b[39m\u001b[39mOyo\u001b[39m\u001b[39m'\u001b[39m, \u001b[39m'\u001b[39m\u001b[39mOlacabs\u001b[39m\u001b[39m'\u001b[39m:\u001b[39m'\u001b[39m\u001b[39mOla\u001b[39m\u001b[39m'\u001b[39m, \u001b[39m'\u001b[39m\u001b[39mOla Cabs\u001b[39m\u001b[39m'\u001b[39m:\u001b[39m'\u001b[39m\u001b[39mOla\u001b[39m\u001b[39m'\u001b[39m,\u001b[39m'\u001b[39m\u001b[39mPaytm Marketplace\u001b[39m\u001b[39m'\u001b[39m:\u001b[39m'\u001b[39m\u001b[39mPaytm\u001b[39m\u001b[39m'\u001b[39m,\u001b[39m'\u001b[39m\u001b[39mFlipkart.com\u001b[39m\u001b[39m'\u001b[39m:\u001b[39m'\u001b[39m\u001b[39mFlipkart\u001b[39m\u001b[39m'\u001b[39m}\n\u001b[0;32m     <a href='vscode-notebook-cell:/c%3A/Users/Ansia/Code/DataScienceCourse/Project_1_CaseStudy/test.ipynb#X21sZmlsZQ%3D%3D?line=14'>15</a>\u001b[0m df_staged[\u001b[39m'\u001b[39m\u001b[39mStartupName\u001b[39m\u001b[39m'\u001b[39m]\u001b[39m.\u001b[39mreplace(changes, inplace \u001b[39m=\u001b[39m \u001b[39mTrue\u001b[39;00m)\n",
      "File \u001b[1;32mc:\\Users\\Ansia\\AppData\\Local\\Programs\\Python\\Python310\\lib\\site-packages\\pandas\\core\\generic.py:1522\u001b[0m, in \u001b[0;36mNDFrame.__invert__\u001b[1;34m(self)\u001b[0m\n\u001b[0;32m   1518\u001b[0m \u001b[39mif\u001b[39;00m \u001b[39mnot\u001b[39;00m \u001b[39mself\u001b[39m\u001b[39m.\u001b[39msize:\n\u001b[0;32m   1519\u001b[0m     \u001b[39m# inv fails with 0 len\u001b[39;00m\n\u001b[0;32m   1520\u001b[0m     \u001b[39mreturn\u001b[39;00m \u001b[39mself\u001b[39m\n\u001b[1;32m-> 1522\u001b[0m new_data \u001b[39m=\u001b[39m \u001b[39mself\u001b[39;49m\u001b[39m.\u001b[39;49m_mgr\u001b[39m.\u001b[39;49mapply(operator\u001b[39m.\u001b[39;49minvert)\n\u001b[0;32m   1523\u001b[0m \u001b[39mreturn\u001b[39;00m \u001b[39mself\u001b[39m\u001b[39m.\u001b[39m_constructor(new_data)\u001b[39m.\u001b[39m__finalize__(\u001b[39mself\u001b[39m, method\u001b[39m=\u001b[39m\u001b[39m\"\u001b[39m\u001b[39m__invert__\u001b[39m\u001b[39m\"\u001b[39m)\n",
      "File \u001b[1;32mc:\\Users\\Ansia\\AppData\\Local\\Programs\\Python\\Python310\\lib\\site-packages\\pandas\\core\\internals\\managers.py:350\u001b[0m, in \u001b[0;36mBaseBlockManager.apply\u001b[1;34m(self, f, align_keys, ignore_failures, **kwargs)\u001b[0m\n\u001b[0;32m    348\u001b[0m \u001b[39mtry\u001b[39;00m:\n\u001b[0;32m    349\u001b[0m     \u001b[39mif\u001b[39;00m callable(f):\n\u001b[1;32m--> 350\u001b[0m         applied \u001b[39m=\u001b[39m b\u001b[39m.\u001b[39mapply(f, \u001b[39m*\u001b[39m\u001b[39m*\u001b[39mkwargs)\n\u001b[0;32m    351\u001b[0m     \u001b[39melse\u001b[39;00m:\n\u001b[0;32m    352\u001b[0m         applied \u001b[39m=\u001b[39m \u001b[39mgetattr\u001b[39m(b, f)(\u001b[39m*\u001b[39m\u001b[39m*\u001b[39mkwargs)\n",
      "File \u001b[1;32mc:\\Users\\Ansia\\AppData\\Local\\Programs\\Python\\Python310\\lib\\site-packages\\pandas\\core\\internals\\blocks.py:351\u001b[0m, in \u001b[0;36mBlock.apply\u001b[1;34m(self, func, **kwargs)\u001b[0m\n\u001b[0;32m    345\u001b[0m \u001b[39m@final\u001b[39m\n\u001b[0;32m    346\u001b[0m \u001b[39mdef\u001b[39;00m \u001b[39mapply\u001b[39m(\u001b[39mself\u001b[39m, func, \u001b[39m*\u001b[39m\u001b[39m*\u001b[39mkwargs) \u001b[39m-\u001b[39m\u001b[39m>\u001b[39m \u001b[39mlist\u001b[39m[Block]:\n\u001b[0;32m    347\u001b[0m     \u001b[39m\"\"\"\u001b[39;00m\n\u001b[0;32m    348\u001b[0m \u001b[39m    apply the function to my values; return a block if we are not\u001b[39;00m\n\u001b[0;32m    349\u001b[0m \u001b[39m    one\u001b[39;00m\n\u001b[0;32m    350\u001b[0m \u001b[39m    \"\"\"\u001b[39;00m\n\u001b[1;32m--> 351\u001b[0m     result \u001b[39m=\u001b[39m func(\u001b[39mself\u001b[39m\u001b[39m.\u001b[39mvalues, \u001b[39m*\u001b[39m\u001b[39m*\u001b[39mkwargs)\n\u001b[0;32m    353\u001b[0m     \u001b[39mreturn\u001b[39;00m \u001b[39mself\u001b[39m\u001b[39m.\u001b[39m_split_op_result(result)\n",
      "\u001b[1;31mTypeError\u001b[0m: bad operand type for unary ~: 'float'"
     ]
    }
   ],
   "source": [
    "import matplotlib.pyplot as plt\n",
    "import pandas as pd\n",
    "import numpy as np\n",
    "\n",
    "data = pd.read_csv(\"Datasets//startup_funding.csv\", encoding='ISO-8859-1', index_col = 0)\n",
    "df = data.copy()\n",
    "df_staged = df.loc[:, ['InvestorsName', 'StartupName']]\n",
    "\n",
    "df_staged.dropna(inplace=True)\n",
    "df_staged['InvestorsName'] = df_staged['InvestorsName'].str.split(',')\n",
    "df_staged = df_staged.explode('InvestorsName')\n",
    "df_staged['InvestorsName'] = df_staged['InvestorsName'].replace('\\.$', '', regex=True).str.strip().str.title()\n",
    "df_staged = df_staged[~df_staged['InvestorsName'].str.contains('Undisclosed')]\n",
    "changes = {'Oyo Rooms':'Oyo', 'OyoRooms':'Oyo','OYO Rooms':'Oyo','Oyorooms':'Oyo', 'Olacabs':'Ola', 'Ola Cabs':'Ola','Paytm Marketplace':'Paytm','Flipkart.com':'Flipkart'}\n",
    "df_staged['StartupName'].replace(changes, inplace = True)\n",
    "df_staged['InvestorsName'].replace(r'^\\s*$', np.nan, regex=True, inplace=True)\n",
    "df_staged['InvestorsName'].dropna(inplace=True)\n",
    "\n",
    "investors = df_staged.value_counts().reset_index(name='Count')\n",
    "investors = investors['InvestorsName']\n",
    "investors = investors.value_counts().reset_index(name='Count')\n",
    "investors.rename(columns={'index':'InvestorsName'}, inplace = True)\n",
    "investors.head(5)"
   ]
  },
  {
   "cell_type": "code",
   "execution_count": null,
   "metadata": {},
   "outputs": [],
   "source": [
    "import matplotlib.pyplot as plt\n",
    "import pandas as pd\n",
    "import numpy as np\n",
    "\n",
    "def lista(l):\n",
    "    return [i.strip() for i in l.split(',')]\n",
    "\n",
    "data = pd.read_csv(\"Datasets//startup_funding.csv\", encoding='ISO-8859-1', index_col = 0)\n",
    "df = data.copy()\n",
    "df.dropna(subset=['InvestorsName'], inplace=True)\n",
    "df = df[~df['InvestorsName'].str.startswith('Undisclosed')]\n",
    "changes = {'Oyo Rooms':'Oyo', 'OyoRooms':'Oyo','OYO Rooms':'Oyo','Oyorooms':'Oyo', 'Olacabs':'Ola', 'Ola Cabs':'Ola','Paytm Marketplace':'Paytm','Flipkart.com':'Flipkart'}\n",
    "df['StartupName'].replace(changes, inplace = True)\n",
    "df['InvestorsName'] = df['InvestorsName'].apply(lista)\n",
    "\n",
    "exploded = df.explode('InvestorsName')\n",
    "exploded['InvestorsName'] = exploded['InvestorsName'].replace(r'^\\s*$', np.nan, regex=True)\n",
    "exploded.dropna(subset=['InvestorsName'], inplace=True)\n",
    "\n",
    "grouped = exploded.groupby(['InvestorsName','StartupName']).size().reset_index(name ='Size')\n",
    "grouped = grouped.sort_values('Size', ascending=False)\n",
    "investors = grouped['InvestorsName']\n",
    "investors.value_counts()[0:5]"
   ]
  }
 ],
 "metadata": {
  "kernelspec": {
   "display_name": "Python 3",
   "language": "python",
   "name": "python3"
  },
  "language_info": {
   "codemirror_mode": {
    "name": "ipython",
    "version": 3
   },
   "file_extension": ".py",
   "mimetype": "text/x-python",
   "name": "python",
   "nbconvert_exporter": "python",
   "pygments_lexer": "ipython3",
   "version": "3.10.0"
  },
  "orig_nbformat": 4,
  "vscode": {
   "interpreter": {
    "hash": "1cb3211df066898bfa33f604a9f08045f479368c210eaa95a0a200394b2af790"
   }
  }
 },
 "nbformat": 4,
 "nbformat_minor": 2
}
